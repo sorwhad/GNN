{
 "cells": [
  {
   "cell_type": "code",
   "execution_count": 1,
   "metadata": {},
   "outputs": [],
   "source": [
    "import requests\n",
    "import matplotlib.pyplot as plt\n",
    "from zlib import adler32\n",
    "import networkx as nx\n",
    "from tqdm.notebook import tqdm\n",
    "import scipy.stats as st\n",
    "import numpy as np"
   ]
  },
  {
   "cell_type": "code",
   "execution_count": 3,
   "metadata": {},
   "outputs": [],
   "source": [
    "stats =  {\"number_nodes\": 1882, \n",
    "\"radius\": [15, 2], \n",
    "\"diameter\": [28, 4], \n",
    "\"average_clustering\": [0.005066798238955518, 0.001], \n",
    "\"average_path_length\": [11.748410823170731, 2], \n",
    "\"number_cc\": [168, 32], \n",
    "\"degree_cdf\": [[0, 1, 2, 3, 4, 5, 6, 7, 8, 9, 10, 11, 12, 13, 14, 15, 16, 17, 19, 21, 24, 46], \n",
    "               [0.0, 0.6902231668437833, 0.8517534537725824, 0.9086078639744952, 0.9378320935175345, 0.9516471838469713, 0.9654622741764081, 0.9723698193411264, 0.9776833156216791, 0.9808714133900106, 0.9845908607863975, 0.9888416578108395, 0.9893730074388948, 0.9925611052072264, 0.9936238044633369, 0.9952178533475027, 0.9957492029755579, 0.9968119022316685, 0.997874601487779, 0.9989373007438895, 0.9994686503719448, 1.0]]}"
   ]
  },
  {
   "cell_type": "code",
   "execution_count": 324,
   "metadata": {},
   "outputs": [
    {
     "data": {
      "text/plain": [
       "[(0, 1),\n",
       " (1, 2),\n",
       " (2, 3),\n",
       " (3, 4),\n",
       " (4, 5),\n",
       " (5, 6),\n",
       " (6, 7),\n",
       " (7, 8),\n",
       " (8, 9),\n",
       " (9, 10),\n",
       " (10, 11),\n",
       " (11, 12),\n",
       " (12, 13),\n",
       " (13, 14),\n",
       " (14, 15)]"
      ]
     },
     "execution_count": 324,
     "metadata": {},
     "output_type": "execute_result"
    }
   ],
   "source": [
    "[(0, 1)] + [(i, i+1) for i in range(1, 15)]"
   ]
  },
  {
   "cell_type": "code",
   "execution_count": 334,
   "metadata": {},
   "outputs": [
    {
     "data": {
      "text/plain": [
       "(30, 15)"
      ]
     },
     "execution_count": 334,
     "metadata": {},
     "output_type": "execute_result"
    }
   ],
   "source": [
    "G = nx.Graph()\n",
    "n = 0 * 15\n",
    "arr1 = [(0, 1 + n)] + [(i + n, i+1 + n) for i in range(1, 15)]\n",
    "n = 1 * 15\n",
    "arr2 = [(0, 1 + n)] + [(i + n, i+1 + n) for i in range(1, 15)]\n",
    "n = 2 * 15\n",
    "arr3 = [(0, 1 + n)] + [(i + n, i+1 + n) for i in range(1, 15)]\n",
    "G.add_edges_from(arr1)\n",
    "G.add_edges_from(arr2)\n",
    "G.add_edges_from(arr3)\n",
    "# G.add_edges_from([(i+15, i+1+15) for i in range(15)])\n",
    "# G.add_edges_from([(i+30, i+1+30) for i in range(15)])\n",
    "nx.diameter(G), nx.radius(G)\n",
    "\n",
    "\n",
    "\n",
    "\n"
   ]
  },
  {
   "cell_type": "code",
   "execution_count": 349,
   "metadata": {},
   "outputs": [
    {
     "data": {
      "text/plain": [
       "(30, 15)"
      ]
     },
     "execution_count": 349,
     "metadata": {},
     "output_type": "execute_result"
    }
   ],
   "source": [
    "G = nx.Graph()\n",
    "for i in range(103):\n",
    "    n = i * 15\n",
    "    arr = [(0, 1 + n)] + [(i + n, i+1 + n) for i in range(1, 15)]\n",
    "    G.add_edges_from(arr)\n",
    "\n",
    "\n",
    "nx.diameter(G), nx.radius(G)"
   ]
  },
  {
   "cell_type": "code",
   "execution_count": 350,
   "metadata": {},
   "outputs": [],
   "source": [
    "for i in range(max(G.nodes), 1881, 2):\n",
    "    G.add_edge(i, i+1)"
   ]
  },
  {
   "cell_type": "code",
   "execution_count": 351,
   "metadata": {},
   "outputs": [
    {
     "data": {
      "text/plain": [
       "1880"
      ]
     },
     "execution_count": 351,
     "metadata": {},
     "output_type": "execute_result"
    }
   ],
   "source": [
    "max(G.nodes)"
   ]
  },
  {
   "cell_type": "code",
   "execution_count": 352,
   "metadata": {},
   "outputs": [],
   "source": [
    "G.add_edge(max(G.nodes), 1881)"
   ]
  },
  {
   "cell_type": "code",
   "execution_count": 353,
   "metadata": {},
   "outputs": [
    {
     "data": {
      "text/plain": [
       "1882"
      ]
     },
     "execution_count": 353,
     "metadata": {},
     "output_type": "execute_result"
    }
   ],
   "source": [
    "len(G.nodes)"
   ]
  },
  {
   "cell_type": "code",
   "execution_count": 356,
   "metadata": {},
   "outputs": [
    {
     "data": {
      "text/plain": [
       "31"
      ]
     },
     "execution_count": 356,
     "metadata": {},
     "output_type": "execute_result"
    }
   ],
   "source": [
    "def select_gygantic_component(g: nx.Graph) -> nx.Graph:\n",
    "    conn_subgrs = [g.subgraph(each) for each in nx.connected_components(g)]\n",
    "    gcomp = max(nx.connected_components(g), key=len)\n",
    "    giant = g.subgraph(gcomp)\n",
    "    return giant\n",
    "\n",
    "gcc = select_gygantic_component(G)\n",
    "\n",
    "nx.diameter(gcc)"
   ]
  },
  {
   "cell_type": "code",
   "execution_count": 357,
   "metadata": {},
   "outputs": [
    {
     "data": {
      "text/plain": [
       "16"
      ]
     },
     "execution_count": 357,
     "metadata": {},
     "output_type": "execute_result"
    }
   ],
   "source": [
    "nx.radius(gcc)"
   ]
  },
  {
   "cell_type": "code",
   "execution_count": 358,
   "metadata": {},
   "outputs": [
    {
     "data": {
      "text/plain": [
       "0.0"
      ]
     },
     "execution_count": 358,
     "metadata": {},
     "output_type": "execute_result"
    }
   ],
   "source": [
    "nx.average_clustering(G) # 0.005 +- 0.001"
   ]
  },
  {
   "cell_type": "code",
   "execution_count": 359,
   "metadata": {},
   "outputs": [
    {
     "data": {
      "text/plain": [
       "168"
      ]
     },
     "execution_count": 359,
     "metadata": {},
     "output_type": "execute_result"
    }
   ],
   "source": [
    "nx.number_connected_components(G) # 168 +- 32"
   ]
  },
  {
   "cell_type": "code",
   "execution_count": 360,
   "metadata": {},
   "outputs": [],
   "source": [
    "lst = list(map(lambda x: f'{x[0]} {x[1]}\\n', list(G.edges)))\n",
    "\n",
    "with open('file.txt', 'w') as f: \n",
    "    f.writelines(lst)\n",
    "# list(G.edges)"
   ]
  },
  {
   "cell_type": "markdown",
   "metadata": {},
   "source": [
    "------------------"
   ]
  },
  {
   "cell_type": "code",
   "execution_count": 333,
   "metadata": {},
   "outputs": [
    {
     "data": {
      "image/png": "[encoded data removed]",
      "text/plain": [
       "<Figure size 432x288 with 1 Axes>"
      ]
     },
     "metadata": {},
     "output_type": "display_data"
    }
   ],
   "source": [
    "nx.draw(G)"
   ]
  },
  {
   "cell_type": "code",
   "execution_count": 4,
   "metadata": {},
   "outputs": [
    {
     "data": {
      "image/png": "[encoded data removed]",
      "text/plain": [
       "<Figure size 432x288 with 1 Axes>"
      ]
     },
     "metadata": {
      "needs_background": "light"
     },
     "output_type": "display_data"
    }
   ],
   "source": [
    "q_seq, p_seq = stats['degree_cdf']\n",
    "plt.plot(\n",
    "    np.append(np.repeat(q_seq, 2)[1:], q_seq[-1]), \n",
    "    np.repeat(p_seq, 2)\n",
    ")\n",
    "plt.show()\n"
   ]
  },
  {
   "cell_type": "code",
   "execution_count": null,
   "metadata": {},
   "outputs": [],
   "source": []
  },
  {
   "cell_type": "code",
   "execution_count": 16,
   "metadata": {},
   "outputs": [],
   "source": [
    "G = nx.barabasi_albert_graph(1882, 1, seed=3)"
   ]
  },
  {
   "cell_type": "code",
   "execution_count": 29,
   "metadata": {},
   "outputs": [],
   "source": [
    "G = nx.gnp_random_graph(1882, 10)"
   ]
  },
  {
   "cell_type": "code",
   "execution_count": null,
   "metadata": {},
   "outputs": [],
   "source": [
    "def random_edges(nodes, p):\n",
    "    n = len(nodes)\n",
    "    edges = []\n",
    "    v=1\n",
    "    w=-1 \n",
    "    lp=np.log(1.0-p)\n",
    "    while v<n: \n",
    "        lr=np.log(1.0-np.random.random()) \n",
    "        w=w+1+int(lr/lp)\n",
    "        while w>=v and v<n:\n",
    "            w=w-v \n",
    "            v=v+1 \n",
    "        if v<n:\n",
    "            edges.append((v, w))\n",
    "\n",
    "    return np.array(edges)\n",
    "\n",
    "def random_from_real(graph):\n",
    "    # YOUR CODE HERE\n",
    "    G = nx.Graph()\n",
    "    # G.add_nodes_from(graph.nodes)\n",
    "    nodes = graph.nodes\n",
    "    n = len(nodes)\n",
    "\n",
    "    average_node_degree = np.mean(list(dict(graph.degree).values()))\n",
    "    p = average_node_degree / (n - 1) \n",
    "\n",
    "    edges = random_edges(nodes, p)\n",
    "    G.add_edges_from(edges)\n",
    "\n",
    "    max_node_real = int(max(graph.nodes))\n",
    "\n",
    "    while n > len(G.nodes):\n",
    "        max_node_real += 1\n",
    "        G.add_node(str(max_node_real))\n",
    "\n",
    "    \n",
    "    return G \n",
    "    "
   ]
  },
  {
   "cell_type": "markdown",
   "metadata": {},
   "source": [
    "G = nx.dual_barabasi_albert_graph(1882, 1, 1, 0.05, seed=0)\n",
    "G = nx.dual_barabasi_albert_graph(1882, 1, 1, 0.1, seed=0)\n",
    "\n"
   ]
  },
  {
   "cell_type": "markdown",
   "metadata": {},
   "source": [
    "G = nx.fast_gnp_random_graph(1882, 0.0013, seed=0)"
   ]
  },
  {
   "cell_type": "code",
   "execution_count": 286,
   "metadata": {},
   "outputs": [],
   "source": [
    "G = nx.fast_gnp_random_graph(1882, 0.0013, seed=0)\n",
    "\n",
    "def select_gygantic_component(g: nx.Graph) -> nx.Graph:\n",
    "    conn_subgrs = [g.subgraph(each) for each in nx.connected_components(g)]\n",
    "    gcomp = max(nx.connected_components(g), key=len)\n",
    "    giant = g.subgraph(gcomp)\n",
    "    return giant\n",
    "\n",
    "gcc = select_gygantic_component(G)"
   ]
  },
  {
   "cell_type": "code",
   "execution_count": 303,
   "metadata": {},
   "outputs": [
    {
     "data": {
      "text/plain": [
       "19"
      ]
     },
     "execution_count": 303,
     "metadata": {},
     "output_type": "execute_result"
    }
   ],
   "source": [
    "nx.approximation.diameter(gcc)"
   ]
  },
  {
   "cell_type": "code",
   "execution_count": 310,
   "metadata": {},
   "outputs": [],
   "source": [
    "nx.diameter(gcc) # 28 +- 4"
   ]
  },
  {
   "cell_type": "code",
   "execution_count": 301,
   "metadata": {},
   "outputs": [],
   "source": [
    "for iso in list(nx.isolates(G)):\n",
    "    G.add_edge(iso, np.random.randint(1882 + 1))"
   ]
  },
  {
   "cell_type": "code",
   "execution_count": 305,
   "metadata": {},
   "outputs": [
    {
     "data": {
      "text/plain": [
       "12"
      ]
     },
     "execution_count": 305,
     "metadata": {},
     "output_type": "execute_result"
    }
   ],
   "source": [
    "nx.radius(gcc) # 15 +- 2"
   ]
  },
  {
   "cell_type": "code",
   "execution_count": 306,
   "metadata": {},
   "outputs": [
    {
     "data": {
      "text/plain": [
       "0.002410050098679217"
      ]
     },
     "execution_count": 306,
     "metadata": {},
     "output_type": "execute_result"
    }
   ],
   "source": [
    "nx.average_clustering(G) # 0.005 +- 0.001"
   ]
  },
  {
   "cell_type": "code",
   "execution_count": null,
   "metadata": {},
   "outputs": [],
   "source": []
  },
  {
   "cell_type": "code",
   "execution_count": 307,
   "metadata": {},
   "outputs": [
    {
     "ename": "NetworkXError",
     "evalue": "Graph is not connected.",
     "output_type": "error",
     "traceback": [
      "\u001b[0;31m---------------------------------------------------------------------------\u001b[0m",
      "\u001b[0;31mNetworkXError\u001b[0m                             Traceback (most recent call last)",
      "\u001b[0;32m<ipython-input-307-f642fa04f6ff>\u001b[0m in \u001b[0;36m<module>\u001b[0;34m\u001b[0m\n\u001b[0;32m----> 1\u001b[0;31m \u001b[0mnx\u001b[0m\u001b[0;34m.\u001b[0m\u001b[0maverage_shortest_path_length\u001b[0m\u001b[0;34m(\u001b[0m\u001b[0mG\u001b[0m\u001b[0;34m)\u001b[0m \u001b[0;31m# 12 +- 2\u001b[0m\u001b[0;34m\u001b[0m\u001b[0;34m\u001b[0m\u001b[0m\n\u001b[0m",
      "\u001b[0;32m/Library/Frameworks/Python.framework/Versions/3.9/lib/python3.9/site-packages/networkx/algorithms/shortest_paths/generic.py\u001b[0m in \u001b[0;36maverage_shortest_path_length\u001b[0;34m(G, weight, method)\u001b[0m\n\u001b[1;32m    387\u001b[0m         \u001b[0;32mraise\u001b[0m \u001b[0mnx\u001b[0m\u001b[0;34m.\u001b[0m\u001b[0mNetworkXError\u001b[0m\u001b[0;34m(\u001b[0m\u001b[0;34m\"Graph is not weakly connected.\"\u001b[0m\u001b[0;34m)\u001b[0m\u001b[0;34m\u001b[0m\u001b[0;34m\u001b[0m\u001b[0m\n\u001b[1;32m    388\u001b[0m     \u001b[0;32mif\u001b[0m \u001b[0;32mnot\u001b[0m \u001b[0mG\u001b[0m\u001b[0;34m.\u001b[0m\u001b[0mis_directed\u001b[0m\u001b[0;34m(\u001b[0m\u001b[0;34m)\u001b[0m \u001b[0;32mand\u001b[0m \u001b[0;32mnot\u001b[0m \u001b[0mnx\u001b[0m\u001b[0;34m.\u001b[0m\u001b[0mis_connected\u001b[0m\u001b[0;34m(\u001b[0m\u001b[0mG\u001b[0m\u001b[0;34m)\u001b[0m\u001b[0;34m:\u001b[0m\u001b[0;34m\u001b[0m\u001b[0;34m\u001b[0m\u001b[0m\n\u001b[0;32m--> 389\u001b[0;31m         \u001b[0;32mraise\u001b[0m \u001b[0mnx\u001b[0m\u001b[0;34m.\u001b[0m\u001b[0mNetworkXError\u001b[0m\u001b[0;34m(\u001b[0m\u001b[0;34m\"Graph is not connected.\"\u001b[0m\u001b[0;34m)\u001b[0m\u001b[0;34m\u001b[0m\u001b[0;34m\u001b[0m\u001b[0m\n\u001b[0m\u001b[1;32m    390\u001b[0m \u001b[0;34m\u001b[0m\u001b[0m\n\u001b[1;32m    391\u001b[0m     \u001b[0;31m# Compute all-pairs shortest paths.\u001b[0m\u001b[0;34m\u001b[0m\u001b[0;34m\u001b[0m\u001b[0;34m\u001b[0m\u001b[0m\n",
      "\u001b[0;31mNetworkXError\u001b[0m: Graph is not connected."
     ]
    }
   ],
   "source": [
    "nx.average_shortest_path_length(G) # 12 +- 2"
   ]
  },
  {
   "cell_type": "code",
   "execution_count": 308,
   "metadata": {},
   "outputs": [
    {
     "data": {
      "text/plain": [
       "25"
      ]
     },
     "execution_count": 308,
     "metadata": {},
     "output_type": "execute_result"
    }
   ],
   "source": [
    "nx.number_connected_components(G) # 168 +- 32"
   ]
  },
  {
   "cell_type": "code",
   "execution_count": 309,
   "metadata": {},
   "outputs": [],
   "source": [
    "lst = list(map(lambda x: f'{x[0]} {x[1]}\\n', list(G.edges)))\n",
    "\n",
    "with open('file.txt', 'w') as f: \n",
    "    f.writelines(lst)\n",
    "# list(G.edges)"
   ]
  },
  {
   "cell_type": "code",
   "execution_count": null,
   "metadata": {},
   "outputs": [],
   "source": []
  },
  {
   "cell_type": "code",
   "execution_count": 362,
   "metadata": {},
   "outputs": [],
   "source": [
    "def empirical_cdf(g: nx.Graph):\n",
    "    hist = np.array(nx.degree_histogram(g))\n",
    "    hist = hist / sum(hist)\n",
    "    return hist.cumsum()"
   ]
  },
  {
   "cell_type": "code",
   "execution_count": 363,
   "metadata": {},
   "outputs": [
    {
     "data": {
      "text/plain": [
       "array([0.        , 0.23219979, 0.99946865, 0.99946865, 0.99946865,\n",
       "       0.99946865, 0.99946865, 0.99946865, 0.99946865, 0.99946865,\n",
       "       0.99946865, 0.99946865, 0.99946865, 0.99946865, 0.99946865,\n",
       "       0.99946865, 0.99946865, 0.99946865, 0.99946865, 0.99946865,\n",
       "       0.99946865, 0.99946865, 0.99946865, 0.99946865, 0.99946865,\n",
       "       0.99946865, 0.99946865, 0.99946865, 0.99946865, 0.99946865,\n",
       "       0.99946865, 0.99946865, 0.99946865, 0.99946865, 0.99946865,\n",
       "       0.99946865, 0.99946865, 0.99946865, 0.99946865, 0.99946865,\n",
       "       0.99946865, 0.99946865, 0.99946865, 0.99946865, 0.99946865,\n",
       "       0.99946865, 0.99946865, 0.99946865, 0.99946865, 0.99946865,\n",
       "       0.99946865, 0.99946865, 0.99946865, 0.99946865, 0.99946865,\n",
       "       0.99946865, 0.99946865, 0.99946865, 0.99946865, 0.99946865,\n",
       "       0.99946865, 0.99946865, 0.99946865, 0.99946865, 0.99946865,\n",
       "       0.99946865, 0.99946865, 0.99946865, 0.99946865, 0.99946865,\n",
       "       0.99946865, 0.99946865, 0.99946865, 0.99946865, 0.99946865,\n",
       "       0.99946865, 0.99946865, 0.99946865, 0.99946865, 0.99946865,\n",
       "       0.99946865, 0.99946865, 0.99946865, 0.99946865, 0.99946865,\n",
       "       0.99946865, 0.99946865, 0.99946865, 0.99946865, 0.99946865,\n",
       "       0.99946865, 0.99946865, 0.99946865, 0.99946865, 0.99946865,\n",
       "       0.99946865, 0.99946865, 0.99946865, 0.99946865, 0.99946865,\n",
       "       0.99946865, 0.99946865, 0.99946865, 1.        ])"
      ]
     },
     "execution_count": 363,
     "metadata": {},
     "output_type": "execute_result"
    }
   ],
   "source": [
    "ecdf = empirical_cdf(G)\n",
    "ecdf"
   ]
  },
  {
   "cell_type": "code",
   "execution_count": 364,
   "metadata": {},
   "outputs": [
    {
     "data": {
      "image/png": "[encoded data removed]",
      "text/plain": [
       "<Figure size 432x288 with 1 Axes>"
      ]
     },
     "metadata": {
      "needs_background": "light"
     },
     "output_type": "display_data"
    }
   ],
   "source": [
    "plt.plot(ecdf)\n",
    "plt.xlabel('degree')\n",
    "plt.ylabel('probability')\n",
    "# plt.title('Empirical CDF')\n",
    "\n",
    "\n",
    "q_seq, p_seq = stats['degree_cdf']\n",
    "plt.plot(\n",
    "    np.append(np.repeat(q_seq, 2)[1:], q_seq[-1]), \n",
    "    np.repeat(p_seq, 2), color='r'\n",
    ")\n",
    "plt.show()\n"
   ]
  },
  {
   "cell_type": "code",
   "execution_count": null,
   "metadata": {},
   "outputs": [],
   "source": []
  }
 ],
 "metadata": {
  "kernelspec": {
   "display_name": "Python 3.9.0 64-bit",
   "language": "python",
   "name": "python3"
  },
  "language_info": {
   "codemirror_mode": {
    "name": "ipython",
    "version": 3
   },
   "file_extension": ".py",
   "mimetype": "text/x-python",
   "name": "python",
   "nbconvert_exporter": "python",
   "pygments_lexer": "ipython3",
   "version": "3.9.0"
  },
  "orig_nbformat": 4,
  "vscode": {
   "interpreter": {
    "hash": "397704579725e15f5c7cb49fe5f0341eb7531c82d19f2c29d197e8b64ab5776b"
   }
  }
 },
 "nbformat": 4,
 "nbformat_minor": 2
}
