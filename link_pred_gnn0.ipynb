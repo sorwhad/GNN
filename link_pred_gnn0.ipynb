{
  "cells": [
    {
      "cell_type": "markdown",
      "id": "3c4b657b",
      "metadata": {
        "id": "3c4b657b"
      },
      "source": [
        "# Assignment — Link Prediction & GNN"
      ]
    },
    {
      "cell_type": "code",
      "execution_count": 8,
      "id": "df197898",
      "metadata": {
        "execution": {
          "iopub.execute_input": "2022-11-24T16:42:11.532019Z",
          "iopub.status.busy": "2022-11-24T16:42:11.530888Z",
          "iopub.status.idle": "2022-11-24T16:42:19.903717Z",
          "shell.execute_reply": "2022-11-24T16:42:19.903717Z"
        },
        "id": "df197898"
      },
      "outputs": [],
      "source": [
        "from sklearn.metrics import balanced_accuracy_score\n",
        "from sklearn.manifold import TSNE\n",
        "import torch.nn.functional as F\n",
        "from sklearn.decomposition import TruncatedSVD\n",
        "import requests\n",
        "from sklearn.metrics import roc_curve, auc\n",
        "import networkx as nx\n",
        "from torch.optim import Adam\n",
        "import numpy as np\n",
        "from tqdm.notebook import tqdm\n",
        "import torch\n",
        "from tqdm.notebook import trange\n",
        "from sklearn.linear_model import LogisticRegression\n",
        "import torch.nn as nn\n",
        "import pandas as pd\n",
        "import matplotlib.pyplot as plt"
      ]
    },
    {
      "cell_type": "markdown",
      "id": "eac7a65a",
      "metadata": {
        "id": "eac7a65a"
      },
      "source": [
        "### Task 1. Dataset for link prediction (0 points)"
      ]
    },
    {
      "cell_type": "markdown",
      "id": "20733319",
      "metadata": {
        "id": "20733319"
      },
      "source": [
        "Consider link prediction on the [e-mails network](http://snap.stanford.edu/data/email-Eu-core-temporal.html) where nodes are members of a research institution and edges are e-mails given with timestamps. The goal is to predict occurrence of edges in the test time period using information from the train time period only."
      ]
    },
    {
      "cell_type": "code",
      "execution_count": 9,
      "id": "e17e6713",
      "metadata": {
        "execution": {
          "iopub.execute_input": "2022-11-24T16:42:19.903717Z",
          "iopub.status.busy": "2022-11-24T16:42:19.903717Z",
          "iopub.status.idle": "2022-11-24T16:42:19.919334Z",
          "shell.execute_reply": "2022-11-24T16:42:19.919334Z"
        },
        "id": "e17e6713"
      },
      "outputs": [],
      "source": [
        "url = 'https://raw.githubusercontent.com/netspractice/network-science/main/datasets/email-Eu-core-temporal.txt'\n",
        "open('email-Eu-core-temporal.txt', 'wb').write(requests.get(url).content);\n"
      ]
    },
    {
      "cell_type": "code",
      "execution_count": 10,
      "id": "f3168835",
      "metadata": {
        "execution": {
          "iopub.execute_input": "2022-11-24T16:42:19.919334Z",
          "iopub.status.busy": "2022-11-24T16:42:19.919334Z",
          "iopub.status.idle": "2022-11-24T16:42:19.934973Z",
          "shell.execute_reply": "2022-11-24T16:42:19.934973Z"
        },
        "id": "f3168835",
        "colab": {
          "base_uri": "https://localhost:8080/",
          "height": 424
        },
        "outputId": "79230ce8-ec0b-4b5d-c3d5-be620ee30874"
      },
      "outputs": [
        {
          "output_type": "execute_result",
          "data": {
            "text/plain": [
              "        sender  receiver  timestamp\n",
              "0          582       364          0\n",
              "1          168       472       2797\n",
              "2          168       912       3304\n",
              "3            2       790       4523\n",
              "4            2       322       7926\n",
              "...        ...       ...        ...\n",
              "332329     324       367   45401817\n",
              "332330     790       126   45402441\n",
              "332331     790       126   45403709\n",
              "332332     782       126   45404903\n",
              "332333     685       643   45405138\n",
              "\n",
              "[332334 rows x 3 columns]"
            ],
            "text/html": [
              "\n",
              "  <div id=\"df-05fd7213-13de-40ac-8de5-2cbeebc6589f\">\n",
              "    <div class=\"colab-df-container\">\n",
              "      <div>\n",
              "<style scoped>\n",
              "    .dataframe tbody tr th:only-of-type {\n",
              "        vertical-align: middle;\n",
              "    }\n",
              "\n",
              "    .dataframe tbody tr th {\n",
              "        vertical-align: top;\n",
              "    }\n",
              "\n",
              "    .dataframe thead th {\n",
              "        text-align: right;\n",
              "    }\n",
              "</style>\n",
              "<table border=\"1\" class=\"dataframe\">\n",
              "  <thead>\n",
              "    <tr style=\"text-align: right;\">\n",
              "      <th></th>\n",
              "      <th>sender</th>\n",
              "      <th>receiver</th>\n",
              "      <th>timestamp</th>\n",
              "    </tr>\n",
              "  </thead>\n",
              "  <tbody>\n",
              "    <tr>\n",
              "      <th>0</th>\n",
              "      <td>582</td>\n",
              "      <td>364</td>\n",
              "      <td>0</td>\n",
              "    </tr>\n",
              "    <tr>\n",
              "      <th>1</th>\n",
              "      <td>168</td>\n",
              "      <td>472</td>\n",
              "      <td>2797</td>\n",
              "    </tr>\n",
              "    <tr>\n",
              "      <th>2</th>\n",
              "      <td>168</td>\n",
              "      <td>912</td>\n",
              "      <td>3304</td>\n",
              "    </tr>\n",
              "    <tr>\n",
              "      <th>3</th>\n",
              "      <td>2</td>\n",
              "      <td>790</td>\n",
              "      <td>4523</td>\n",
              "    </tr>\n",
              "    <tr>\n",
              "      <th>4</th>\n",
              "      <td>2</td>\n",
              "      <td>322</td>\n",
              "      <td>7926</td>\n",
              "    </tr>\n",
              "    <tr>\n",
              "      <th>...</th>\n",
              "      <td>...</td>\n",
              "      <td>...</td>\n",
              "      <td>...</td>\n",
              "    </tr>\n",
              "    <tr>\n",
              "      <th>332329</th>\n",
              "      <td>324</td>\n",
              "      <td>367</td>\n",
              "      <td>45401817</td>\n",
              "    </tr>\n",
              "    <tr>\n",
              "      <th>332330</th>\n",
              "      <td>790</td>\n",
              "      <td>126</td>\n",
              "      <td>45402441</td>\n",
              "    </tr>\n",
              "    <tr>\n",
              "      <th>332331</th>\n",
              "      <td>790</td>\n",
              "      <td>126</td>\n",
              "      <td>45403709</td>\n",
              "    </tr>\n",
              "    <tr>\n",
              "      <th>332332</th>\n",
              "      <td>782</td>\n",
              "      <td>126</td>\n",
              "      <td>45404903</td>\n",
              "    </tr>\n",
              "    <tr>\n",
              "      <th>332333</th>\n",
              "      <td>685</td>\n",
              "      <td>643</td>\n",
              "      <td>45405138</td>\n",
              "    </tr>\n",
              "  </tbody>\n",
              "</table>\n",
              "<p>332334 rows × 3 columns</p>\n",
              "</div>\n",
              "      <button class=\"colab-df-convert\" onclick=\"convertToInteractive('df-05fd7213-13de-40ac-8de5-2cbeebc6589f')\"\n",
              "              title=\"Convert this dataframe to an interactive table.\"\n",
              "              style=\"display:none;\">\n",
              "        \n",
              "  <svg xmlns=\"http://www.w3.org/2000/svg\" height=\"24px\"viewBox=\"0 0 24 24\"\n",
              "       width=\"24px\">\n",
              "    <path d=\"M0 0h24v24H0V0z\" fill=\"none\"/>\n",
              "    <path d=\"M18.56 5.44l.94 2.06.94-2.06 2.06-.94-2.06-.94-.94-2.06-.94 2.06-2.06.94zm-11 1L8.5 8.5l.94-2.06 2.06-.94-2.06-.94L8.5 2.5l-.94 2.06-2.06.94zm10 10l.94 2.06.94-2.06 2.06-.94-2.06-.94-.94-2.06-.94 2.06-2.06.94z\"/><path d=\"M17.41 7.96l-1.37-1.37c-.4-.4-.92-.59-1.43-.59-.52 0-1.04.2-1.43.59L10.3 9.45l-7.72 7.72c-.78.78-.78 2.05 0 2.83L4 21.41c.39.39.9.59 1.41.59.51 0 1.02-.2 1.41-.59l7.78-7.78 2.81-2.81c.8-.78.8-2.07 0-2.86zM5.41 20L4 18.59l7.72-7.72 1.47 1.35L5.41 20z\"/>\n",
              "  </svg>\n",
              "      </button>\n",
              "      \n",
              "  <style>\n",
              "    .colab-df-container {\n",
              "      display:flex;\n",
              "      flex-wrap:wrap;\n",
              "      gap: 12px;\n",
              "    }\n",
              "\n",
              "    .colab-df-convert {\n",
              "      background-color: #E8F0FE;\n",
              "      border: none;\n",
              "      border-radius: 50%;\n",
              "      cursor: pointer;\n",
              "      display: none;\n",
              "      fill: #1967D2;\n",
              "      height: 32px;\n",
              "      padding: 0 0 0 0;\n",
              "      width: 32px;\n",
              "    }\n",
              "\n",
              "    .colab-df-convert:hover {\n",
              "      background-color: #E2EBFA;\n",
              "      box-shadow: 0px 1px 2px rgba(60, 64, 67, 0.3), 0px 1px 3px 1px rgba(60, 64, 67, 0.15);\n",
              "      fill: #174EA6;\n",
              "    }\n",
              "\n",
              "    [theme=dark] .colab-df-convert {\n",
              "      background-color: #3B4455;\n",
              "      fill: #D2E3FC;\n",
              "    }\n",
              "\n",
              "    [theme=dark] .colab-df-convert:hover {\n",
              "      background-color: #434B5C;\n",
              "      box-shadow: 0px 1px 3px 1px rgba(0, 0, 0, 0.15);\n",
              "      filter: drop-shadow(0px 1px 2px rgba(0, 0, 0, 0.3));\n",
              "      fill: #FFFFFF;\n",
              "    }\n",
              "  </style>\n",
              "\n",
              "      <script>\n",
              "        const buttonEl =\n",
              "          document.querySelector('#df-05fd7213-13de-40ac-8de5-2cbeebc6589f button.colab-df-convert');\n",
              "        buttonEl.style.display =\n",
              "          google.colab.kernel.accessAllowed ? 'block' : 'none';\n",
              "\n",
              "        async function convertToInteractive(key) {\n",
              "          const element = document.querySelector('#df-05fd7213-13de-40ac-8de5-2cbeebc6589f');\n",
              "          const dataTable =\n",
              "            await google.colab.kernel.invokeFunction('convertToInteractive',\n",
              "                                                     [key], {});\n",
              "          if (!dataTable) return;\n",
              "\n",
              "          const docLinkHtml = 'Like what you see? Visit the ' +\n",
              "            '<a target=\"_blank\" href=https://colab.research.google.com/notebooks/data_table.ipynb>data table notebook</a>'\n",
              "            + ' to learn more about interactive tables.';\n",
              "          element.innerHTML = '';\n",
              "          dataTable['output_type'] = 'display_data';\n",
              "          await google.colab.output.renderOutput(dataTable, element);\n",
              "          const docLink = document.createElement('div');\n",
              "          docLink.innerHTML = docLinkHtml;\n",
              "          element.appendChild(docLink);\n",
              "        }\n",
              "      </script>\n",
              "    </div>\n",
              "  </div>\n",
              "  "
            ]
          },
          "metadata": {},
          "execution_count": 10
        }
      ],
      "source": [
        "email_df = pd.read_csv(\n",
        "    'email-Eu-core-temporal.txt', \n",
        "    delimiter=' ', \n",
        "    names=['sender', 'receiver', 'timestamp']\n",
        ")\n",
        "email_df\n"
      ]
    },
    {
      "cell_type": "markdown",
      "id": "03d5769f",
      "metadata": {
        "id": "03d5769f"
      },
      "source": [
        "Next, consider the following preprocessing procedure:\n",
        "1. Select edges by given train and test time periods, for example, [0, 1000) is train and [1000, 2000) is test\n",
        "2. Build a _core_ — a connected network where every edge occurs at least $k_\\text{train}$ times in the train time period or at least $k_\\text{test}$ times in the test time period. Let the core be undirected, so occurrences edges (1, 0) and (0, 1) are computed together.\n",
        "3. From the core, select a train set of edges $E_\\text{train}$ that occur for the first time in the train period. All others are included to $E_\\text{test}$.\n",
        "3. Exclude test edges that contain nodes that do not occur in train edges.\n",
        "\n",
        "Write a function `train_test_edges` that takes a pd.DataFrame `email_df` with e-mail network, a tuple with the train time period borders `train_period`, say, (0, 1000), a similar tuple `test_period`, the number of edges occurrences `ktrain` and `ktest`. The function returns two lists with tuples — train and test edges. Every edge is returned of the form where the first node is less than the second, for example [(1, 2), (2, 3)] is ok, but [(2, 1), (3, 2)] is wrong."
      ]
    },
    {
      "cell_type": "code",
      "execution_count": 11,
      "id": "d93c860f",
      "metadata": {
        "execution": {
          "iopub.execute_input": "2022-11-24T16:42:19.934973Z",
          "iopub.status.busy": "2022-11-24T16:42:19.934973Z",
          "iopub.status.idle": "2022-11-24T16:42:19.950591Z",
          "shell.execute_reply": "2022-11-24T16:42:19.950591Z"
        },
        "id": "d93c860f",
        "nbgrader": {
          "checksum": "d02465886cf63caec30af195db4cf5b9",
          "grade": false,
          "grade_id": "cell-676bd18fcab3c342",
          "locked": false,
          "schema_version": 3,
          "solution": true,
          "task": false
        }
      },
      "outputs": [],
      "source": [
        "def train_test_edges(email_df, train_period, test_period, ktrain, ktest):\n",
        "    \n",
        "    email_temp = email_df.copy()\n",
        "    email_temp = email_temp[\n",
        "        (train_period[0] <= email_temp.timestamp) \n",
        "        & (email_temp.timestamp < test_period[1])\n",
        "    ]\n",
        "    email_temp['from'] = email_temp[['sender', 'receiver']].min(axis=1)\n",
        "    email_temp['to'] = email_temp[['sender', 'receiver']].max(axis=1)\n",
        "    email_temp = email_temp.drop(['sender', 'receiver'], axis=1)\n",
        "    email_temp = email_temp.set_index(['from', 'to'])\n",
        "\n",
        "    email_train = email_temp[email_temp.timestamp < train_period[1]]\n",
        "    email_train = email_train.groupby(['from', 'to']).count()\n",
        "    train_core = email_train[email_train.timestamp >= ktrain].index.tolist()\n",
        "\n",
        "    email_test = email_temp[test_period[0] <= email_temp.timestamp]\n",
        "    email_test = email_test.groupby(['from', 'to']).count()\n",
        "    test_core = email_test[email_test.timestamp >= ktest].index.tolist()\n",
        "    \n",
        "    core = list(set(train_core + test_core))\n",
        "\n",
        "    ### BEGIN SOLUTION\n",
        "    email_first = email_temp.loc[core].groupby(['from', 'to']).min()\n",
        "\n",
        "    train_edges = email_first[email_first.timestamp < train_period[1]].index.tolist()\n",
        "    _test_edges = email_first[test_period[0] <= email_first.timestamp].index.tolist()\n",
        "    \n",
        "    train_nodes = set()\n",
        "    for (u, v) in train_edges:\n",
        "        train_nodes.add(u)\n",
        "        train_nodes.add(v)\n",
        "    test_edges = []\n",
        "    for (u, v) in _test_edges:\n",
        "        if u in train_nodes and v in train_nodes:\n",
        "            test_edges.append((u, v))\n",
        "    \n",
        "    return train_edges, test_edges\n",
        "    ### END SOLUTION"
      ]
    },
    {
      "cell_type": "code",
      "execution_count": 7,
      "id": "a303fa7c",
      "metadata": {
        "execution": {
          "iopub.execute_input": "2022-11-24T16:42:19.950591Z",
          "iopub.status.busy": "2022-11-24T16:42:19.950591Z",
          "iopub.status.idle": "2022-11-24T16:42:19.981841Z",
          "shell.execute_reply": "2022-11-24T16:42:19.981841Z"
        },
        "id": "a303fa7c",
        "nbgrader": {
          "checksum": "986741c4dd56205f3c9f200d31ede426",
          "grade": true,
          "grade_id": "cell-a77f2fa764e87595",
          "locked": true,
          "points": 0,
          "schema_version": 3,
          "solution": false,
          "task": false
        },
        "colab": {
          "base_uri": "https://localhost:8080/",
          "height": 240
        },
        "outputId": "0b733d9b-6717-42cd-d468-cec730dc237e"
      },
      "outputs": [
        {
          "output_type": "error",
          "ename": "NameError",
          "evalue": "ignored",
          "traceback": [
            "\u001b[0;31m---------------------------------------------------------------------------\u001b[0m",
            "\u001b[0;31mNameError\u001b[0m                                 Traceback (most recent call last)",
            "\u001b[0;32m<ipython-input-7-8c341c4aea58>\u001b[0m in \u001b[0;36m<module>\u001b[0;34m\u001b[0m\n\u001b[0;32m----> 1\u001b[0;31m \u001b[0mtrain_pos\u001b[0m\u001b[0;34m,\u001b[0m \u001b[0mtest_pos\u001b[0m \u001b[0;34m=\u001b[0m \u001b[0mtrain_test_edges\u001b[0m\u001b[0;34m(\u001b[0m\u001b[0memail_df\u001b[0m\u001b[0;34m,\u001b[0m \u001b[0;34m(\u001b[0m\u001b[0;36m1e7\u001b[0m\u001b[0;34m,\u001b[0m \u001b[0;36m2e7\u001b[0m\u001b[0;34m)\u001b[0m\u001b[0;34m,\u001b[0m \u001b[0;34m(\u001b[0m\u001b[0;36m2e7\u001b[0m\u001b[0;34m,\u001b[0m \u001b[0;36m2.5e7\u001b[0m\u001b[0;34m)\u001b[0m\u001b[0;34m,\u001b[0m \u001b[0;36m4\u001b[0m\u001b[0;34m,\u001b[0m \u001b[0;36m2\u001b[0m\u001b[0;34m)\u001b[0m\u001b[0;34m\u001b[0m\u001b[0;34m\u001b[0m\u001b[0m\n\u001b[0m\u001b[1;32m      2\u001b[0m \u001b[0m_train_pos\u001b[0m\u001b[0;34m,\u001b[0m \u001b[0m_test_pos\u001b[0m \u001b[0;34m=\u001b[0m \u001b[0mnp\u001b[0m\u001b[0;34m.\u001b[0m\u001b[0marray\u001b[0m\u001b[0;34m(\u001b[0m\u001b[0mtrain_pos\u001b[0m\u001b[0;34m)\u001b[0m\u001b[0;34m,\u001b[0m \u001b[0mnp\u001b[0m\u001b[0;34m.\u001b[0m\u001b[0marray\u001b[0m\u001b[0;34m(\u001b[0m\u001b[0mtest_pos\u001b[0m\u001b[0;34m)\u001b[0m\u001b[0;34m\u001b[0m\u001b[0;34m\u001b[0m\u001b[0m\n\u001b[1;32m      3\u001b[0m \u001b[0;32massert\u001b[0m \u001b[0mnp\u001b[0m\u001b[0;34m.\u001b[0m\u001b[0mall\u001b[0m\u001b[0;34m(\u001b[0m\u001b[0m_train_pos\u001b[0m\u001b[0;34m[\u001b[0m\u001b[0;34m:\u001b[0m\u001b[0;34m,\u001b[0m \u001b[0;36m0\u001b[0m\u001b[0;34m]\u001b[0m \u001b[0;34m<\u001b[0m \u001b[0m_train_pos\u001b[0m\u001b[0;34m[\u001b[0m\u001b[0;34m:\u001b[0m\u001b[0;34m,\u001b[0m \u001b[0;36m1\u001b[0m\u001b[0;34m]\u001b[0m\u001b[0;34m)\u001b[0m\u001b[0;34m\u001b[0m\u001b[0;34m\u001b[0m\u001b[0m\n\u001b[1;32m      4\u001b[0m \u001b[0;32massert\u001b[0m \u001b[0mnp\u001b[0m\u001b[0;34m.\u001b[0m\u001b[0mall\u001b[0m\u001b[0;34m(\u001b[0m\u001b[0m_test_pos\u001b[0m\u001b[0;34m[\u001b[0m\u001b[0;34m:\u001b[0m\u001b[0;34m,\u001b[0m \u001b[0;36m0\u001b[0m\u001b[0;34m]\u001b[0m \u001b[0;34m<\u001b[0m \u001b[0m_test_pos\u001b[0m\u001b[0;34m[\u001b[0m\u001b[0;34m:\u001b[0m\u001b[0;34m,\u001b[0m \u001b[0;36m1\u001b[0m\u001b[0;34m]\u001b[0m\u001b[0;34m)\u001b[0m\u001b[0;34m\u001b[0m\u001b[0;34m\u001b[0m\u001b[0m\n\u001b[1;32m      5\u001b[0m \u001b[0;32massert\u001b[0m \u001b[0mlen\u001b[0m\u001b[0;34m(\u001b[0m\u001b[0mset\u001b[0m\u001b[0;34m(\u001b[0m\u001b[0mtrain_pos\u001b[0m\u001b[0;34m)\u001b[0m\u001b[0;34m.\u001b[0m\u001b[0mintersection\u001b[0m\u001b[0;34m(\u001b[0m\u001b[0mtest_pos\u001b[0m\u001b[0;34m)\u001b[0m\u001b[0;34m)\u001b[0m \u001b[0;34m==\u001b[0m \u001b[0;36m0\u001b[0m\u001b[0;34m\u001b[0m\u001b[0;34m\u001b[0m\u001b[0m\n",
            "\u001b[0;31mNameError\u001b[0m: name 'email_df' is not defined"
          ]
        }
      ],
      "source": [
        "train_pos, test_pos = train_test_edges(email_df, (1e7, 2e7), (2e7, 2.5e7), 4, 2)\n",
        "_train_pos, _test_pos = np.array(train_pos), np.array(test_pos)\n",
        "assert np.all(_train_pos[:, 0] < _train_pos[:, 1])\n",
        "assert np.all(_test_pos[:, 0] < _test_pos[:, 1])\n",
        "assert len(set(train_pos).intersection(test_pos)) == 0\n",
        "assert _train_pos.shape == (3880, 2)\n",
        "assert _test_pos.shape == (720, 2)"
      ]
    },
    {
      "cell_type": "markdown",
      "id": "867bdbd3",
      "metadata": {
        "id": "867bdbd3"
      },
      "source": [
        "### Task 2. Negative sampling (0 points)"
      ]
    },
    {
      "cell_type": "markdown",
      "id": "b8aba7d9",
      "metadata": {
        "id": "b8aba7d9"
      },
      "source": [
        "Usually, graphs are sparse, so there is a high imbalance between existent (positive) edges and nonexistent (negative) edges. Since the link prediction can be considered as a classification problem, the imbalance leads to the high misclassification. To eliminate this problem, we can use negative sampling techniques, that is using only some random part of the negative edges in training.\n",
        "\n",
        "<img src='https://raw.githubusercontent.com/netspractice/network-science/main/images/pos_neg_edges.png' width=500>\n",
        "\n",
        "The simplest sampling strategy is to copy positive edges and randomly replace one node checking they do not occur in positive set and they are not self-loops. Let the negative set be the same size as the positive.\n",
        "\n",
        "The `negative_sampling` function samples the unexisted edges from the graph. It takes list of train and test positive edges and returns train and test negative edges."
      ]
    },
    {
      "cell_type": "code",
      "execution_count": null,
      "id": "01227680",
      "metadata": {
        "execution": {
          "iopub.execute_input": "2022-11-24T16:42:19.981841Z",
          "iopub.status.busy": "2022-11-24T16:42:19.981841Z",
          "iopub.status.idle": "2022-11-24T16:42:19.997474Z",
          "shell.execute_reply": "2022-11-24T16:42:19.997474Z"
        },
        "id": "01227680",
        "nbgrader": {
          "checksum": "909994f38bc19f1e40c34bd32036ba50",
          "grade": false,
          "grade_id": "cell-2086061e022dc394",
          "locked": false,
          "schema_version": 3,
          "solution": true,
          "task": false
        }
      },
      "outputs": [],
      "source": [
        "def negative_sampling(train_pos, test_pos):\n",
        "    ### BEGIN SOLUTION\n",
        "    pos_edges = train_pos + test_pos\n",
        "    nodes = np.unique(pos_edges)\n",
        "    neg_edges = []\n",
        "    for u, v in tqdm(pos_edges):\n",
        "        while True:\n",
        "            neg_v = np.random.choice(nodes)\n",
        "            if (u == neg_v) or ((u, neg_v) in pos_edges) or ((neg_v, u) in pos_edges):\n",
        "                continue\n",
        "            neg_edges.append((u, neg_v))\n",
        "            break\n",
        "    return neg_edges[:len(train_pos)], neg_edges[len(train_pos):]\n",
        "    ### END SOLUTION"
      ]
    },
    {
      "cell_type": "code",
      "execution_count": null,
      "id": "d1562314",
      "metadata": {
        "execution": {
          "iopub.execute_input": "2022-11-24T16:42:19.997474Z",
          "iopub.status.busy": "2022-11-24T16:42:19.997474Z",
          "iopub.status.idle": "2022-11-24T16:42:20.028785Z",
          "shell.execute_reply": "2022-11-24T16:42:20.028785Z"
        },
        "id": "d1562314",
        "nbgrader": {
          "checksum": "51cc869994fb89807dc2842e2970853c",
          "grade": true,
          "grade_id": "cell-e71e5d52cb2cae88",
          "locked": true,
          "points": 0,
          "schema_version": 3,
          "solution": false,
          "task": false
        }
      },
      "outputs": [],
      "source": [
        "train_neg, test_neg = negative_sampling(train_pos, test_pos)\n",
        "neg_edges = train_neg + test_neg\n",
        "pos_edges = train_pos + test_pos\n",
        "assert len(train_neg) == len(train_pos)\n",
        "assert len(test_neg) == len(test_neg)\n",
        "# negative edges has nodes from only positive edges\n",
        "assert len(set(np.unique(neg_edges)).difference(np.unique(pos_edges))) == 0\n",
        "# source nodes are the same\n",
        "assert np.all(np.array(pos_edges)[:, 0] == np.array(neg_edges)[:, 0])\n",
        "# no edges in both\n",
        "assert len(set(pos_edges) & set(neg_edges)) == 0\n",
        "# reversed negative edges are not positive\n",
        "reversed_neg_edges = [(v, u) for u, v in neg_edges]\n",
        "assert len(set(pos_edges) & set(reversed_neg_edges)) == 0"
      ]
    },
    {
      "cell_type": "markdown",
      "id": "186efbc9",
      "metadata": {
        "id": "186efbc9"
      },
      "source": [
        "Form train and test pairs of nodes that contain positive and negative edges:\n",
        "* $X_\\text{train}, X_\\text{test}$ — pairs of nodes, contains positive and negative edges\n",
        "* $y_\\text{train}, y_\\text{test}$ — labels of pairs, 1 is positive, 0 is negative"
      ]
    },
    {
      "cell_type": "code",
      "execution_count": 276,
      "id": "40ee379e",
      "metadata": {
        "execution": {
          "iopub.execute_input": "2022-11-24T16:42:20.028785Z",
          "iopub.status.busy": "2022-11-24T16:42:20.028785Z",
          "iopub.status.idle": "2022-11-24T16:42:20.044310Z",
          "shell.execute_reply": "2022-11-24T16:42:20.044310Z"
        },
        "id": "40ee379e",
        "colab": {
          "base_uri": "https://localhost:8080/"
        },
        "outputId": "5eeff84d-e3e2-486d-cb95-7bfe68e199d7"
      },
      "outputs": [
        {
          "output_type": "execute_result",
          "data": {
            "text/plain": [
              "[0, 0, 0, 0, 0, 0, 1, 0, 0, 0]"
            ]
          },
          "metadata": {},
          "execution_count": 276
        }
      ],
      "source": [
        "x_train = np.random.permutation(train_pos + train_neg)\n",
        "y_train = [int((u, v) in train_pos) for (u, v) in x_train]\n",
        "\n",
        "x_test = np.random.permutation(test_pos + test_neg)\n",
        "y_test = [int((u, v) in test_pos) for (u, v) in x_test]\n",
        "y_test[:10]\n"
      ]
    },
    {
      "cell_type": "markdown",
      "id": "92600249",
      "metadata": {
        "id": "92600249"
      },
      "source": [
        "### Task 3. Prediction by similarity score (3 points)"
      ]
    },
    {
      "cell_type": "markdown",
      "id": "835e9c8f",
      "metadata": {
        "id": "835e9c8f"
      },
      "source": [
        "Similarity based algorithm predicts the existence of a link using the similarity score of a pair of nodes: $P(A_{i, j}) \\propto \\text{sim}(i, j)$. The algorithm builds a graph using only train positive edges, computes similarity score for all test pairs and then predicts the link existence by the threshold on ordered by similarity score pairs.\n",
        "\n",
        "Write a function `sim_link_prediction` that takes edges and labels. The function predicts links and returns a tuple with metrics: \n",
        "* FPR (false positive rate) and TPR (true positive rate) in descending of thresholds obtained by Jaccard coefficient, `nx.jaccard_coefficient`: $$\\text{sim}(i, j) = \\frac{|N(i) \\cap N(j)|}{|N(i) \\cup N(j)|}$$\n",
        "* FPR, TPR by Adamic-Adar index, `nx.adamic_adar_index`: $$\\text{sim}(i, j) = \\sum_{x \\in N(i) \\cap N(j)} \\frac{1}{\\log|N(x)|}$$\n",
        "* FPR, TPR by resource allocation index, `nx.resource_allocation_index`: $$\\text{sim}(i, j) = \\sum_{x \\in N(i) \\cap N(j)} \\frac{1}{|N(x)|}$$\n",
        "\n",
        "_Hint: use `sklearn.metrics.roc_curve`._"
      ]
    },
    {
      "cell_type": "code",
      "execution_count": 277,
      "id": "027c7048",
      "metadata": {
        "execution": {
          "iopub.execute_input": "2022-11-24T16:42:20.044310Z",
          "iopub.status.busy": "2022-11-24T16:42:20.044310Z",
          "iopub.status.idle": "2022-11-24T16:42:20.060036Z",
          "shell.execute_reply": "2022-11-24T16:42:20.060036Z"
        },
        "id": "027c7048",
        "nbgrader": {
          "checksum": "32af6091446052edf14c97545c0e6da2",
          "grade": false,
          "grade_id": "cell-4125af6f7f2c4f56",
          "locked": false,
          "schema_version": 3,
          "solution": true,
          "task": false
        }
      },
      "outputs": [],
      "source": [
        "def sim_link_prediction(train_pos, x_test, y_test):\n",
        "    pos_edges = train_pos\n",
        "    nodes = np.unique(pos_edges)\n",
        "    graph = nx.Graph() \n",
        "    for u, v in tqdm(pos_edges):\n",
        "        graph.add_edge(u, v)\n",
        "    \n",
        "    edges_jaccard = {} \n",
        "    edges_adamic_adar = {} \n",
        "    edges_resource_allocation = {}\n",
        "\n",
        "    jaccard_scores = [] \n",
        "    adamic_adar_scores = []\n",
        "    resource_allocation_scores = [] \n",
        "\n",
        "\n",
        "    preds_jaccard = nx.jaccard_coefficient(graph, ebunch=x_test)\n",
        "    for u, v, p in preds_jaccard:\n",
        "        edges_jaccard[(u, v)] = p \n",
        "        jaccard_scores.append(p)\n",
        "\n",
        "    preds_adamic_adar = nx.adamic_adar_index(graph, ebunch=x_test)\n",
        "    for u, v, p in preds_adamic_adar:\n",
        "        edges_adamic_adar[(u, v)] = p \n",
        "        adamic_adar_scores.append(p)\n",
        "\n",
        "    preds_resource_allocation = nx.resource_allocation_index(graph, ebunch=x_test)\n",
        "    for u, v, p in preds_resource_allocation:\n",
        "        edges_resource_allocation[(u, v)] = p \n",
        "        resource_allocation_scores.append(p)\n",
        "\n",
        "\n",
        "    fpr_jaccard, tpr_jaccard, _ = roc_curve(y_test, jaccard_scores, pos_label=1)\n",
        "    fpr_adamic_adar, tpr_adamic_adar, _ = roc_curve(y_test, adamic_adar_scores, pos_label=1)\n",
        "    fpr_resource_allocation, tpr_resource_allocation, _ = roc_curve(y_test, resource_allocation_scores, pos_label=1)\n",
        "\n",
        "\n",
        "    return (fpr_jaccard, tpr_jaccard), (fpr_adamic_adar, tpr_adamic_adar), (fpr_resource_allocation, tpr_resource_allocation)\n",
        "\n",
        "\n"
      ]
    },
    {
      "cell_type": "code",
      "execution_count": 10,
      "id": "70aa9122",
      "metadata": {
        "execution": {
          "iopub.execute_input": "2022-11-24T16:42:20.060036Z",
          "iopub.status.busy": "2022-11-24T16:42:20.060036Z",
          "iopub.status.idle": "2022-11-24T16:42:20.091285Z",
          "shell.execute_reply": "2022-11-24T16:42:20.091285Z"
        },
        "id": "70aa9122",
        "nbgrader": {
          "checksum": "64d46066e8123c613d08ec50b0c4428f",
          "grade": true,
          "grade_id": "cell-ea34274053a92113",
          "locked": true,
          "points": 3,
          "schema_version": 3,
          "solution": false,
          "task": false
        },
        "colab": {
          "base_uri": "https://localhost:8080/",
          "height": 49,
          "referenced_widgets": [
            "927044a779174193b09d2434cd3d980e",
            "81f5af20763c4b9bbcd9b17fe36b9233",
            "7e511f847232454d8ac43911337a122b",
            "1876741ba3bb44abb8aecfe130f88a4b",
            "55dfd012108f4cac819cda624a0a2542",
            "46efa0fe59494702a9208d4f2c3361fe",
            "e5e4b8c5788842508a516d30150230fd",
            "19ebbcdb52ce4847a1cf194fd3ae6c7f",
            "bdc015a23e6b48caa365f5d9bab1780e",
            "1c21d14904ab40b38b177ecd5e29a513",
            "3bb288654cb74265a3104167efdfb2a0"
          ]
        },
        "outputId": "ba222016-9f0d-42fd-f753-fde9f78289df"
      },
      "outputs": [
        {
          "output_type": "display_data",
          "data": {
            "text/plain": [
              "  0%|          | 0/3880 [00:00<?, ?it/s]"
            ],
            "application/vnd.jupyter.widget-view+json": {
              "version_major": 2,
              "version_minor": 0,
              "model_id": "927044a779174193b09d2434cd3d980e"
            }
          },
          "metadata": {}
        }
      ],
      "source": [
        "jac, adam, res = sim_link_prediction(\n",
        "    train_pos, \n",
        "    [[53, 500], [500, 843], [509, 969], [40, 91], [147, 28], [91, 535], [890, 15]],\n",
        "    [1, 0, 1, 0, 0, 1, 0],\n",
        ")\n",
        "assert jac[0].shape == jac[1].shape\n",
        "assert adam[0].shape == adam[1].shape\n",
        "assert res[0].shape == res[1].shape\n",
        "assert round(auc(jac[0], jac[1]), 4) == 0.5\n",
        "assert round(auc(adam[0], adam[1]), 4) == 0.4167\n",
        "assert round(auc(res[0], res[1]), 4) == 0.4167"
      ]
    },
    {
      "cell_type": "markdown",
      "id": "f13f4c61",
      "metadata": {
        "id": "f13f4c61"
      },
      "source": [
        "Let us look at the ROC AUC curve to compare results."
      ]
    },
    {
      "cell_type": "code",
      "execution_count": 11,
      "id": "40b16dd0",
      "metadata": {
        "execution": {
          "iopub.execute_input": "2022-11-24T16:42:20.091285Z",
          "iopub.status.busy": "2022-11-24T16:42:20.091285Z",
          "iopub.status.idle": "2022-11-24T16:42:20.122538Z",
          "shell.execute_reply": "2022-11-24T16:42:20.122538Z"
        },
        "id": "40b16dd0",
        "colab": {
          "base_uri": "https://localhost:8080/",
          "height": 436,
          "referenced_widgets": [
            "f3bd92bb80de40e29a42b29fc0c13291",
            "5965510f9b794dd2b70e70bb3a4aa608",
            "6ef4adc5cd2c456db366cf224ba77b17",
            "2e22372dde2249a8b473863197469200",
            "2df976cfd08946b7a56ac938a253a43c",
            "9839dd718e4e4978ba28b36170943ab3",
            "36b7bbf0ab9e4720a2e6f94293ab009d",
            "626c6defc47242ec959cd6f7fb8e0fc1",
            "75d5f643fe2740b09d2dd7fbda21b875",
            "7edf6d494676437ba4c1274eacec1758",
            "cee7d67966b84c81a8e82ad676e77b29"
          ]
        },
        "outputId": "228a4b03-f6a5-47d7-fd10-5b2afea850c3"
      },
      "outputs": [
        {
          "output_type": "display_data",
          "data": {
            "text/plain": [
              "  0%|          | 0/3880 [00:00<?, ?it/s]"
            ],
            "application/vnd.jupyter.widget-view+json": {
              "version_major": 2,
              "version_minor": 0,
              "model_id": "f3bd92bb80de40e29a42b29fc0c13291"
            }
          },
          "metadata": {}
        },
        {
          "output_type": "display_data",
          "data": {
            "text/plain": [
              "<Figure size 720x432 with 1 Axes>"
            ],
            "image/png": "[encoded data removed]"
          },
          "metadata": {
            "needs_background": "light"
          }
        }
      ],
      "source": [
        "jac, adam, res = sim_link_prediction(train_pos, x_test, y_test)\n",
        "plt.figure(figsize=(10, 6))\n",
        "cases = [[jac[0], jac[1], 'Jaccard'], \n",
        "         [adam[0], adam[1], 'Adamic-Adar'], \n",
        "         [res[0], res[1], 'Resource alloc.']]\n",
        "for fpr, tpr, label in cases:\n",
        "    plt.plot(fpr, tpr, lw=2, \n",
        "             label='{}, AUC={:.4f}'.format(label, auc(fpr, tpr)))\n",
        "plt.plot([0, 1], [0, 1], lw=2, linestyle='--')\n",
        "plt.xlabel('FPR')\n",
        "plt.ylabel('TPR')\n",
        "plt.title('ROC AUC')\n",
        "plt.legend()\n",
        "plt.show()"
      ]
    },
    {
      "cell_type": "markdown",
      "id": "2a607cd4",
      "metadata": {
        "id": "2a607cd4"
      },
      "source": [
        "### Task 4. Dot product predictor on node embeddings (0 points)"
      ]
    },
    {
      "cell_type": "markdown",
      "id": "bf8e06f2",
      "metadata": {
        "id": "bf8e06f2"
      },
      "source": [
        "Similarly to the node classification task, node embeddings could be helpful in the link prediction problem. We can predict a link if two nodes are similar in latent space. One of simple methods to obtain similarity score is using dot product of node embeddings: $$P(A_{i, j}) \\propto \\langle e_i, e_j \\rangle.$$\n",
        "\n",
        "Here we obtain 16d SVD node embeddings by `sklearn.decompose.TruncatedSVD` on the adjacency matrix."
      ]
    },
    {
      "cell_type": "code",
      "execution_count": 278,
      "id": "330a45f7",
      "metadata": {
        "execution": {
          "iopub.execute_input": "2022-11-24T16:42:20.122538Z",
          "iopub.status.busy": "2022-11-24T16:42:20.122538Z",
          "iopub.status.idle": "2022-11-24T16:42:20.138160Z",
          "shell.execute_reply": "2022-11-24T16:42:20.138160Z"
        },
        "id": "330a45f7",
        "colab": {
          "base_uri": "https://localhost:8080/"
        },
        "outputId": "df4c2e2a-e225-4bb8-c69d-400bb0d36be5"
      },
      "outputs": [
        {
          "output_type": "execute_result",
          "data": {
            "text/plain": [
              "array([[ 0.77, -0.75, -0.45, ...,  0.28,  0.16, -0.26],\n",
              "       [ 0.04, -0.01, -0.04, ...,  0.02,  0.12,  0.01],\n",
              "       [ 1.83,  0.95,  0.24, ...,  0.42,  0.18, -0.21],\n",
              "       ...,\n",
              "       [ 0.01, -0.  , -0.01, ..., -0.04,  0.02, -0.04],\n",
              "       [ 0.14, -0.05, -0.12, ..., -0.12,  0.04, -0.1 ],\n",
              "       [ 0.35, -0.3 , -0.37, ...,  0.44,  0.19,  0.11]])"
            ]
          },
          "metadata": {},
          "execution_count": 278
        }
      ],
      "source": [
        "G = nx.Graph()\n",
        "G.add_nodes_from(range(np.max(train_pos) + 1))\n",
        "G.add_edges_from(train_pos)\n",
        "A = nx.to_numpy_array(G)\n",
        "model = TruncatedSVD(n_components=16)\n",
        "emb = model.fit_transform(A)\n",
        "emb.round(2)"
      ]
    },
    {
      "cell_type": "markdown",
      "id": "baca802b",
      "metadata": {
        "id": "baca802b"
      },
      "source": [
        "Write a function `dot_product_prediction` that takes node embeddings, test pairs, returns FPR and TPR for the test pairs."
      ]
    },
    {
      "cell_type": "code",
      "execution_count": 279,
      "id": "f23540bc",
      "metadata": {
        "execution": {
          "iopub.execute_input": "2022-11-24T16:42:20.138160Z",
          "iopub.status.busy": "2022-11-24T16:42:20.138160Z",
          "iopub.status.idle": "2022-11-24T16:42:20.153781Z",
          "shell.execute_reply": "2022-11-24T16:42:20.153781Z"
        },
        "id": "f23540bc",
        "nbgrader": {
          "checksum": "d2a9a90393f4821ede00fb251e579dfd",
          "grade": false,
          "grade_id": "cell-e3728903f481eed8",
          "locked": false,
          "schema_version": 3,
          "solution": true,
          "task": false
        }
      },
      "outputs": [],
      "source": [
        "def dot_product_prediction(emb, x_test, y_test):\n",
        "    ### BEGIN SOLUTION\n",
        "    sim = emb @ emb.T\n",
        "    y_pred = sim[x_test[:, 0], x_test[:, 1]]\n",
        "    fpr, tpr, _ = roc_curve(y_test, y_pred)\n",
        "    return fpr, tpr\n",
        "    ### END SOLUTION"
      ]
    },
    {
      "cell_type": "code",
      "execution_count": 280,
      "id": "823d80f2",
      "metadata": {
        "execution": {
          "iopub.execute_input": "2022-11-24T16:42:20.153781Z",
          "iopub.status.busy": "2022-11-24T16:42:20.153781Z",
          "iopub.status.idle": "2022-11-24T16:42:20.169407Z",
          "shell.execute_reply": "2022-11-24T16:42:20.169407Z"
        },
        "id": "823d80f2",
        "nbgrader": {
          "checksum": "e68e822627d3e99dafacb2b3edf67fbb",
          "grade": true,
          "grade_id": "cell-d7b6b9f3c20abc71",
          "locked": true,
          "points": 0,
          "schema_version": 3,
          "solution": false,
          "task": false
        }
      },
      "outputs": [],
      "source": [
        "fpr, tpr = dot_product_prediction(np.random.random(emb.shape), x_test, y_test)\n",
        "assert 0.45 < auc(fpr, tpr) < 0.55\n",
        "fpr, tpr = dot_product_prediction(emb, x_test, y_test)\n",
        "assert 0.75 < auc(fpr, tpr) < 0.85"
      ]
    },
    {
      "cell_type": "code",
      "execution_count": 281,
      "id": "76e48ab1",
      "metadata": {
        "execution": {
          "iopub.execute_input": "2022-11-24T16:42:20.169407Z",
          "iopub.status.busy": "2022-11-24T16:42:20.169407Z",
          "iopub.status.idle": "2022-11-24T16:42:20.200655Z",
          "shell.execute_reply": "2022-11-24T16:42:20.200655Z"
        },
        "id": "76e48ab1",
        "colab": {
          "base_uri": "https://localhost:8080/",
          "height": 404
        },
        "outputId": "0b6432eb-dba5-4eb3-aad5-5707cbf580f5"
      },
      "outputs": [
        {
          "output_type": "display_data",
          "data": {
            "text/plain": [
              "<Figure size 720x432 with 1 Axes>"
            ],
            "image/png": "[encoded data removed]"
          },
          "metadata": {
            "needs_background": "light"
          }
        }
      ],
      "source": [
        "plt.figure(figsize=(10, 6))\n",
        "plt.plot(fpr, tpr, lw=2, \n",
        "         label='{}, AUC={:.4f}'.format('Dot prod. on SVD emb.', auc(fpr, tpr)))\n",
        "plt.plot([0, 1], [0, 1], lw=2, linestyle='--')\n",
        "plt.xlabel('FPR')\n",
        "plt.ylabel('TPR')\n",
        "plt.title('ROC AUC')\n",
        "plt.legend()\n",
        "plt.show()"
      ]
    },
    {
      "cell_type": "markdown",
      "id": "bb032234",
      "metadata": {
        "id": "bb032234"
      },
      "source": [
        "### Task 5. Classification on edge emdeddings (3 points)"
      ]
    },
    {
      "cell_type": "markdown",
      "id": "3f35bfbd",
      "metadata": {
        "id": "3f35bfbd"
      },
      "source": [
        "Edge emeddings can be used for edge classification by any supervised algorithm (e.g. logistic regression). We can compute edge embeddings using embeddings of adjacent nodes. Let us compare several techniques of a such calculation from the paper: *Makarov I, Gerasimova O, Sulimov P, Zhukov LE. 2019. Dual network embedding for representing research interests in the link prediction problem on co-authorship networks*. Let us use SVD node embeddings for calculating edge embeddings."
      ]
    },
    {
      "cell_type": "code",
      "execution_count": 282,
      "id": "a52e4634",
      "metadata": {
        "execution": {
          "iopub.execute_input": "2022-11-24T16:42:20.200655Z",
          "iopub.status.busy": "2022-11-24T16:42:20.200655Z",
          "iopub.status.idle": "2022-11-24T16:42:20.216279Z",
          "shell.execute_reply": "2022-11-24T16:42:20.216279Z"
        },
        "id": "a52e4634",
        "colab": {
          "base_uri": "https://localhost:8080/"
        },
        "outputId": "e15d7a08-1462-45f6-d939-d8a4b1ff9eb8"
      },
      "outputs": [
        {
          "output_type": "execute_result",
          "data": {
            "text/plain": [
              "array([[ 0.77, -0.75, -0.46,  1.53],\n",
              "       [ 0.04, -0.01, -0.04, -0.03],\n",
              "       [ 1.83,  0.95,  0.24,  0.33],\n",
              "       ...,\n",
              "       [ 0.01, -0.  , -0.01, -0.01],\n",
              "       [ 0.14, -0.05, -0.12, -0.06],\n",
              "       [ 0.35, -0.3 , -0.37,  0.85]])"
            ]
          },
          "metadata": {},
          "execution_count": 282
        }
      ],
      "source": [
        "G = nx.Graph()\n",
        "G.add_nodes_from(range(np.max(train_pos) + 1))\n",
        "G.add_edges_from(train_pos)\n",
        "A = nx.to_numpy_array(G)\n",
        "model = TruncatedSVD(n_components=4, random_state=0)\n",
        "emb = model.fit_transform(A)\n",
        "emb.round(2)"
      ]
    },
    {
      "cell_type": "markdown",
      "id": "8831f797",
      "metadata": {
        "id": "8831f797"
      },
      "source": [
        "All following functions return edge embeddings for given graph, node embeddings, edges. Average operator is the elementwise average of node embeddings. \n",
        "$$\n",
        "\\frac{f(u)+f(v)}{2}\n",
        "$$\n",
        "where $f(u)$, $f(v)$ are node embeddings of nodes $u$ and $v$."
      ]
    },
    {
      "cell_type": "code",
      "execution_count": 283,
      "id": "8ae52da9",
      "metadata": {
        "execution": {
          "iopub.execute_input": "2022-11-24T16:42:20.216279Z",
          "iopub.status.busy": "2022-11-24T16:42:20.216279Z",
          "iopub.status.idle": "2022-11-24T16:42:20.242767Z",
          "shell.execute_reply": "2022-11-24T16:42:20.242767Z"
        },
        "id": "8ae52da9",
        "nbgrader": {
          "checksum": "58f462d94128ad39168d5c1651115bbc",
          "grade": false,
          "grade_id": "cell-26173c0c479136b7",
          "locked": false,
          "schema_version": 3,
          "solution": true,
          "task": false
        }
      },
      "outputs": [],
      "source": [
        "def average_operator(G, embeddings, edges):\n",
        "    a = [] \n",
        "    for u, v in edges: \n",
        "        a.append((embeddings[u] + embeddings[v]) / 2) \n",
        "    return np.array(a)\n"
      ]
    },
    {
      "cell_type": "code",
      "execution_count": 284,
      "id": "3c28522f",
      "metadata": {
        "execution": {
          "iopub.execute_input": "2022-11-24T16:42:20.242767Z",
          "iopub.status.busy": "2022-11-24T16:42:20.242767Z",
          "iopub.status.idle": "2022-11-24T16:42:20.273978Z",
          "shell.execute_reply": "2022-11-24T16:42:20.273978Z"
        },
        "id": "3c28522f",
        "nbgrader": {
          "checksum": "e170545d4c2183f373ff3ab2f4ce6bbe",
          "grade": true,
          "grade_id": "cell-eaefe9963be3c2d0",
          "locked": true,
          "points": 0.43,
          "schema_version": 3,
          "solution": false,
          "task": false
        }
      },
      "outputs": [],
      "source": [
        "assert np.allclose(\n",
        "    average_operator(G, emb, np.array([[42,70]])).round(1),\n",
        "    [[ 0.6, -0.2, -0.3, -0.2]]\n",
        ")"
      ]
    },
    {
      "cell_type": "markdown",
      "id": "b79d2e40",
      "metadata": {
        "id": "b79d2e40"
      },
      "source": [
        "Hadamard product is the elementwise product of node embeddings $$f(u) \\odot f(v)$$"
      ]
    },
    {
      "cell_type": "code",
      "execution_count": 285,
      "id": "0be1ca93",
      "metadata": {
        "execution": {
          "iopub.execute_input": "2022-11-24T16:42:20.273978Z",
          "iopub.status.busy": "2022-11-24T16:42:20.273978Z",
          "iopub.status.idle": "2022-11-24T16:42:20.289767Z",
          "shell.execute_reply": "2022-11-24T16:42:20.289620Z"
        },
        "id": "0be1ca93",
        "nbgrader": {
          "checksum": "dca0930cdead56210ac1d3ed38a1da2d",
          "grade": false,
          "grade_id": "cell-f662abe3d0579575",
          "locked": false,
          "schema_version": 3,
          "solution": true,
          "task": false
        }
      },
      "outputs": [],
      "source": [
        "def hadamard_operator(G, embeddings, edges):\n",
        "    a = [] \n",
        "    for u, v in edges: \n",
        "        a.append((embeddings[u] * embeddings[v])) \n",
        "    return np.array(a)"
      ]
    },
    {
      "cell_type": "code",
      "execution_count": 286,
      "id": "a45f8b21",
      "metadata": {
        "execution": {
          "iopub.execute_input": "2022-11-24T16:42:20.292017Z",
          "iopub.status.busy": "2022-11-24T16:42:20.292017Z",
          "iopub.status.idle": "2022-11-24T16:42:20.309895Z",
          "shell.execute_reply": "2022-11-24T16:42:20.309895Z"
        },
        "id": "a45f8b21",
        "nbgrader": {
          "checksum": "17e76bda5ec5da50477549e9cfdea19e",
          "grade": true,
          "grade_id": "cell-db04660af550adc7",
          "locked": true,
          "points": 0.43,
          "schema_version": 3,
          "solution": false,
          "task": false
        }
      },
      "outputs": [],
      "source": [
        "assert np.allclose(\n",
        "    hadamard_operator(G, emb, np.array([[42,70]])).round(2),\n",
        "    [[0.21, 0.02, 0.09, 0.02]]\n",
        ")"
      ]
    },
    {
      "cell_type": "markdown",
      "id": "44f21d87",
      "metadata": {
        "id": "44f21d87"
      },
      "source": [
        "Weighted L1 is the absolute elementwise difference between node embeddings $$\n",
        "\\left|f(u)-f(v)\\right|\n",
        "$$"
      ]
    },
    {
      "cell_type": "code",
      "execution_count": 287,
      "id": "d2707b00",
      "metadata": {
        "execution": {
          "iopub.execute_input": "2022-11-24T16:42:20.309895Z",
          "iopub.status.busy": "2022-11-24T16:42:20.309895Z",
          "iopub.status.idle": "2022-11-24T16:42:20.336799Z",
          "shell.execute_reply": "2022-11-24T16:42:20.336719Z"
        },
        "id": "d2707b00",
        "nbgrader": {
          "checksum": "d6257c4c2eb4680600acc5867ddba862",
          "grade": false,
          "grade_id": "cell-5e44fbdf6a64715d",
          "locked": false,
          "schema_version": 3,
          "solution": true,
          "task": false
        }
      },
      "outputs": [],
      "source": [
        "def weighted_l1_operator(G, embeddings, edges):\n",
        "    a = [] \n",
        "    for u, v in edges: \n",
        "        a.append(np.abs(embeddings[u] - embeddings[v])) \n",
        "    return np.array(a)"
      ]
    },
    {
      "cell_type": "code",
      "execution_count": 288,
      "id": "3d452a47",
      "metadata": {
        "execution": {
          "iopub.execute_input": "2022-11-24T16:42:20.337832Z",
          "iopub.status.busy": "2022-11-24T16:42:20.337832Z",
          "iopub.status.idle": "2022-11-24T16:42:20.352187Z",
          "shell.execute_reply": "2022-11-24T16:42:20.352187Z"
        },
        "id": "3d452a47",
        "nbgrader": {
          "checksum": "ea482ac045c7d31e0d394d68b3194a58",
          "grade": true,
          "grade_id": "cell-f2c7878af729fcb5",
          "locked": true,
          "points": 0.43,
          "schema_version": 3,
          "solution": false,
          "task": false
        }
      },
      "outputs": [],
      "source": [
        "assert np.allclose(\n",
        "    weighted_l1_operator(G, emb, np.array([[42,70]])).round(2),\n",
        "    [[0.88, 0.12, 0.28, 0.17]]\n",
        ")"
      ]
    },
    {
      "cell_type": "markdown",
      "id": "8a5267da",
      "metadata": {
        "id": "8a5267da"
      },
      "source": [
        "Weighted L2 is the squared elementwise difference between node embeddings $$\n",
        "\\left(f(u)-f(v)\\right)^{2}\n",
        "$$"
      ]
    },
    {
      "cell_type": "code",
      "execution_count": 289,
      "id": "72bd8cc9",
      "metadata": {
        "execution": {
          "iopub.execute_input": "2022-11-24T16:42:20.352187Z",
          "iopub.status.busy": "2022-11-24T16:42:20.352187Z",
          "iopub.status.idle": "2022-11-24T16:42:20.367908Z",
          "shell.execute_reply": "2022-11-24T16:42:20.367908Z"
        },
        "id": "72bd8cc9",
        "nbgrader": {
          "checksum": "c81ca1cb9941e2216cb755dcb6b1d6df",
          "grade": false,
          "grade_id": "cell-0f7f5b3663337374",
          "locked": false,
          "schema_version": 3,
          "solution": true,
          "task": false
        }
      },
      "outputs": [],
      "source": [
        "def weighted_l2_operator(G, embeddings, edges):\n",
        "    a = [] \n",
        "    for u, v in edges: \n",
        "        a.append((embeddings[u] - embeddings[v]) ** 2) \n",
        "    return np.array(a)"
      ]
    },
    {
      "cell_type": "code",
      "execution_count": 290,
      "id": "de021b9c",
      "metadata": {
        "execution": {
          "iopub.execute_input": "2022-11-24T16:42:20.367908Z",
          "iopub.status.busy": "2022-11-24T16:42:20.367908Z",
          "iopub.status.idle": "2022-11-24T16:42:20.383451Z",
          "shell.execute_reply": "2022-11-24T16:42:20.383451Z"
        },
        "id": "de021b9c",
        "nbgrader": {
          "checksum": "25ef02cd113f502a5ba7bd23c34abaab",
          "grade": true,
          "grade_id": "cell-957e1faea3e9127d",
          "locked": true,
          "points": 0.43,
          "schema_version": 3,
          "solution": false,
          "task": false
        }
      },
      "outputs": [],
      "source": [
        "assert np.allclose(\n",
        "    weighted_l2_operator(G, emb, np.array([[42,70]])).round(2),\n",
        "    [[0.77, 0.01, 0.08, 0.03]]\n",
        ")"
      ]
    },
    {
      "cell_type": "markdown",
      "id": "fb8962a9",
      "metadata": {
        "id": "fb8962a9"
      },
      "source": [
        "Neighbor weighted L1 is the absolute elementwise difference between mean embeddings of nodes neigbors $$\n",
        "\\left|\\frac{\\sum_{w \\in N(u) \\cup\\{u\\}} f(w)}{|N(u)|+1}-\\frac{\\sum_{t \\in N(v) \\cup\\{v\\}} f(t)}{|N(v)|+1}\\right|\n",
        "$$"
      ]
    },
    {
      "cell_type": "code",
      "execution_count": 291,
      "id": "0825467c",
      "metadata": {
        "execution": {
          "iopub.execute_input": "2022-11-24T16:42:20.383451Z",
          "iopub.status.busy": "2022-11-24T16:42:20.383451Z",
          "iopub.status.idle": "2022-11-24T16:42:20.399182Z",
          "shell.execute_reply": "2022-11-24T16:42:20.399182Z"
        },
        "id": "0825467c",
        "nbgrader": {
          "checksum": "91862e3967ecf48894e45a0adf8af354",
          "grade": false,
          "grade_id": "cell-9663ec4df9dbb751",
          "locked": false,
          "schema_version": 3,
          "solution": true,
          "task": false
        }
      },
      "outputs": [],
      "source": [
        "def neighbor_weighted_l1_operator(G, embeddings, edges):\n",
        "    a = [] \n",
        "    for u, v in edges: \n",
        "        ws = list(G.neighbors(u)) + [u]\n",
        "        ts = list(G.neighbors(v)) + [v]\n",
        "        res = np.abs(np.sum(embeddings[ws], axis=0) / len(ws)  - np.sum(embeddings[ts], axis=0) / len(ts)) \n",
        "        a.append(res)\n",
        "\n",
        "    return np.array(a)"
      ]
    },
    {
      "cell_type": "code",
      "execution_count": 292,
      "id": "a57297d6",
      "metadata": {
        "execution": {
          "iopub.execute_input": "2022-11-24T16:42:20.399182Z",
          "iopub.status.busy": "2022-11-24T16:42:20.399182Z",
          "iopub.status.idle": "2022-11-24T16:42:20.414786Z",
          "shell.execute_reply": "2022-11-24T16:42:20.414786Z"
        },
        "id": "a57297d6",
        "nbgrader": {
          "checksum": "894cef7d63540c230e242d79b02d6535",
          "grade": true,
          "grade_id": "cell-fe7f124fa265373c",
          "locked": true,
          "points": 0.43,
          "schema_version": 3,
          "solution": false,
          "task": false
        }
      },
      "outputs": [],
      "source": [
        "assert np.allclose(\n",
        "    neighbor_weighted_l1_operator(G, emb, np.array([[42,70]])).round(2),\n",
        "    [[1.89, 0.14, 0.3 , 0.18]]\n",
        ")"
      ]
    },
    {
      "cell_type": "markdown",
      "id": "edb91c19",
      "metadata": {
        "id": "edb91c19"
      },
      "source": [
        "Neighbor weighted L2 is the squared elementwise difference between mean embeddings of nodes neigbors\n",
        "$$\n",
        "\\left(\\frac{\\sum_{w \\in N(u) \\cup\\{u\\}} f(w)}{|N(u)|+1}-\\frac{\\sum_{t \\in N(v) \\cup\\{v\\}} f(t)}{|N(v)|+1}\\right)^{2}\n",
        "$$"
      ]
    },
    {
      "cell_type": "code",
      "execution_count": 201,
      "id": "7366d512",
      "metadata": {
        "execution": {
          "iopub.execute_input": "2022-11-24T16:42:20.414786Z",
          "iopub.status.busy": "2022-11-24T16:42:20.414786Z",
          "iopub.status.idle": "2022-11-24T16:42:20.430455Z",
          "shell.execute_reply": "2022-11-24T16:42:20.430455Z"
        },
        "id": "7366d512",
        "nbgrader": {
          "checksum": "6fe87475999a79b39066260f060f80ca",
          "grade": false,
          "grade_id": "cell-cb55782d381636cd",
          "locked": false,
          "schema_version": 3,
          "solution": true,
          "task": false
        }
      },
      "outputs": [],
      "source": [
        "def neighbor_weighted_l2_operator(G, embeddings, edges):\n",
        "    a = [] \n",
        "    for u, v in edges: \n",
        "        ws = list(G.neighbors(u)) + [u]\n",
        "        ts = list(G.neighbors(v)) + [v]\n",
        "        res = (np.sum(embeddings[ws], axis=0) / len(ws)  - np.sum(embeddings[ts], axis=0) / len(ts)) ** 2\n",
        "        a.append(res)\n",
        "\n",
        "    return np.array(a)"
      ]
    },
    {
      "cell_type": "code",
      "execution_count": 202,
      "id": "cccfd0af",
      "metadata": {
        "execution": {
          "iopub.execute_input": "2022-11-24T16:42:20.430455Z",
          "iopub.status.busy": "2022-11-24T16:42:20.430455Z",
          "iopub.status.idle": "2022-11-24T16:42:20.445987Z",
          "shell.execute_reply": "2022-11-24T16:42:20.445987Z"
        },
        "id": "cccfd0af",
        "nbgrader": {
          "checksum": "f9fe14aa45c60bfa205e0951b858829a",
          "grade": true,
          "grade_id": "cell-b3ea740a7d8e7422",
          "locked": true,
          "points": 0.43,
          "schema_version": 3,
          "solution": false,
          "task": false
        }
      },
      "outputs": [],
      "source": [
        "assert np.allclose(\n",
        "    neighbor_weighted_l2_operator(G, emb, np.array([[42,70]])).round(2),\n",
        "    [[3.58, 0.02, 0.09, 0.03]]\n",
        ")"
      ]
    },
    {
      "cell_type": "markdown",
      "id": "4cd13b3b",
      "metadata": {
        "id": "4cd13b3b"
      },
      "source": [
        "Now let us look at the ROC AUC for different operators on 16d SVD nome embeddings."
      ]
    },
    {
      "cell_type": "code",
      "execution_count": 203,
      "id": "f15c1cd0",
      "metadata": {
        "execution": {
          "iopub.execute_input": "2022-11-24T16:42:20.445987Z",
          "iopub.status.busy": "2022-11-24T16:42:20.445987Z",
          "iopub.status.idle": "2022-11-24T16:42:20.477199Z",
          "shell.execute_reply": "2022-11-24T16:42:20.477199Z"
        },
        "id": "f15c1cd0",
        "nbgrader": {
          "checksum": "880761b73e779999a63c6e45920aa748",
          "grade": true,
          "grade_id": "cell-a5776c997347476f",
          "locked": true,
          "points": 0.41999999999999993,
          "schema_version": 3,
          "solution": false,
          "task": false
        }
      },
      "outputs": [],
      "source": [
        "model = TruncatedSVD(n_components=16, random_state=0)\n",
        "emb = model.fit_transform(A)\n",
        "\n",
        "operators = {\n",
        "    \"Average\": average_operator,\n",
        "    \"Hadamard product\": hadamard_operator,\n",
        "    \"Weighted L1\": weighted_l1_operator,\n",
        "    \"Weighted L2\": weighted_l2_operator,\n",
        "    \"Neighbor weighted L1\": neighbor_weighted_l1_operator,\n",
        "    \"Neighbor weighted L2\": neighbor_weighted_l2_operator\n",
        "}\n",
        "\n",
        "res = dict()\n",
        "for name, operator in operators.items():\n",
        "    lr = LogisticRegression()\n",
        "    train_emb = operator(G, emb, x_train)\n",
        "    lr.fit(train_emb, y_train)\n",
        "    test_emb = operator(G, emb, x_test)\n",
        "    y_pred = lr.predict_proba(test_emb)[:, 1]\n",
        "    fpr, tpr, _ = roc_curve(y_test, y_pred)\n",
        "    res[name] = {\n",
        "        'fpr': fpr,\n",
        "        'tpr': tpr\n",
        "    }\n",
        "\n",
        "assert auc(fpr, tpr) > 0.75"
      ]
    },
    {
      "cell_type": "code",
      "execution_count": 204,
      "id": "6bfcb13f",
      "metadata": {
        "execution": {
          "iopub.execute_input": "2022-11-24T16:42:20.477199Z",
          "iopub.status.busy": "2022-11-24T16:42:20.477199Z",
          "iopub.status.idle": "2022-11-24T16:42:20.508437Z",
          "shell.execute_reply": "2022-11-24T16:42:20.508437Z"
        },
        "id": "6bfcb13f",
        "colab": {
          "base_uri": "https://localhost:8080/",
          "height": 404
        },
        "outputId": "ef957f9a-eee5-43ef-c753-2cbadd1649e8"
      },
      "outputs": [
        {
          "output_type": "display_data",
          "data": {
            "text/plain": [
              "<Figure size 720x432 with 1 Axes>"
            ],
            "image/png": "[encoded data removed]"
          },
          "metadata": {
            "needs_background": "light"
          }
        }
      ],
      "source": [
        "plt.figure(figsize=(10, 6))\n",
        "for label, v in res.items():\n",
        "    fpr, tpr = v['fpr'], v['tpr']\n",
        "    plt.plot(fpr, tpr, lw=2, \n",
        "             label='{}, AUC={:.4f}'.format(label, auc(fpr, tpr)))\n",
        "plt.plot([0, 1], [0, 1], lw=2, linestyle='--')\n",
        "plt.xlabel('FPR')\n",
        "plt.ylabel('TPR')\n",
        "plt.title('ROC AUC')\n",
        "plt.legend()\n",
        "plt.show()"
      ]
    },
    {
      "cell_type": "markdown",
      "id": "9a27174c",
      "metadata": {
        "id": "9a27174c"
      },
      "source": [
        "### CORA dataset"
      ]
    },
    {
      "cell_type": "code",
      "execution_count": 14,
      "id": "8217ac0c",
      "metadata": {
        "execution": {
          "iopub.execute_input": "2022-11-24T16:42:20.508437Z",
          "iopub.status.busy": "2022-11-24T16:42:20.508437Z",
          "iopub.status.idle": "2022-11-24T16:42:50.546165Z",
          "shell.execute_reply": "2022-11-24T16:42:50.515196Z"
        },
        "id": "8217ac0c",
        "colab": {
          "base_uri": "https://localhost:8080/"
        },
        "outputId": "1ade5b95-3127-48a0-a68e-db72352d65e0"
      },
      "outputs": [
        {
          "output_type": "stream",
          "name": "stdout",
          "text": [
            "\u001b[K     |████████████████████████████████| 4.9 MB 404 kB/s \n",
            "\u001b[K     |████████████████████████████████| 63 kB 1.3 MB/s \n",
            "\u001b[K     |████████████████████████████████| 280 kB 9.1 MB/s \n",
            "\u001b[K     |████████████████████████████████| 45 kB 2.8 MB/s \n",
            "\u001b[K     |████████████████████████████████| 103 kB 52.9 MB/s \n",
            "\u001b[K     |████████████████████████████████| 29.1 MB 1.3 MB/s \n",
            "\u001b[K     |████████████████████████████████| 109 kB 71.0 MB/s \n",
            "\u001b[K     |████████████████████████████████| 52 kB 1.2 MB/s \n",
            "\u001b[K     |████████████████████████████████| 78 kB 6.6 MB/s \n",
            "\u001b[K     |████████████████████████████████| 41 kB 211 kB/s \n",
            "\u001b[K     |████████████████████████████████| 3.2 MB 50.6 MB/s \n",
            "\u001b[K     |████████████████████████████████| 500 kB 38.7 MB/s \n",
            "\u001b[K     |████████████████████████████████| 84 kB 3.0 MB/s \n",
            "\u001b[K     |████████████████████████████████| 1.1 MB 67.9 MB/s \n",
            "\u001b[K     |████████████████████████████████| 90 kB 9.8 MB/s \n",
            "\u001b[K     |████████████████████████████████| 133 kB 75.5 MB/s \n",
            "\u001b[K     |████████████████████████████████| 121 kB 74.8 MB/s \n",
            "\u001b[K     |████████████████████████████████| 100 kB 9.7 MB/s \n",
            "\u001b[?25h  Building wheel for littleutils (setup.py) ... \u001b[?25l\u001b[?25hdone\n",
            "\u001b[31mERROR: pip's dependency resolver does not currently take into account all the packages that are installed. This behaviour is the source of the following dependency conflicts.\n",
            "ipython 7.9.0 requires jedi>=0.10, which is not installed.\n",
            "notebook 5.7.16 requires jinja2<=3.0.0, but you have jinja2 3.1.2 which is incompatible.\n",
            "flask 1.1.4 requires Jinja2<3.0,>=2.10.1, but you have jinja2 3.1.2 which is incompatible.\u001b[0m\n"
          ]
        }
      ],
      "source": [
        "# use for installation to colab/locally. Don't use it when upload to evalai\n",
        "\n",
        "# !pip install dgl dglgo -f https://data.dgl.ai/wheels/repo.html -q "
      ]
    },
    {
      "cell_type": "code",
      "execution_count": 15,
      "id": "97f7e59c",
      "metadata": {
        "execution": {
          "iopub.execute_input": "2022-11-24T16:42:50.546165Z",
          "iopub.status.busy": "2022-11-24T16:42:50.546165Z",
          "iopub.status.idle": "2022-11-24T16:42:50.561851Z",
          "shell.execute_reply": "2022-11-24T16:42:50.561851Z"
        },
        "id": "97f7e59c",
        "colab": {
          "base_uri": "https://localhost:8080/"
        },
        "outputId": "03ee0b74-41cb-4139-8e6b-69701ff07c90"
      },
      "outputs": [
        {
          "output_type": "stream",
          "name": "stderr",
          "text": [
            "DGL backend not selected or invalid.  Assuming PyTorch for now.\n"
          ]
        },
        {
          "output_type": "stream",
          "name": "stdout",
          "text": [
            "Setting the default backend to \"pytorch\". You can change it in the ~/.dgl/config.json file or export the DGLBACKEND environment variable.  Valid options are: pytorch, mxnet, tensorflow (all lowercase)\n"
          ]
        }
      ],
      "source": [
        "import dgl\n",
        "from dgl.data import CoraGraphDataset\n",
        "from dgl import function as fn\n",
        "from dgl.nn import SAGEConv"
      ]
    },
    {
      "cell_type": "code",
      "execution_count": 16,
      "id": "b9a52628",
      "metadata": {
        "execution": {
          "iopub.execute_input": "2022-11-24T16:42:50.561851Z",
          "iopub.status.busy": "2022-11-24T16:42:50.561851Z",
          "iopub.status.idle": "2022-11-24T16:42:50.577422Z",
          "shell.execute_reply": "2022-11-24T16:42:50.577422Z"
        },
        "id": "b9a52628"
      },
      "outputs": [],
      "source": [
        "import warnings\n",
        "warnings.filterwarnings(action='ignore', category=UserWarning)\n",
        "warnings.simplefilter(action='ignore', category=FutureWarning)"
      ]
    },
    {
      "cell_type": "markdown",
      "id": "6f992762",
      "metadata": {
        "id": "6f992762"
      },
      "source": [
        "The Cora dataset consists of 2708 scientific publications classified into one of seven classes. The citation network consists of 10556/2 links. Let us take a closer look at this dataset. Each publication in the dataset is described by a 0/1-valued word vector indicating the absence/presence of the corresponding word from the dictionary. The dictionary consists of 1433 unique words."
      ]
    },
    {
      "cell_type": "code",
      "execution_count": 17,
      "id": "3876dd0c",
      "metadata": {
        "execution": {
          "iopub.execute_input": "2022-11-24T16:42:50.577422Z",
          "iopub.status.busy": "2022-11-24T16:42:50.577422Z",
          "iopub.status.idle": "2022-11-24T16:42:50.593049Z",
          "shell.execute_reply": "2022-11-24T16:42:50.593049Z"
        },
        "id": "3876dd0c",
        "colab": {
          "base_uri": "https://localhost:8080/"
        },
        "outputId": "2d27399d-7673-4e9f-87ec-337619ef8f27"
      },
      "outputs": [
        {
          "output_type": "stream",
          "name": "stdout",
          "text": [
            "Downloading /root/.dgl/cora_v2.zip from https://data.dgl.ai/dataset/cora_v2.zip...\n",
            "Extracting file to /root/.dgl/cora_v2\n",
            "Finished data loading and preprocessing.\n",
            "  NumNodes: 2708\n",
            "  NumEdges: 10556\n",
            "  NumFeats: 1433\n",
            "  NumClasses: 7\n",
            "  NumTrainingSamples: 140\n",
            "  NumValidationSamples: 500\n",
            "  NumTestSamples: 1000\n",
            "Done saving data into cached files.\n"
          ]
        }
      ],
      "source": [
        "data = CoraGraphDataset(force_reload=True)"
      ]
    },
    {
      "cell_type": "code",
      "execution_count": 18,
      "id": "60459d90",
      "metadata": {
        "execution": {
          "iopub.execute_input": "2022-11-24T16:42:50.593049Z",
          "iopub.status.busy": "2022-11-24T16:42:50.593049Z",
          "iopub.status.idle": "2022-11-24T16:42:50.608671Z",
          "shell.execute_reply": "2022-11-24T16:42:50.608671Z"
        },
        "id": "60459d90",
        "colab": {
          "base_uri": "https://localhost:8080/"
        },
        "outputId": "af6f9d00-c0da-4447-fefa-4cab85bf090d"
      },
      "outputs": [
        {
          "output_type": "execute_result",
          "data": {
            "text/plain": [
              "Graph(num_nodes=2708, num_edges=10556,\n",
              "      ndata_schemes={'train_mask': Scheme(shape=(), dtype=torch.bool), 'val_mask': Scheme(shape=(), dtype=torch.bool), 'test_mask': Scheme(shape=(), dtype=torch.bool), 'label': Scheme(shape=(), dtype=torch.int64), 'feat': Scheme(shape=(1433,), dtype=torch.float32)}\n",
              "      edata_schemes={})"
            ]
          },
          "metadata": {},
          "execution_count": 18
        }
      ],
      "source": [
        "graph = data[0]\n",
        "graph"
      ]
    },
    {
      "cell_type": "markdown",
      "id": "8e97b108",
      "metadata": {
        "id": "8e97b108"
      },
      "source": [
        "Adjacency matrix can be obtained as follows"
      ]
    },
    {
      "cell_type": "code",
      "execution_count": 19,
      "id": "2cc92084",
      "metadata": {
        "execution": {
          "iopub.execute_input": "2022-11-24T16:42:50.608671Z",
          "iopub.status.busy": "2022-11-24T16:42:50.608671Z",
          "iopub.status.idle": "2022-11-24T16:42:50.624297Z",
          "shell.execute_reply": "2022-11-24T16:42:50.624297Z"
        },
        "id": "2cc92084",
        "colab": {
          "base_uri": "https://localhost:8080/"
        },
        "outputId": "49ae6465-5d19-4331-ff89-95bc68c4539a"
      },
      "outputs": [
        {
          "output_type": "execute_result",
          "data": {
            "text/plain": [
              "tensor([[0., 0., 0.,  ..., 0., 0., 0.],\n",
              "        [0., 0., 1.,  ..., 0., 0., 0.],\n",
              "        [0., 1., 0.,  ..., 0., 0., 0.],\n",
              "        ...,\n",
              "        [0., 0., 0.,  ..., 0., 0., 0.],\n",
              "        [0., 0., 0.,  ..., 0., 0., 1.],\n",
              "        [0., 0., 0.,  ..., 0., 1., 0.]])"
            ]
          },
          "metadata": {},
          "execution_count": 19
        }
      ],
      "source": [
        "adj = graph.adj().to_dense()\n",
        "adj"
      ]
    },
    {
      "cell_type": "markdown",
      "id": "613d60e2",
      "metadata": {
        "id": "613d60e2"
      },
      "source": [
        "Feature matrix is stored in node features `feat`."
      ]
    },
    {
      "cell_type": "code",
      "execution_count": 20,
      "id": "ffe904f8",
      "metadata": {
        "execution": {
          "iopub.execute_input": "2022-11-24T16:42:50.624297Z",
          "iopub.status.busy": "2022-11-24T16:42:50.624297Z",
          "iopub.status.idle": "2022-11-24T16:42:50.639921Z",
          "shell.execute_reply": "2022-11-24T16:42:50.639921Z"
        },
        "id": "ffe904f8",
        "colab": {
          "base_uri": "https://localhost:8080/"
        },
        "outputId": "45d99555-b127-46dd-e353-51d3c2c2d33a"
      },
      "outputs": [
        {
          "output_type": "stream",
          "name": "stdout",
          "text": [
            "torch.Size([2708, 1433])\n"
          ]
        },
        {
          "output_type": "execute_result",
          "data": {
            "text/plain": [
              "tensor([[0., 0., 0.,  ..., 0., 0., 0.],\n",
              "        [0., 0., 0.,  ..., 0., 0., 0.],\n",
              "        [0., 0., 0.,  ..., 0., 0., 0.],\n",
              "        ...,\n",
              "        [0., 0., 0.,  ..., 0., 0., 0.],\n",
              "        [0., 0., 0.,  ..., 0., 0., 0.],\n",
              "        [0., 0., 0.,  ..., 0., 0., 0.]])"
            ]
          },
          "metadata": {},
          "execution_count": 20
        }
      ],
      "source": [
        "feat = graph.ndata['feat']\n",
        "print(feat.shape)\n",
        "feat"
      ]
    },
    {
      "cell_type": "markdown",
      "id": "a22e2f36",
      "metadata": {
        "id": "a22e2f36"
      },
      "source": [
        "In DGL, Cora feature matrix are normalized so that the sum per row is 1. Labels are represent type of the publication, they are stored in `label`."
      ]
    },
    {
      "cell_type": "code",
      "execution_count": 21,
      "id": "9c85b87c",
      "metadata": {
        "execution": {
          "iopub.execute_input": "2022-11-24T16:42:50.639921Z",
          "iopub.status.busy": "2022-11-24T16:42:50.639921Z",
          "iopub.status.idle": "2022-11-24T16:42:50.655547Z",
          "shell.execute_reply": "2022-11-24T16:42:50.655547Z"
        },
        "id": "9c85b87c",
        "colab": {
          "base_uri": "https://localhost:8080/"
        },
        "outputId": "55ba3ea6-0225-4642-c345-46c59e66f098"
      },
      "outputs": [
        {
          "output_type": "execute_result",
          "data": {
            "text/plain": [
              "tensor([3, 4, 4,  ..., 3, 3, 3])"
            ]
          },
          "metadata": {},
          "execution_count": 21
        }
      ],
      "source": [
        "label = graph.ndata['label']\n",
        "label"
      ]
    },
    {
      "cell_type": "markdown",
      "id": "8ffdf1c0",
      "metadata": {
        "id": "8ffdf1c0"
      },
      "source": [
        "Here are train, validation and test masks."
      ]
    },
    {
      "cell_type": "code",
      "execution_count": 22,
      "id": "a0cb7ad4",
      "metadata": {
        "execution": {
          "iopub.execute_input": "2022-11-24T16:42:50.655547Z",
          "iopub.status.busy": "2022-11-24T16:42:50.655547Z",
          "iopub.status.idle": "2022-11-24T16:42:50.671172Z",
          "shell.execute_reply": "2022-11-24T16:42:50.671172Z"
        },
        "id": "a0cb7ad4",
        "colab": {
          "base_uri": "https://localhost:8080/"
        },
        "outputId": "b1f34905-96ac-4b84-9ee3-60f7803d9ee9"
      },
      "outputs": [
        {
          "output_type": "execute_result",
          "data": {
            "text/plain": [
              "(tensor([False, False, False,  ..., False, False, False]),\n",
              " tensor([ True,  True,  True,  ..., False, False, False]),\n",
              " tensor([False, False, False,  ...,  True,  True,  True]))"
            ]
          },
          "metadata": {},
          "execution_count": 22
        }
      ],
      "source": [
        "train_mask = graph.ndata['train_mask']\n",
        "val_mask = graph.ndata['val_mask']\n",
        "test_mask = graph.ndata['test_mask']\n",
        "val_mask, train_mask, test_mask"
      ]
    },
    {
      "cell_type": "markdown",
      "id": "e0536c34",
      "metadata": {
        "id": "e0536c34"
      },
      "source": [
        "### Task 6. Graph convolution as matrix product (0 points)"
      ]
    },
    {
      "cell_type": "markdown",
      "id": "ddc79913",
      "metadata": {
        "id": "ddc79913"
      },
      "source": [
        "Graph convolutional network (GCN) was proposed in [[1]](#references) and defined on an undirected graph as the following propagation rule:\n",
        "\n",
        "$$H^{(l)}=\\sigma\\left(\\tilde D^{-1 / 2} \\tilde A \\tilde D^{-1 / 2} H^{(l-1)} W^{(l)}\\right)$$\n",
        "\n",
        "where $\\tilde A = A + I_N$ is the adjacency matrix with added self-connections. $I_N$ is the identity matrix, $\\tilde D_{ii} = \\sum_j \\tilde A_{ij}$ is the degree matrix and $W^{(l)}$ is trainable matrix at the layer $l$. $\\sigma$ represents non-linear activation function such as ReLU. $H^{(l)}$ is the hidden states at the layer $l$ and $H^{(0)} = X$ is the initial feature matrix.\n",
        "\n",
        "Write a class `GCNMatrixProductLayer` that takes adjacency matrix, hidden states and returns the next hidden states before activation."
      ]
    },
    {
      "cell_type": "code",
      "execution_count": 23,
      "id": "7ff5b791",
      "metadata": {
        "execution": {
          "iopub.execute_input": "2022-11-24T16:42:50.671172Z",
          "iopub.status.busy": "2022-11-24T16:42:50.671172Z",
          "iopub.status.idle": "2022-11-24T16:42:50.702422Z",
          "shell.execute_reply": "2022-11-24T16:42:50.702422Z"
        },
        "id": "7ff5b791",
        "nbgrader": {
          "checksum": "a8e8bb1c6da30605ca8ba49a6c4ecfa9",
          "grade": false,
          "grade_id": "cell-b71f48a8f9c231a0",
          "locked": false,
          "schema_version": 3,
          "solution": true,
          "task": false
        }
      },
      "outputs": [],
      "source": [
        "class GCNMatrixProductLayer(nn.Module):\n",
        "    def __init__(self, in_dim, out_dim):\n",
        "        super().__init__()\n",
        "        self.dense = nn.Linear(in_dim, out_dim)\n",
        "        \n",
        "    def forward(self, adj, h):\n",
        "        _adj = adj.clone()\n",
        "        ### BEGIN SOLUTION\n",
        "        _adj = _adj + np.eye(adj.shape[0], dtype='float32')\n",
        "        norm = _adj.sum(dim=0)**-0.5\n",
        "        _adj = norm[:, None] * _adj * norm[None, :]\n",
        "        h = _adj @ self.dense(h)\n",
        "        return h\n",
        "        ### END SOLUTION"
      ]
    },
    {
      "cell_type": "code",
      "execution_count": 24,
      "id": "904fa061",
      "metadata": {
        "execution": {
          "iopub.execute_input": "2022-11-24T16:42:50.702422Z",
          "iopub.status.busy": "2022-11-24T16:42:50.702422Z",
          "iopub.status.idle": "2022-11-24T16:42:50.718047Z",
          "shell.execute_reply": "2022-11-24T16:42:50.718047Z"
        },
        "id": "904fa061",
        "nbgrader": {
          "checksum": "508f28b0a571960c10b36bb656874b59",
          "grade": true,
          "grade_id": "cell-59516dd351a3b233",
          "locked": true,
          "points": 0,
          "schema_version": 3,
          "solution": false,
          "task": false
        }
      },
      "outputs": [],
      "source": [
        "layer = GCNMatrixProductLayer(in_dim=2708, out_dim=10)\n",
        "with torch.no_grad():\n",
        "    layer.dense.weight.fill_(0.1)\n",
        "    layer.dense.bias.fill_(0.1)\n",
        "    h = layer(adj, torch.eye(2708))\n",
        "assert round(h[0, 0].item(), 2) == 0.19"
      ]
    },
    {
      "cell_type": "markdown",
      "id": "1b041722",
      "metadata": {
        "id": "1b041722"
      },
      "source": [
        "Write a class `GCNMatrixProduct` that takes the adjacency matrix and feature matrix and performs two-layer convolution with intermediate ReLU activation. The class initialized by input, hidden and output dimensions."
      ]
    },
    {
      "cell_type": "code",
      "execution_count": 25,
      "id": "1c9ef4e4",
      "metadata": {
        "execution": {
          "iopub.execute_input": "2022-11-24T16:42:50.718047Z",
          "iopub.status.busy": "2022-11-24T16:42:50.718047Z",
          "iopub.status.idle": "2022-11-24T16:42:50.733672Z",
          "shell.execute_reply": "2022-11-24T16:42:50.733672Z"
        },
        "id": "1c9ef4e4",
        "nbgrader": {
          "checksum": "856ad1e1e46a477d61fb9ebbde928fa4",
          "grade": false,
          "grade_id": "cell-5cecc368828015e4",
          "locked": false,
          "schema_version": 3,
          "solution": true,
          "task": false
        }
      },
      "outputs": [],
      "source": [
        "class GCNMatrixProduct(nn.Module):\n",
        "    def __init__(self, in_dim, hid_dim, out_dim):\n",
        "        super().__init__()\n",
        "        ### BEGIN SOLUTION\n",
        "        self.conv1 = GCNMatrixProductLayer(in_dim, hid_dim)\n",
        "        self.conv2 = GCNMatrixProductLayer(hid_dim, out_dim)\n",
        "        ### END SOLUTION\n",
        "    def forward(self, adj, feat):\n",
        "        ### BEGIN SOLUTION\n",
        "        h = F.relu(self.conv1(adj, feat))\n",
        "        h = self.conv2(adj, h)\n",
        "        return h\n",
        "        ### END SOLUTION"
      ]
    },
    {
      "cell_type": "code",
      "execution_count": 26,
      "id": "13b3e790",
      "metadata": {
        "execution": {
          "iopub.execute_input": "2022-11-24T16:42:50.733672Z",
          "iopub.status.busy": "2022-11-24T16:42:50.733672Z",
          "iopub.status.idle": "2022-11-24T16:42:50.749297Z",
          "shell.execute_reply": "2022-11-24T16:42:50.749297Z"
        },
        "nbgrader": {
          "checksum": "20891f674b1f17ad9b39e5e7323599cd",
          "grade": true,
          "grade_id": "cell-13a9aa3e489245ee",
          "locked": true,
          "points": 0,
          "schema_version": 3,
          "solution": false,
          "task": false
        },
        "id": "13b3e790"
      },
      "outputs": [],
      "source": [
        "model = GCNMatrixProduct(2708, 32, 7)\n",
        "logits = model(adj, torch.eye(2708))\n",
        "assert logits.shape == (2708, 7)\n",
        "assert logits.min() < 0"
      ]
    },
    {
      "cell_type": "markdown",
      "id": "217ab100",
      "metadata": {
        "id": "217ab100"
      },
      "source": [
        "Let us create the two-layer GCN for node classification task."
      ]
    },
    {
      "cell_type": "code",
      "execution_count": 27,
      "id": "a83c6c89",
      "metadata": {
        "execution": {
          "iopub.execute_input": "2022-11-24T16:42:50.749297Z",
          "iopub.status.busy": "2022-11-24T16:42:50.749297Z",
          "iopub.status.idle": "2022-11-24T16:42:50.764919Z",
          "shell.execute_reply": "2022-11-24T16:42:50.764919Z"
        },
        "id": "a83c6c89"
      },
      "outputs": [],
      "source": [
        "model = GCNMatrixProduct(1433, 32, 7)\n",
        "opt = torch.optim.Adam(model.parameters(), lr=0.01)\n",
        "log = []"
      ]
    },
    {
      "cell_type": "markdown",
      "id": "0569ff05",
      "metadata": {
        "id": "0569ff05"
      },
      "source": [
        "We train the model in semi-supervised setting: propagate information over the full graph, but optimize it by only train cross-entropy loss."
      ]
    },
    {
      "cell_type": "code",
      "execution_count": 28,
      "id": "e2e7d012",
      "metadata": {
        "execution": {
          "iopub.execute_input": "2022-11-24T16:42:50.764919Z",
          "iopub.status.busy": "2022-11-24T16:42:50.764919Z",
          "iopub.status.idle": "2022-11-24T16:42:50.796172Z",
          "shell.execute_reply": "2022-11-24T16:42:50.796172Z"
        },
        "id": "e2e7d012",
        "colab": {
          "base_uri": "https://localhost:8080/",
          "height": 313,
          "referenced_widgets": [
            "eb08397bb8b84977ae02ed269925cfb7",
            "4249985c24ed4f30840aa1bfb41666ba",
            "4aa1f36351ed4ed09bdf7bb9d26aaf50",
            "947fbdd528714137ad7a616a28787442",
            "fb35cee9c1aa4cd186499c73afaa2b3f",
            "ce1777bd29384d7983567f4b55bd49b1",
            "5455da6a9dd14866959d8edee7e3dd71",
            "f261b6773eba4e84b4c395bfcff9ea4c",
            "4e02400340cc4384b744b7b30b82047b",
            "743749e430f643c480e9a1c2e05dde09",
            "7febf59034c04c3cb8e5ffc20ef4c6e9"
          ]
        },
        "outputId": "dcb95dae-a42a-4f1a-f90f-24892dd740ba"
      },
      "outputs": [
        {
          "output_type": "display_data",
          "data": {
            "text/plain": [
              "  0%|          | 0/200 [00:00<?, ?it/s]"
            ],
            "application/vnd.jupyter.widget-view+json": {
              "version_major": 2,
              "version_minor": 0,
              "model_id": "eb08397bb8b84977ae02ed269925cfb7"
            }
          },
          "metadata": {}
        },
        {
          "output_type": "display_data",
          "data": {
            "text/plain": [
              "<Figure size 432x288 with 1 Axes>"
            ],
            "image/png": "[encoded data removed]"
          },
          "metadata": {
            "needs_background": "light"
          }
        }
      ],
      "source": [
        "n_epochs = 200\n",
        "for i in trange(n_epochs):\n",
        "    \n",
        "    logits = model(adj, feat)\n",
        "    train_loss = F.cross_entropy(logits[train_mask], label[train_mask])\n",
        "\n",
        "    opt.zero_grad()\n",
        "    train_loss.backward()\n",
        "    opt.step()\n",
        "\n",
        "    with torch.no_grad():\n",
        "        val_loss = F.cross_entropy(logits[val_mask], label[val_mask])\n",
        "    \n",
        "    log.append([train_loss.item(), val_loss.item()])\n",
        "    \n",
        "plt.plot(np.array(log))\n",
        "plt.title('Loss')\n",
        "plt.legend(['train', 'val'])\n",
        "plt.show()"
      ]
    },
    {
      "cell_type": "markdown",
      "id": "9e222fe4",
      "metadata": {
        "id": "9e222fe4"
      },
      "source": [
        "We evaluate the model by balanced accuracy that accounts for inbalanced classes."
      ]
    },
    {
      "cell_type": "code",
      "execution_count": 29,
      "id": "7945090a",
      "metadata": {
        "execution": {
          "iopub.execute_input": "2022-11-24T16:42:50.796172Z",
          "iopub.status.busy": "2022-11-24T16:42:50.796172Z",
          "iopub.status.idle": "2022-11-24T16:42:50.811798Z",
          "shell.execute_reply": "2022-11-24T16:42:50.811798Z"
        },
        "id": "7945090a",
        "nbgrader": {
          "checksum": "b39b99f78ca3f8319ac2b523edc550a9",
          "grade": true,
          "grade_id": "cell-d77d156cd37bfe99",
          "locked": true,
          "points": 0,
          "schema_version": 3,
          "solution": false,
          "task": false
        },
        "colab": {
          "base_uri": "https://localhost:8080/"
        },
        "outputId": "5472e426-e2d3-4d5f-c301-dd46a0f4de45"
      },
      "outputs": [
        {
          "output_type": "stream",
          "name": "stdout",
          "text": [
            "Balanced accuracy: 0.81\n"
          ]
        }
      ],
      "source": [
        "with torch.no_grad():\n",
        "    logits = model(adj, feat)\n",
        "y_pred = torch.argmax(logits[test_mask], 1)\n",
        "score = balanced_accuracy_score(label[test_mask], y_pred)\n",
        "assert score > 0.7\n",
        "print(f'Balanced accuracy: {score:.2f}')"
      ]
    },
    {
      "cell_type": "markdown",
      "id": "f185c6d0",
      "metadata": {
        "id": "f185c6d0"
      },
      "source": [
        "### Task 7. Graph convolution as message passing (0 points)"
      ]
    },
    {
      "cell_type": "markdown",
      "id": "d23ffa87",
      "metadata": {
        "id": "d23ffa87"
      },
      "source": [
        "The original GCN is computationally expensive for large graphs since it requires to compute matrix product $\\tilde D^{-1 / 2} \\tilde A \\tilde D^{-1 / 2} H^{l}$, that costs $O(|V|^2)$. However, the information is propagated along edges, the number of which is linearly depends on the number of nodes in scale-free networks, that is $O(|V|)$. Message passing framework was proposed in [[2]](#references) to reduce computation costs by representing a graph neural network's layer as the composition of two functions:\n",
        "\n",
        "$$m_{ij}^l = \\text{Message}\\left(h_i^{l-1}, h_j^{l-1}\\right)$$\n",
        "$$h_i^l = \\text{Reduce}_{j \\in \\mathcal{N}_\\text{in}(i)}\\left(m_{ji}^l\\right)$$\n",
        "\n",
        "where $\\text{Message}(\\cdot)$ is the message function that applied on each edges in the graph and stores computed values (messages) on edges. $\\text{Reduce}_{j \\in \\mathcal{N}_\\text{in}(i)}(\\cdot)$ is the reduce (aka aggregation, reduction) function that applied on each node and aggregates messages from incoming links (mailboxes). \n",
        "\n",
        "<img src='https://raw.githubusercontent.com/netspractice/network-science/main/images/messpass.png' width=600>\n",
        "\n",
        "In particular, GCN can be represented as follows:\n",
        "\n",
        "$$h_i^l = \\sigma \\left(W^l \\sum_{j \\in \\mathcal{N}_\\text{in}(i)}\\frac{h_j^{l-1}}{\\sqrt{|\\mathcal{N}_\\text{in}(j)||\\mathcal{N}_\\text{in}(i)|}}\\right)$$\n",
        "\n",
        "where the message function\n",
        "\n",
        "$$m_{ji}^l = \\frac{W^l h_j^{l-1}}{\\sqrt{|\\mathcal{N}_\\text{in}(j)|}}$$ \n",
        "\n",
        "is the transformed source node's hidden state normalized by the in-degree of the source node. The reduce function\n",
        "\n",
        "$$h_i^l = \\sigma \\left(\\frac{\\sum_{j \\in \\mathcal{N}_\\text{in}(i)} m_{ji}^l}{\\sqrt{|\\mathcal{N}_\\text{in}(i)|}}\\right)$$\n",
        "\n",
        "is the sum over all incoming neighbors' hidden states with in-degree normalization and subsequent activation $\\sigma$. Here we assume that the graph includes self-connections, that is a node is in its neighborhood. We also assume that the graph is equivalent to its undirected representation, that is $A = A^\\top$.\n",
        "\n",
        "In DGL, message passing is applied by `graph.update_all(message_func, reduce_func)` where `message_func` is defined on edges and `reduce_func` on nodes. DGL contains built-in message and reduce functions, but it is also possible to define your own functions. GCN can be implemented using following functions: \n",
        "* message function `fn.copy_src(src='h', out='m')` copies the source node feature `h` into the mailbox `m`\n",
        "* reduce function `fn.sum(msg='m', out='h')` sums messages from mailboxes `m` and save the result into the node feature `h`\n",
        "\n",
        "Write a class `GCNMessagePassingLayer` that takes a graph, hidden states and returns the next hidden states before activation.\n",
        "\n",
        "*Hints:*\n",
        "* _adding node features is similar to adding values to a dictionary: `graph.ndata['h'] = h`_\n",
        "* _in-degrees can be computed by `graph.in_degrees()`_\n",
        "\n",
        "*Remark: `graph.local_scope()` makes all operations isolated from the original graphs.*"
      ]
    },
    {
      "cell_type": "code",
      "execution_count": 37,
      "id": "f5984036",
      "metadata": {
        "execution": {
          "iopub.execute_input": "2022-11-24T16:42:50.811798Z",
          "iopub.status.busy": "2022-11-24T16:42:50.811798Z",
          "iopub.status.idle": "2022-11-24T16:42:50.843047Z",
          "shell.execute_reply": "2022-11-24T16:42:50.843047Z"
        },
        "id": "f5984036",
        "nbgrader": {
          "checksum": "b7285e6772f70805893fd9df8c98dd43",
          "grade": false,
          "grade_id": "cell-7e663cf5c1afa659",
          "locked": false,
          "schema_version": 3,
          "solution": true,
          "task": false
        }
      },
      "outputs": [],
      "source": [
        "class GCNMessagePassingLayer(nn.Module):\n",
        "    def __init__(self, in_dim, out_dim):\n",
        "        super().__init__()\n",
        "        self.dense = nn.Linear(in_dim, out_dim)\n",
        "    def forward(self, graph, h):\n",
        "        with graph.local_scope():\n",
        "            graph = graph.add_self_loop()\n",
        "            ### BEGIN SOLUTION\n",
        "            norm = graph.in_degrees()[:, None]**-0.5\n",
        "            h = self.dense(h)\n",
        "            h = h * norm\n",
        "            graph.ndata['h'] = h\n",
        "            graph.update_all(\n",
        "                fn.copy_src(src='h', out='m'), \n",
        "                fn.sum(msg='m', out='h')\n",
        "            )\n",
        "            h = graph.ndata['h']\n",
        "            h = h * norm\n",
        "            return h\n",
        "            ### END SOLUTION"
      ]
    },
    {
      "cell_type": "code",
      "execution_count": 38,
      "id": "5d8f0c5f",
      "metadata": {
        "execution": {
          "iopub.execute_input": "2022-11-24T16:42:50.843047Z",
          "iopub.status.busy": "2022-11-24T16:42:50.843047Z",
          "iopub.status.idle": "2022-11-24T16:42:50.874297Z",
          "shell.execute_reply": "2022-11-24T16:42:50.874297Z"
        },
        "id": "5d8f0c5f",
        "nbgrader": {
          "checksum": "8073fd1f805718186c8fd3fd29de8351",
          "grade": true,
          "grade_id": "cell-b7b8314f51fe4d0f",
          "locked": true,
          "points": 0,
          "schema_version": 3,
          "solution": false,
          "task": false
        }
      },
      "outputs": [],
      "source": [
        "layer = GCNMessagePassingLayer(in_dim=2708, out_dim=10)\n",
        "with torch.no_grad():\n",
        "    layer.dense.weight.fill_(0.1)\n",
        "    layer.dense.bias.fill_(0.1)\n",
        "    h = layer(graph, torch.eye(2708))\n",
        "assert round(h[0, 0].item(), 2) == 0.19"
      ]
    },
    {
      "cell_type": "markdown",
      "id": "5fa85c8d",
      "metadata": {
        "id": "5fa85c8d"
      },
      "source": [
        "Write a class `GCNMessagePassing` that takes the graph and feature matrix and performs two-layer convolution with intermediate ReLU activation. The class initialized by input, hidden and output dimensions."
      ]
    },
    {
      "cell_type": "code",
      "execution_count": 39,
      "id": "c5391849",
      "metadata": {
        "execution": {
          "iopub.execute_input": "2022-11-24T16:42:50.874297Z",
          "iopub.status.busy": "2022-11-24T16:42:50.874297Z",
          "iopub.status.idle": "2022-11-24T16:42:50.889922Z",
          "shell.execute_reply": "2022-11-24T16:42:50.889922Z"
        },
        "id": "c5391849",
        "nbgrader": {
          "checksum": "648906ac3877307e03e5e86946e862da",
          "grade": false,
          "grade_id": "cell-0e8fb3b6e5858162",
          "locked": false,
          "schema_version": 3,
          "solution": true,
          "task": false
        }
      },
      "outputs": [],
      "source": [
        "class GCNMessagePassing(nn.Module):\n",
        "    def __init__(self, in_dim, hid_dim, out_dim):\n",
        "        super().__init__()\n",
        "        ### BEGIN SOLUTION\n",
        "        self.conv1 = GCNMessagePassingLayer(in_dim, hid_dim)\n",
        "        self.conv2 = GCNMessagePassingLayer(hid_dim, out_dim)\n",
        "        ### END SOLUTION\n",
        "    def forward(self, graph, feat):\n",
        "        ### BEGIN SOLUTION\n",
        "        h = F.relu(self.conv1(graph, feat))\n",
        "        h = self.conv2(graph, h)\n",
        "        return h\n",
        "        ### END SOLUTION"
      ]
    },
    {
      "cell_type": "code",
      "execution_count": 40,
      "id": "f6c274e7",
      "metadata": {
        "execution": {
          "iopub.execute_input": "2022-11-24T16:42:50.889922Z",
          "iopub.status.busy": "2022-11-24T16:42:50.889922Z",
          "iopub.status.idle": "2022-11-24T16:42:50.905617Z",
          "shell.execute_reply": "2022-11-24T16:42:50.905547Z"
        },
        "nbgrader": {
          "checksum": "39b9ccecacba09fdee61474dd14c580d",
          "grade": true,
          "grade_id": "cell-bbdfaaf84f5f19cf",
          "locked": true,
          "points": 0,
          "schema_version": 3,
          "solution": false,
          "task": false
        },
        "id": "f6c274e7"
      },
      "outputs": [],
      "source": [
        "model = GCNMessagePassing(2708, 32, 7)\n",
        "logits = model(graph, torch.eye(2708))\n",
        "assert logits.shape == (2708, 7)\n",
        "assert logits.min() < 0"
      ]
    },
    {
      "cell_type": "code",
      "execution_count": 41,
      "id": "7b8332d3",
      "metadata": {
        "execution": {
          "iopub.execute_input": "2022-11-24T16:42:50.905617Z",
          "iopub.status.busy": "2022-11-24T16:42:50.905617Z",
          "iopub.status.idle": "2022-11-24T16:42:50.961400Z",
          "shell.execute_reply": "2022-11-24T16:42:50.961400Z"
        },
        "id": "7b8332d3"
      },
      "outputs": [],
      "source": [
        "model = GCNMessagePassing(in_dim=1433, hid_dim=32, out_dim=7)\n",
        "opt = Adam(model.parameters(), lr=0.01)\n",
        "log = []"
      ]
    },
    {
      "cell_type": "markdown",
      "id": "8712d82d",
      "metadata": {
        "id": "8712d82d"
      },
      "source": [
        "We train the model in semi-supervised setting: propagate information over the full graph, but optimize it by only train cross-entropy loss."
      ]
    },
    {
      "cell_type": "code",
      "execution_count": 35,
      "id": "628bc120",
      "metadata": {
        "execution": {
          "iopub.execute_input": "2022-11-24T16:42:50.961400Z",
          "iopub.status.busy": "2022-11-24T16:42:50.961400Z",
          "iopub.status.idle": "2022-11-24T16:42:50.992649Z",
          "shell.execute_reply": "2022-11-24T16:42:50.992649Z"
        },
        "id": "628bc120",
        "colab": {
          "base_uri": "https://localhost:8080/",
          "height": 313,
          "referenced_widgets": [
            "5e4870a2d3544fd58cf74617875d975d",
            "dd5cc6f4b40b47b680af367208d495f2",
            "26b33dfdf3304d3d80fd904d04ec76ba",
            "1c2ff0a5e6f04aa09b4f2423f08b2f12",
            "4fb68b9b34484f6692d80cc21bd4135d",
            "17beb14ea8d846219f245aedb063b9c4",
            "56f26c5f3e79436a8fa4f2dd92446a7c",
            "48e814b5eb5d4b87a9d70f1c4c989643",
            "4ce93c7c303f4b80ae5468744e80d088",
            "e80995d2646b4bbe9e020302788835fa",
            "1b999e803a014ec9ad98add69779c890"
          ]
        },
        "outputId": "4e5901fc-85e6-433e-a6b9-49afb9b658a0"
      },
      "outputs": [
        {
          "output_type": "display_data",
          "data": {
            "text/plain": [
              "  0%|          | 0/200 [00:00<?, ?it/s]"
            ],
            "application/vnd.jupyter.widget-view+json": {
              "version_major": 2,
              "version_minor": 0,
              "model_id": "5e4870a2d3544fd58cf74617875d975d"
            }
          },
          "metadata": {}
        },
        {
          "output_type": "display_data",
          "data": {
            "text/plain": [
              "<Figure size 432x288 with 1 Axes>"
            ],
            "image/png": "[encoded data removed]"
          },
          "metadata": {
            "needs_background": "light"
          }
        }
      ],
      "source": [
        "n_epochs = 200\n",
        "for i in trange(n_epochs):\n",
        "    \n",
        "    logits = model(graph, feat)\n",
        "    train_loss = F.cross_entropy(logits[train_mask], label[train_mask])\n",
        "\n",
        "    opt.zero_grad()\n",
        "    train_loss.backward()\n",
        "    opt.step()\n",
        "\n",
        "    with torch.no_grad():\n",
        "        val_loss = F.cross_entropy(logits[val_mask], label[val_mask])\n",
        "    \n",
        "    log.append([train_loss.item(), val_loss.item()])\n",
        "    \n",
        "plt.plot(np.array(log))\n",
        "plt.title('Loss')\n",
        "plt.legend(['train', 'val'])\n",
        "plt.show()"
      ]
    },
    {
      "cell_type": "code",
      "execution_count": 36,
      "id": "709249ab",
      "metadata": {
        "execution": {
          "iopub.execute_input": "2022-11-24T16:42:50.992649Z",
          "iopub.status.busy": "2022-11-24T16:42:50.992649Z",
          "iopub.status.idle": "2022-11-24T16:42:51.008273Z",
          "shell.execute_reply": "2022-11-24T16:42:51.008273Z"
        },
        "id": "709249ab",
        "nbgrader": {
          "checksum": "d96adaccfb3d3494968ec7a788b7db10",
          "grade": true,
          "grade_id": "cell-5ec89b78a948cb61",
          "locked": true,
          "points": 0,
          "schema_version": 3,
          "solution": false,
          "task": false
        },
        "colab": {
          "base_uri": "https://localhost:8080/"
        },
        "outputId": "8a745c11-adf1-4f55-e3df-abcba7ef7769"
      },
      "outputs": [
        {
          "output_type": "stream",
          "name": "stdout",
          "text": [
            "Balanced accuracy: 0.81\n"
          ]
        }
      ],
      "source": [
        "with torch.no_grad():\n",
        "    logits = model(graph, feat)\n",
        "y_pred = torch.argmax(logits[test_mask], 1)\n",
        "score = balanced_accuracy_score(label[test_mask], y_pred)\n",
        "assert score > 0.7\n",
        "print(f'Balanced accuracy: {score:.2f}')"
      ]
    },
    {
      "cell_type": "markdown",
      "id": "961b9ddd",
      "metadata": {
        "id": "961b9ddd"
      },
      "source": [
        "### Task 8. Graph auto-encoder (3 points)"
      ]
    },
    {
      "cell_type": "markdown",
      "id": "53670340",
      "metadata": {
        "id": "53670340"
      },
      "source": [
        "Graph auto-encoder (GAE) was proposed in [[3]](#references) as a simple node embedding model that incorporates node features. The model consists of two parts:\n",
        "* GCN node encoder $Z = \\text{GCN}(X, A)$ where $X$ is the feature matrix\n",
        "* Dot product decoder $\\hat A = \\sigma(ZZ^\\top)$ where $\\sigma$ is the sigmoid function\n",
        "\n",
        "Write a class `DotProductDecoder` that takes node embeddgins and returns dot product before activation."
      ]
    },
    {
      "cell_type": "code",
      "execution_count": 42,
      "id": "15c460db",
      "metadata": {
        "execution": {
          "iopub.execute_input": "2022-11-24T16:42:51.008273Z",
          "iopub.status.busy": "2022-11-24T16:42:51.008273Z",
          "iopub.status.idle": "2022-11-24T16:42:51.023900Z",
          "shell.execute_reply": "2022-11-24T16:42:51.023900Z"
        },
        "nbgrader": {
          "checksum": "94fc1408b8ccdeccd59e8c5d6f6aa5c4",
          "grade": false,
          "grade_id": "cell-a67dd0513e743f58",
          "locked": false,
          "schema_version": 3,
          "solution": true,
          "task": false
        },
        "id": "15c460db"
      },
      "outputs": [],
      "source": [
        "class DotProductDecoder(nn.Module):\n",
        "    def __init__(self):\n",
        "        super().__init__()\n",
        "    def forward(self, z):\n",
        "        # YOUR CODE HERE\n",
        "        return torch.mm(z, z.t())\n",
        "\n"
      ]
    },
    {
      "cell_type": "code",
      "execution_count": 43,
      "id": "c730e093",
      "metadata": {
        "execution": {
          "iopub.execute_input": "2022-11-24T16:42:51.023900Z",
          "iopub.status.busy": "2022-11-24T16:42:51.023900Z",
          "iopub.status.idle": "2022-11-24T16:42:51.039525Z",
          "shell.execute_reply": "2022-11-24T16:42:51.039525Z"
        },
        "nbgrader": {
          "checksum": "627e49028327bee50ff18660bc952fb5",
          "grade": true,
          "grade_id": "cell-4f9b59eac548798b",
          "locked": true,
          "points": 1,
          "schema_version": 3,
          "solution": false,
          "task": false
        },
        "id": "c730e093"
      },
      "outputs": [],
      "source": [
        "decoder = DotProductDecoder()\n",
        "assert torch.all(decoder(torch.eye(2)[:, :1]) * 2 == torch.tensor([[2, 0], [0, 0]]))"
      ]
    },
    {
      "cell_type": "markdown",
      "id": "34fb8d87",
      "metadata": {
        "id": "34fb8d87"
      },
      "source": [
        "The GAE is trained to reconstruct the adjacency matrix, that is the decoder can be considered as the link prediction model. The reconstruction loss is the binary cross entropy between the adjacency matrix $A$ and reconstructed adjacency matrix $\\hat A$. To overcome the imbalance between positive and negative edges, the loss is computed with positive weights — the number of negative examples divided by the number of positive examples, that is $(|V|^2 - E)/E$.\n",
        "\n",
        "Write a class `ReconstructionLoss` that takes reconstructed adjacency matrix and computes the binary cross entropy with positive weights `F.binary_cross_entropy_with_logits(label, target, pos_weights=...)`. The class is initialized by the adjacency matrix."
      ]
    },
    {
      "cell_type": "code",
      "source": [
        "class ReconstructionLoss:\n",
        "    def __init__(self, adj):\n",
        "        self.adj = adj\n",
        "\n",
        "    def __call__(self, rec_adj):\n",
        "        pos_weight = float(self.adj.shape[0] * self.adj.shape[0] - self.adj.sum()) / self.adj.sum()\n",
        "        return F.binary_cross_entropy_with_logits(rec_adj, self.adj, pos_weight=pos_weight) \n",
        "\n"
      ],
      "metadata": {
        "id": "hxbjZ4pg1yuz"
      },
      "id": "hxbjZ4pg1yuz",
      "execution_count": 44,
      "outputs": []
    },
    {
      "cell_type": "code",
      "execution_count": 45,
      "id": "575a9887",
      "metadata": {
        "execution": {
          "iopub.execute_input": "2022-11-24T16:42:51.055149Z",
          "iopub.status.busy": "2022-11-24T16:42:51.055149Z",
          "iopub.status.idle": "2022-11-24T16:42:51.070840Z",
          "shell.execute_reply": "2022-11-24T16:42:51.070840Z"
        },
        "nbgrader": {
          "checksum": "6822debfb10e4c8eaffb38f83d7011bd",
          "grade": true,
          "grade_id": "cell-e6b239111250755e",
          "locked": true,
          "points": 1,
          "schema_version": 3,
          "solution": false,
          "task": false
        },
        "id": "575a9887"
      },
      "outputs": [],
      "source": [
        "rec_loss = ReconstructionLoss(torch.eye(2))\n",
        "assert round(rec_loss(1 - torch.eye(2)).item(), 4) == 1.0032\n"
      ]
    },
    {
      "cell_type": "markdown",
      "id": "e9403b0b",
      "metadata": {
        "id": "e9403b0b"
      },
      "source": [
        "Here we initialize encoder, decoder, reconstruction loss and optimizer."
      ]
    },
    {
      "cell_type": "code",
      "execution_count": 319,
      "id": "0eb7900b",
      "metadata": {
        "execution": {
          "iopub.execute_input": "2022-11-24T16:42:51.071896Z",
          "iopub.status.busy": "2022-11-24T16:42:51.071896Z",
          "iopub.status.idle": "2022-11-24T16:42:51.087524Z",
          "shell.execute_reply": "2022-11-24T16:42:51.087524Z"
        },
        "id": "0eb7900b"
      },
      "outputs": [],
      "source": [
        "encoder = GCNMessagePassing(in_dim=1433, hid_dim=64, out_dim=32)\n",
        "decoder = DotProductDecoder()\n",
        "rec_loss = ReconstructionLoss(adj)\n",
        "opt = Adam(encoder.parameters(), lr=0.02)\n",
        "log = []\n"
      ]
    },
    {
      "cell_type": "markdown",
      "id": "6b5b5f88",
      "metadata": {
        "id": "6b5b5f88"
      },
      "source": [
        "Complete the training loop for GAE. Train the model in unsupervised setting: calculate the reconstruction loss over all edges."
      ]
    },
    {
      "cell_type": "code",
      "execution_count": 320,
      "id": "26457fa7",
      "metadata": {
        "execution": {
          "iopub.execute_input": "2022-11-24T16:42:51.087524Z",
          "iopub.status.busy": "2022-11-24T16:42:51.087524Z",
          "iopub.status.idle": "2022-11-24T16:42:51.117667Z",
          "shell.execute_reply": "2022-11-24T16:42:51.117667Z"
        },
        "nbgrader": {
          "checksum": "e25fc920277cbb62e8b52c82bd0732c0",
          "grade": false,
          "grade_id": "cell-f1fe4005cbb20b73",
          "locked": false,
          "schema_version": 3,
          "solution": true,
          "task": false
        },
        "id": "26457fa7",
        "colab": {
          "base_uri": "https://localhost:8080/",
          "height": 313,
          "referenced_widgets": [
            "2dcc70862b514bb58ef690cd0b954bc6",
            "3c15fb1a0e6f4049adf7a01b38467c2b",
            "c56df7b449f9406e8b8fbeab4b8f1905",
            "264d3dd1f3dd4b94b4771a7002737a79",
            "921b8bd926e54c40be25ac672000e0f9",
            "a6cbee60846d4771ad873dea6ef9ccba",
            "7001a801629c4b9cadeccb230888375f",
            "90757f648f1a4f2db36a84a40a070319",
            "6706ad5659e34289be6462728bc4ba98",
            "55e7fa7dff94403aa6d5be22e2a2f20b",
            "f288a8623a01446d8363b95533b9c1ec"
          ]
        },
        "outputId": "5b80a000-60e0-49b4-8e89-d91ca775c8de"
      },
      "outputs": [
        {
          "output_type": "display_data",
          "data": {
            "text/plain": [
              "  0%|          | 0/400 [00:00<?, ?it/s]"
            ],
            "application/vnd.jupyter.widget-view+json": {
              "version_major": 2,
              "version_minor": 0,
              "model_id": "2dcc70862b514bb58ef690cd0b954bc6"
            }
          },
          "metadata": {}
        },
        {
          "output_type": "display_data",
          "data": {
            "text/plain": [
              "<Figure size 432x288 with 1 Axes>"
            ],
            "image/png": "[encoded data removed]"
          },
          "metadata": {
            "needs_background": "light"
          }
        }
      ],
      "source": [
        "n_epochs = 400\n",
        "for i in trange(n_epochs):\n",
        "    ### BEGIN SOLUTION\n",
        "    z = encoder(graph, feat)\n",
        "    rec_adj = decoder(z)\n",
        "    loss = rec_loss(rec_adj)\n",
        "\n",
        "    opt.zero_grad()\n",
        "    loss.backward()\n",
        "    opt.step()\n",
        "\n",
        "    log.append(loss.item())\n",
        "    ### END SOLUTION\n",
        "    \n",
        "plt.plot(np.array(log))\n",
        "plt.title('Loss')\n",
        "plt.show()"
      ]
    },
    {
      "cell_type": "markdown",
      "id": "63152cb4",
      "metadata": {
        "id": "63152cb4"
      },
      "source": [
        "We evaluate GAE by obtaining node embeddings via GCN encoder and training the logistic regression for node classification task."
      ]
    },
    {
      "cell_type": "code",
      "execution_count": 321,
      "id": "8219af43",
      "metadata": {
        "execution": {
          "iopub.execute_input": "2022-11-24T16:42:51.117667Z",
          "iopub.status.busy": "2022-11-24T16:42:51.117667Z",
          "iopub.status.idle": "2022-11-24T16:42:51.148806Z",
          "shell.execute_reply": "2022-11-24T16:42:51.148806Z"
        },
        "nbgrader": {
          "checksum": "ef3b36a212c279031e8dd78a9afeae0e",
          "grade": true,
          "grade_id": "cell-85a3ec5453dd8fc2",
          "locked": true,
          "points": 1,
          "schema_version": 3,
          "solution": false,
          "task": false
        },
        "id": "8219af43",
        "colab": {
          "base_uri": "https://localhost:8080/"
        },
        "outputId": "c6e63c4e-9b2f-4985-90bc-1b95a66d3d7c"
      },
      "outputs": [
        {
          "output_type": "stream",
          "name": "stdout",
          "text": [
            "Balanced accuracy: 0.68\n"
          ]
        }
      ],
      "source": [
        "with torch.no_grad():\n",
        "    X = encoder.forward(graph, feat).numpy()\n",
        "y = label.numpy()\n",
        "\n",
        "lr = LogisticRegression()\n",
        "lr.fit(X[train_mask], y[train_mask])\n",
        "\n",
        "y_true = y[test_mask]\n",
        "y_pred = lr.predict(X[test_mask])\n",
        "score = balanced_accuracy_score(y_true, y_pred)\n",
        "assert score >= 0.6\n",
        "print(f'Balanced accuracy: {score:.2f}')"
      ]
    },
    {
      "cell_type": "markdown",
      "id": "ba9a163e",
      "metadata": {
        "id": "ba9a163e"
      },
      "source": [
        "Let us visualize node embeddings via t-SNE."
      ]
    },
    {
      "cell_type": "code",
      "execution_count": 322,
      "id": "7bd996e0",
      "metadata": {
        "execution": {
          "iopub.execute_input": "2022-11-24T16:42:51.148806Z",
          "iopub.status.busy": "2022-11-24T16:42:51.148806Z",
          "iopub.status.idle": "2022-11-24T16:42:51.164463Z",
          "shell.execute_reply": "2022-11-24T16:42:51.164463Z"
        },
        "id": "7bd996e0",
        "colab": {
          "base_uri": "https://localhost:8080/",
          "height": 499
        },
        "outputId": "88bd75e7-5572-4392-9c71-cd0d3ff3175c"
      },
      "outputs": [
        {
          "output_type": "display_data",
          "data": {
            "text/plain": [
              "<Figure size 576x576 with 1 Axes>"
            ],
            "image/png": "[encoded data removed]"
          },
          "metadata": {
            "needs_background": "light"
          }
        }
      ],
      "source": [
        "xy_emb = TSNE(n_components=2).fit_transform(X)\n",
        "plt.figure(figsize=(8, 8))\n",
        "plt.title('Node embeddings of graph auto-encoder')\n",
        "scatter = plt.scatter(xy_emb[:, 0], xy_emb[:, 1], c=label, s=10, cmap=plt.cm.Set2)"
      ]
    },
    {
      "cell_type": "markdown",
      "id": "46be1142",
      "metadata": {
        "id": "46be1142"
      },
      "source": [
        "Note that GAE is the simplest encoder-decoder graph model that can be extended to the variational graph auto-encoder (VGAE) [[3]](#references) and GraphVAE [[4]](#references)."
      ]
    },
    {
      "cell_type": "markdown",
      "id": "8cba1790",
      "metadata": {
        "id": "8cba1790"
      },
      "source": [
        "### Task 9. Neighbor sampling with GraphSAGE (1 points)"
      ]
    },
    {
      "cell_type": "markdown",
      "id": "308322f8",
      "metadata": {
        "id": "308322f8"
      },
      "source": [
        "GraphSAGE (SAmple and AggreGatE) was proposed in [[5]](#references) as a model for inductive representation learning on large graph. There are two main things:\n",
        "* Neighbor sampling allows to train models in mini-batches, that is the model can be trained on large graphs and it also can represent previously unseen nodes (semi-supervised inductive learning)\n",
        "* Aggregation is perfomed separately on neighboring nodes and the node itself, that can be considered as \"skip-connections\" in graph neural networks\n",
        "\n",
        "Neighbor sampling is a technique to construct a message flow graph by randomly sampled neighbors of a target node.\n",
        "\n",
        "<img src='https://raw.githubusercontent.com/netspractice/network-science/main/images/neighbor_sampling.png' width=800>"
      ]
    },
    {
      "cell_type": "markdown",
      "id": "4bddb502",
      "metadata": {
        "id": "4bddb502"
      },
      "source": [
        "In DGL, neighbor sampling is performed by `NodeDataLoader`. First, we create sets of indices with train, validation and test nodes."
      ]
    },
    {
      "cell_type": "code",
      "execution_count": 46,
      "id": "c056e85a",
      "metadata": {
        "execution": {
          "iopub.execute_input": "2022-11-24T16:42:51.164463Z",
          "iopub.status.busy": "2022-11-24T16:42:51.164463Z",
          "iopub.status.idle": "2022-11-24T16:42:51.180089Z",
          "shell.execute_reply": "2022-11-24T16:42:51.180089Z"
        },
        "id": "c056e85a",
        "colab": {
          "base_uri": "https://localhost:8080/"
        },
        "outputId": "080a2eee-fd10-4778-efbf-0cb80edd3261"
      },
      "outputs": [
        {
          "output_type": "execute_result",
          "data": {
            "text/plain": [
              "(tensor([0, 1, 2, 3, 4]),\n",
              " tensor([140, 141, 142, 143, 144]),\n",
              " tensor([1708, 1709, 1710, 1711, 1712]))"
            ]
          },
          "metadata": {},
          "execution_count": 46
        }
      ],
      "source": [
        "train_nids = graph.nodes()[train_mask]\n",
        "val_nids = graph.nodes()[val_mask]\n",
        "test_nids = graph.nodes()[test_mask]\n",
        "train_nids[:5], val_nids[:5], test_nids[:5]"
      ]
    },
    {
      "cell_type": "markdown",
      "id": "1a59f3e7",
      "metadata": {
        "id": "1a59f3e7"
      },
      "source": [
        "Next, we create `NeighborSampler` with given number of neighbors for each layer of our network. Let it be 4 neihbors for the first layer and 4 neighbors for the second. Next, we create dataloader with the sampler."
      ]
    },
    {
      "cell_type": "code",
      "execution_count": 47,
      "id": "292d1347",
      "metadata": {
        "execution": {
          "iopub.execute_input": "2022-11-24T16:42:51.180089Z",
          "iopub.status.busy": "2022-11-24T16:42:51.180089Z",
          "iopub.status.idle": "2022-11-24T16:42:51.195781Z",
          "shell.execute_reply": "2022-11-24T16:42:51.195781Z"
        },
        "id": "292d1347",
        "colab": {
          "base_uri": "https://localhost:8080/"
        },
        "outputId": "709a1df1-b959-461c-f436-a90b3e4e2245"
      },
      "outputs": [
        {
          "output_type": "execute_result",
          "data": {
            "text/plain": [
              "140"
            ]
          },
          "metadata": {},
          "execution_count": 47
        }
      ],
      "source": [
        "sampler = dgl.dataloading.NeighborSampler(fanouts=[4, 4])\n",
        "train_dataloader = dgl.dataloading.NodeDataLoader(graph, train_nids, sampler, batch_size=1)\n",
        "len(train_dataloader)"
      ]
    },
    {
      "cell_type": "markdown",
      "id": "f2ae454c",
      "metadata": {
        "id": "f2ae454c"
      },
      "source": [
        "We have set batch size is 1, that is each batch contains a single target node. The number of train nodes is 140. Dataloader iterates over:\n",
        "* input nodes — the nodes from which we collect messages in the first layer\n",
        "* output nodes — the target nodes that aggregate messages from neighbors in the second layers\n",
        "* message flow graphs — list of graphs for layers"
      ]
    },
    {
      "cell_type": "code",
      "execution_count": 48,
      "id": "bb6cba51",
      "metadata": {
        "execution": {
          "iopub.execute_input": "2022-11-24T16:42:51.195781Z",
          "iopub.status.busy": "2022-11-24T16:42:51.195781Z",
          "iopub.status.idle": "2022-11-24T16:42:51.211406Z",
          "shell.execute_reply": "2022-11-24T16:42:51.211406Z"
        },
        "id": "bb6cba51",
        "colab": {
          "base_uri": "https://localhost:8080/"
        },
        "outputId": "38c26561-5b5c-4266-9254-1e7262b1b4f7"
      },
      "outputs": [
        {
          "output_type": "execute_result",
          "data": {
            "text/plain": [
              "(tensor([   0,  633, 1862, 2582, 1701, 1866,  926, 1166]), tensor([0]))"
            ]
          },
          "metadata": {},
          "execution_count": 48
        }
      ],
      "source": [
        "for input_nodes, output_nodes, mfgs in train_dataloader:\n",
        "    break\n",
        "input_nodes, output_nodes"
      ]
    },
    {
      "cell_type": "markdown",
      "id": "04190b37",
      "metadata": {
        "id": "04190b37"
      },
      "source": [
        "We see that the target node 0 aggregates messages from 0, 633, 1862, etc."
      ]
    },
    {
      "cell_type": "code",
      "execution_count": 49,
      "id": "49567254",
      "metadata": {
        "execution": {
          "iopub.execute_input": "2022-11-24T16:42:51.211406Z",
          "iopub.status.busy": "2022-11-24T16:42:51.211406Z",
          "iopub.status.idle": "2022-11-24T16:42:51.226912Z",
          "shell.execute_reply": "2022-11-24T16:42:51.226912Z"
        },
        "id": "49567254",
        "colab": {
          "base_uri": "https://localhost:8080/"
        },
        "outputId": "daa9ff67-b615-4aa5-cd3e-e162f181587c"
      },
      "outputs": [
        {
          "output_type": "execute_result",
          "data": {
            "text/plain": [
              "(tensor([1, 2, 3]), tensor([0, 0, 0]))"
            ]
          },
          "metadata": {},
          "execution_count": 49
        }
      ],
      "source": [
        "mfgs[1].edges()"
      ]
    },
    {
      "cell_type": "markdown",
      "id": "16cdf063",
      "metadata": {
        "id": "16cdf063"
      },
      "source": [
        "The message flow graph (MFG) for the second layer consists of neighbors of the target nodes. Note that indices of nodes in MFG differs from indices in the original graph to optimize the message passing."
      ]
    },
    {
      "cell_type": "code",
      "execution_count": 50,
      "id": "b95d9250",
      "metadata": {
        "execution": {
          "iopub.execute_input": "2022-11-24T16:42:51.226912Z",
          "iopub.status.busy": "2022-11-24T16:42:51.226912Z",
          "iopub.status.idle": "2022-11-24T16:42:51.242544Z",
          "shell.execute_reply": "2022-11-24T16:42:51.242544Z"
        },
        "id": "b95d9250",
        "colab": {
          "base_uri": "https://localhost:8080/"
        },
        "outputId": "f80be64c-70a2-4f2d-ad12-31563b103e61"
      },
      "outputs": [
        {
          "output_type": "execute_result",
          "data": {
            "text/plain": [
              "(tensor([0, 1, 2, 3]), tensor([0]))"
            ]
          },
          "metadata": {},
          "execution_count": 50
        }
      ],
      "source": [
        "mfgs[1].srcnodes(), mfgs[1].dstnodes()"
      ]
    },
    {
      "cell_type": "markdown",
      "id": "fd8edf40",
      "metadata": {
        "id": "fd8edf40"
      },
      "source": [
        "MFG is bipartite, that is messages are passing from neighbors (source nodes) 0, 1, 2, 3 to the target (destination) node 0."
      ]
    },
    {
      "cell_type": "code",
      "execution_count": 51,
      "id": "d6e130d0",
      "metadata": {
        "execution": {
          "iopub.execute_input": "2022-11-24T16:42:51.242544Z",
          "iopub.status.busy": "2022-11-24T16:42:51.242544Z",
          "iopub.status.idle": "2022-11-24T16:42:51.258170Z",
          "shell.execute_reply": "2022-11-24T16:42:51.258170Z"
        },
        "id": "d6e130d0",
        "colab": {
          "base_uri": "https://localhost:8080/"
        },
        "outputId": "a7c529d2-0568-4491-cff4-67eb2c344037"
      },
      "outputs": [
        {
          "output_type": "execute_result",
          "data": {
            "text/plain": [
              "(tensor([1, 2, 3, 0, 4, 5, 0, 6, 4, 3, 0, 7, 2]),\n",
              " tensor([0, 0, 0, 1, 1, 1, 2, 2, 2, 2, 3, 3, 3]))"
            ]
          },
          "metadata": {},
          "execution_count": 51
        }
      ],
      "source": [
        "mfgs[0].edges()"
      ]
    },
    {
      "cell_type": "markdown",
      "id": "f4b74fcf",
      "metadata": {
        "id": "f4b74fcf"
      },
      "source": [
        "The first MFG consists of edges that follow from source nodes in the first layer (0, 1, 2, 3, 4, 5, 6, 7) to sourse nodes in the second layer (0, 1, 2, 3). Let us create train, validation and test dataloaders with batch size 64."
      ]
    },
    {
      "cell_type": "code",
      "execution_count": 52,
      "id": "8c703230",
      "metadata": {
        "execution": {
          "iopub.execute_input": "2022-11-24T16:42:51.258170Z",
          "iopub.status.busy": "2022-11-24T16:42:51.258170Z",
          "iopub.status.idle": "2022-11-24T16:42:51.274189Z",
          "shell.execute_reply": "2022-11-24T16:42:51.274189Z"
        },
        "id": "8c703230",
        "colab": {
          "base_uri": "https://localhost:8080/"
        },
        "outputId": "bec6e251-ae3d-4863-9a61-213ce5c78cef"
      },
      "outputs": [
        {
          "output_type": "execute_result",
          "data": {
            "text/plain": [
              "(3, 8, 16)"
            ]
          },
          "metadata": {},
          "execution_count": 52
        }
      ],
      "source": [
        "train_dataloader = dgl.dataloading.NodeDataLoader(graph, train_nids, sampler, batch_size=64)\n",
        "val_dataloader = dgl.dataloading.NodeDataLoader(graph, val_nids, sampler, batch_size=64)\n",
        "test_dataloader = dgl.dataloading.NodeDataLoader(graph, test_nids, sampler, batch_size=64)\n",
        "len(train_dataloader), len(val_dataloader), len(test_dataloader)"
      ]
    },
    {
      "cell_type": "markdown",
      "id": "a7f1688b",
      "metadata": {
        "id": "a7f1688b"
      },
      "source": [
        "GraphSAGE is defined by message passing:\n",
        "\n",
        "$$h_i^l = W^l[h_i^{l-1} || \\text{Aggregation}_{j \\in \\mathcal{N}(i)}(h_j^{l-1})]$$\n",
        "\n",
        "where $[\\cdot||\\cdot]$ is concatenation. Aggregation function may be represented by average, maximum or LSTM. Let us define two-layer GraphSAGE with average aggregation and intermediate ReLU activation. `SAGEConv` layer takes the MFG and features of source node, returns the hidden of destinations nodes.\n",
        "\n",
        "Write a function `forward` that takes MFGs, feature matrix for input nodes and returns the next hidden states of output nodes."
      ]
    },
    {
      "cell_type": "code",
      "source": [
        "# To be deleted \n",
        "\n",
        "class GCNMessagePassing(nn.Module):\n",
        "    def __init__(self, in_dim, hid_dim, out_dim):\n",
        "        super().__init__()\n",
        "        ### BEGIN SOLUTION\n",
        "        self.conv1 = GCNMessagePassingLayer(in_dim, hid_dim)\n",
        "        self.conv2 = GCNMessagePassingLayer(hid_dim, out_dim)\n",
        "        ### END SOLUTION\n",
        "    def forward(self, graph, feat):\n",
        "        ### BEGIN SOLUTION\n",
        "        h = F.relu(self.conv1(graph, feat))\n",
        "        h = self.conv2(graph, h)\n",
        "        return h\n",
        "        ### END SOLUTION\n"
      ],
      "metadata": {
        "id": "8Vvhd_yD_yhf"
      },
      "id": "8Vvhd_yD_yhf",
      "execution_count": 53,
      "outputs": []
    },
    {
      "cell_type": "code",
      "execution_count": 54,
      "id": "1c6d212a",
      "metadata": {
        "execution": {
          "iopub.execute_input": "2022-11-24T16:42:51.276187Z",
          "iopub.status.busy": "2022-11-24T16:42:51.276187Z",
          "iopub.status.idle": "2022-11-24T16:42:51.306187Z",
          "shell.execute_reply": "2022-11-24T16:42:51.306187Z"
        },
        "nbgrader": {
          "checksum": "a8240c388d4a88c8baba1ad933da82ab",
          "grade": false,
          "grade_id": "cell-42631ac0523a62a7",
          "locked": false,
          "schema_version": 3,
          "solution": true,
          "task": false
        },
        "id": "1c6d212a"
      },
      "outputs": [],
      "source": [
        "class GraphSAGE(nn.Module):\n",
        "    def __init__(self, in_dim, hid_dim, out_dim):\n",
        "        super().__init__()\n",
        "        self.conv1 = SAGEConv(in_dim, hid_dim, aggregator_type='mean')\n",
        "        self.conv2 = SAGEConv(hid_dim, out_dim, aggregator_type='mean')\n",
        "\n",
        "    def forward(self, mfgs, feat):\n",
        "        h = F.relu(self.conv1(mfgs, feat))\n",
        "        h = self.conv2(mfgs, h)\n",
        "        return h"
      ]
    },
    {
      "cell_type": "markdown",
      "id": "e747b35e",
      "metadata": {
        "id": "e747b35e"
      },
      "source": [
        "We train the model in semi-supervised setting: propagate information over the full graph, but optimize it by only train cross-entropy loss.\n",
        "\n",
        "Write a function `train_epoch` that takes GraphSAGE model, train dataloader, validation dataloader, the full feature matrix, labels and optimizer. It returns a tuple: the average train loss and the average validation loss. "
      ]
    },
    {
      "cell_type": "code",
      "source": [
        "model = GCNMessagePassing(in_dim=1433, hid_dim=32, out_dim=7)\n",
        "opt = Adam(model.parameters(), lr=0.01)\n",
        "log = []\n",
        "\n",
        "n_epochs = 200\n",
        "for i in trange(n_epochs):\n",
        "    \n",
        "    logits = model(graph, feat)\n",
        "    train_loss = F.cross_entropy(logits[train_mask], label[train_mask])\n",
        "\n",
        "    opt.zero_grad()\n",
        "    train_loss.backward()\n",
        "    opt.step()\n",
        "\n",
        "    with torch.no_grad():\n",
        "        val_loss = F.cross_entropy(logits[val_mask], label[val_mask])\n",
        "    \n",
        "    log.append([train_loss.item(), val_loss.item()])\n",
        "    \n",
        "plt.plot(np.array(log))\n",
        "plt.title('Loss')\n",
        "plt.legend(['train', 'val'])\n",
        "plt.show()\n"
      ],
      "metadata": {
        "id": "hQsYG-vyCcG8"
      },
      "id": "hQsYG-vyCcG8",
      "execution_count": null,
      "outputs": []
    },
    {
      "cell_type": "code",
      "source": [
        "def train_epoch(model, train_dataloader, val_dataloader, feat, label, opt):\n",
        "    ### BEGIN SOLUTION\n",
        "    train_losses = []\n",
        "    for input_nodes, output_nodes, mfgs in train_dataloader:\n",
        "        # YOUR CODE HERE\n",
        "        print(feat[input_nodes])\n",
        "        logits = model(mfgs, torch.tensor(feat))\n",
        "        train_loss = F.cross_entropy(logits[train_mask], label[train_mask]) \n",
        "        # raise NotImplementedError()\n",
        "        train_losses.append(train_loss.item())\n",
        "    val_losses = []\n",
        "    for input_nodes, output_nodes, mfgs in val_dataloader:\n",
        "        with torch.no_grad():\n",
        "            # YOUR CODE HERE\n",
        "            val_loss = F.cross_entropy(logits[val_mask], label[val_mask])\n",
        "            # raise NotImplementedError()\n",
        "            val_losses.append(val_loss.item())\n",
        "    return sum(train_losses) / len(train_losses), sum(val_losses) / len(val_losses)\n",
        "    ### END SOLUTION"
      ],
      "metadata": {
        "id": "7FCortJrFNS7"
      },
      "id": "7FCortJrFNS7",
      "execution_count": 83,
      "outputs": []
    },
    {
      "cell_type": "code",
      "execution_count": 75,
      "id": "d43c50da",
      "metadata": {
        "execution": {
          "iopub.execute_input": "2022-11-24T16:42:51.309189Z",
          "iopub.status.busy": "2022-11-24T16:42:51.308189Z",
          "iopub.status.idle": "2022-11-24T16:42:51.322189Z",
          "shell.execute_reply": "2022-11-24T16:42:51.321189Z"
        },
        "nbgrader": {
          "checksum": "73d95920bbbccb1a805f27142fe43168",
          "grade": false,
          "grade_id": "cell-7a7eb641f7d14a3b",
          "locked": false,
          "schema_version": 3,
          "solution": true,
          "task": false
        },
        "id": "d43c50da"
      },
      "outputs": [],
      "source": [
        "def train_epoch(model, train_dataloader, val_dataloader, feat, label, opt):\n",
        "    ### BEGIN SOLUTION\n",
        "    train_losses = []\n",
        "    for input_nodes, output_nodes, mfgs in train_dataloader:\n",
        "        # YOUR CODE HERE\n",
        "        # train_loss\n",
        "        # raise NotImplementedError()\n",
        "        train_losses.append(train_loss.item())\n",
        "    val_losses = []\n",
        "    for input_nodes, output_nodes, mfgs in val_dataloader:\n",
        "        with torch.no_grad():\n",
        "            # YOUR CODE HERE\n",
        "            # val_loss\n",
        "            raise NotImplementedError()\n",
        "            val_losses.append(val_loss.item())\n",
        "    return sum(train_losses) / len(train_losses), sum(val_losses) / len(val_losses)\n",
        "    ### END SOLUTION"
      ]
    },
    {
      "cell_type": "code",
      "execution_count": 84,
      "id": "8776fb7b",
      "metadata": {
        "execution": {
          "iopub.execute_input": "2022-11-24T16:42:51.324189Z",
          "iopub.status.busy": "2022-11-24T16:42:51.324189Z",
          "iopub.status.idle": "2022-11-24T16:42:51.354190Z",
          "shell.execute_reply": "2022-11-24T16:42:51.353188Z"
        },
        "nbgrader": {
          "checksum": "b0e9d2a0ef6b679c634b3fad79f21019",
          "grade": true,
          "grade_id": "cell-a6c94febdc58013b",
          "locked": true,
          "points": 0.5,
          "schema_version": 3,
          "solution": false,
          "task": false
        },
        "id": "8776fb7b",
        "colab": {
          "base_uri": "https://localhost:8080/",
          "height": 514
        },
        "outputId": "b184dc8e-ea0c-4976-c1c1-4349df3cc4c5"
      },
      "outputs": [
        {
          "output_type": "stream",
          "name": "stdout",
          "text": [
            "tensor([[0., 0., 0.,  ..., 0., 0., 0.],\n",
            "        [0., 0., 0.,  ..., 0., 0., 0.],\n",
            "        [0., 0., 0.,  ..., 0., 0., 0.],\n",
            "        ...,\n",
            "        [0., 0., 0.,  ..., 0., 0., 0.],\n",
            "        [0., 0., 0.,  ..., 0., 0., 0.],\n",
            "        [0., 0., 0.,  ..., 0., 0., 0.]])\n"
          ]
        },
        {
          "output_type": "error",
          "ename": "AttributeError",
          "evalue": "ignored",
          "traceback": [
            "\u001b[0;31m---------------------------------------------------------------------------\u001b[0m",
            "\u001b[0;31mAttributeError\u001b[0m                            Traceback (most recent call last)",
            "\u001b[0;32m<ipython-input-84-fac2c7ac3720>\u001b[0m in \u001b[0;36m<module>\u001b[0;34m\u001b[0m\n\u001b[1;32m      1\u001b[0m \u001b[0mmodel\u001b[0m \u001b[0;34m=\u001b[0m \u001b[0mGraphSAGE\u001b[0m\u001b[0;34m(\u001b[0m\u001b[0;36m1433\u001b[0m\u001b[0;34m,\u001b[0m \u001b[0;36m16\u001b[0m\u001b[0;34m,\u001b[0m \u001b[0;36m7\u001b[0m\u001b[0;34m)\u001b[0m\u001b[0;34m\u001b[0m\u001b[0;34m\u001b[0m\u001b[0m\n\u001b[1;32m      2\u001b[0m \u001b[0mopt\u001b[0m \u001b[0;34m=\u001b[0m \u001b[0mAdam\u001b[0m\u001b[0;34m(\u001b[0m\u001b[0mmodel\u001b[0m\u001b[0;34m.\u001b[0m\u001b[0mparameters\u001b[0m\u001b[0;34m(\u001b[0m\u001b[0;34m)\u001b[0m\u001b[0;34m,\u001b[0m \u001b[0mlr\u001b[0m\u001b[0;34m=\u001b[0m\u001b[0;36m0.1\u001b[0m\u001b[0;34m)\u001b[0m\u001b[0;34m\u001b[0m\u001b[0;34m\u001b[0m\u001b[0m\n\u001b[0;32m----> 3\u001b[0;31m \u001b[0mtrain_loss\u001b[0m\u001b[0;34m,\u001b[0m \u001b[0mval_loss\u001b[0m \u001b[0;34m=\u001b[0m \u001b[0mtrain_epoch\u001b[0m\u001b[0;34m(\u001b[0m\u001b[0mmodel\u001b[0m\u001b[0;34m,\u001b[0m \u001b[0mtrain_dataloader\u001b[0m\u001b[0;34m,\u001b[0m \u001b[0mval_dataloader\u001b[0m\u001b[0;34m,\u001b[0m \u001b[0mfeat\u001b[0m\u001b[0;34m,\u001b[0m \u001b[0mlabel\u001b[0m\u001b[0;34m,\u001b[0m \u001b[0mopt\u001b[0m\u001b[0;34m)\u001b[0m\u001b[0;34m\u001b[0m\u001b[0;34m\u001b[0m\u001b[0m\n\u001b[0m\u001b[1;32m      4\u001b[0m \u001b[0;32massert\u001b[0m \u001b[0mtype\u001b[0m\u001b[0;34m(\u001b[0m\u001b[0mtrain_loss\u001b[0m\u001b[0;34m)\u001b[0m \u001b[0;34m==\u001b[0m \u001b[0mfloat\u001b[0m\u001b[0;34m\u001b[0m\u001b[0;34m\u001b[0m\u001b[0m\n\u001b[1;32m      5\u001b[0m \u001b[0;32massert\u001b[0m \u001b[0mtype\u001b[0m\u001b[0;34m(\u001b[0m\u001b[0mval_loss\u001b[0m\u001b[0;34m)\u001b[0m \u001b[0;34m==\u001b[0m \u001b[0mfloat\u001b[0m\u001b[0;34m\u001b[0m\u001b[0;34m\u001b[0m\u001b[0m\n",
            "\u001b[0;32m<ipython-input-83-50e7b5b4bdca>\u001b[0m in \u001b[0;36mtrain_epoch\u001b[0;34m(model, train_dataloader, val_dataloader, feat, label, opt)\u001b[0m\n\u001b[1;32m      5\u001b[0m         \u001b[0;31m# YOUR CODE HERE\u001b[0m\u001b[0;34m\u001b[0m\u001b[0;34m\u001b[0m\u001b[0;34m\u001b[0m\u001b[0m\n\u001b[1;32m      6\u001b[0m         \u001b[0mprint\u001b[0m\u001b[0;34m(\u001b[0m\u001b[0mfeat\u001b[0m\u001b[0;34m[\u001b[0m\u001b[0minput_nodes\u001b[0m\u001b[0;34m]\u001b[0m\u001b[0;34m)\u001b[0m\u001b[0;34m\u001b[0m\u001b[0;34m\u001b[0m\u001b[0m\n\u001b[0;32m----> 7\u001b[0;31m         \u001b[0mlogits\u001b[0m \u001b[0;34m=\u001b[0m \u001b[0mmodel\u001b[0m\u001b[0;34m(\u001b[0m\u001b[0mmfgs\u001b[0m\u001b[0;34m,\u001b[0m \u001b[0mtorch\u001b[0m\u001b[0;34m.\u001b[0m\u001b[0mtensor\u001b[0m\u001b[0;34m(\u001b[0m\u001b[0mfeat\u001b[0m\u001b[0;34m)\u001b[0m\u001b[0;34m)\u001b[0m\u001b[0;34m\u001b[0m\u001b[0;34m\u001b[0m\u001b[0m\n\u001b[0m\u001b[1;32m      8\u001b[0m         \u001b[0mtrain_loss\u001b[0m \u001b[0;34m=\u001b[0m \u001b[0mF\u001b[0m\u001b[0;34m.\u001b[0m\u001b[0mcross_entropy\u001b[0m\u001b[0;34m(\u001b[0m\u001b[0mlogits\u001b[0m\u001b[0;34m[\u001b[0m\u001b[0mtrain_mask\u001b[0m\u001b[0;34m]\u001b[0m\u001b[0;34m,\u001b[0m \u001b[0mlabel\u001b[0m\u001b[0;34m[\u001b[0m\u001b[0mtrain_mask\u001b[0m\u001b[0;34m]\u001b[0m\u001b[0;34m)\u001b[0m\u001b[0;34m\u001b[0m\u001b[0;34m\u001b[0m\u001b[0m\n\u001b[1;32m      9\u001b[0m         \u001b[0;31m# raise NotImplementedError()\u001b[0m\u001b[0;34m\u001b[0m\u001b[0;34m\u001b[0m\u001b[0;34m\u001b[0m\u001b[0m\n",
            "\u001b[0;32m/usr/local/lib/python3.7/dist-packages/torch/nn/modules/module.py\u001b[0m in \u001b[0;36m_call_impl\u001b[0;34m(self, *input, **kwargs)\u001b[0m\n\u001b[1;32m   1128\u001b[0m         if not (self._backward_hooks or self._forward_hooks or self._forward_pre_hooks or _global_backward_hooks\n\u001b[1;32m   1129\u001b[0m                 or _global_forward_hooks or _global_forward_pre_hooks):\n\u001b[0;32m-> 1130\u001b[0;31m             \u001b[0;32mreturn\u001b[0m \u001b[0mforward_call\u001b[0m\u001b[0;34m(\u001b[0m\u001b[0;34m*\u001b[0m\u001b[0minput\u001b[0m\u001b[0;34m,\u001b[0m \u001b[0;34m**\u001b[0m\u001b[0mkwargs\u001b[0m\u001b[0;34m)\u001b[0m\u001b[0;34m\u001b[0m\u001b[0;34m\u001b[0m\u001b[0m\n\u001b[0m\u001b[1;32m   1131\u001b[0m         \u001b[0;31m# Do not call functions when jit is used\u001b[0m\u001b[0;34m\u001b[0m\u001b[0;34m\u001b[0m\u001b[0;34m\u001b[0m\u001b[0m\n\u001b[1;32m   1132\u001b[0m         \u001b[0mfull_backward_hooks\u001b[0m\u001b[0;34m,\u001b[0m \u001b[0mnon_full_backward_hooks\u001b[0m \u001b[0;34m=\u001b[0m \u001b[0;34m[\u001b[0m\u001b[0;34m]\u001b[0m\u001b[0;34m,\u001b[0m \u001b[0;34m[\u001b[0m\u001b[0;34m]\u001b[0m\u001b[0;34m\u001b[0m\u001b[0;34m\u001b[0m\u001b[0m\n",
            "\u001b[0;32m<ipython-input-54-056c6064cbaf>\u001b[0m in \u001b[0;36mforward\u001b[0;34m(self, mfgs, feat)\u001b[0m\n\u001b[1;32m      6\u001b[0m \u001b[0;34m\u001b[0m\u001b[0m\n\u001b[1;32m      7\u001b[0m     \u001b[0;32mdef\u001b[0m \u001b[0mforward\u001b[0m\u001b[0;34m(\u001b[0m\u001b[0mself\u001b[0m\u001b[0;34m,\u001b[0m \u001b[0mmfgs\u001b[0m\u001b[0;34m,\u001b[0m \u001b[0mfeat\u001b[0m\u001b[0;34m)\u001b[0m\u001b[0;34m:\u001b[0m\u001b[0;34m\u001b[0m\u001b[0;34m\u001b[0m\u001b[0m\n\u001b[0;32m----> 8\u001b[0;31m         \u001b[0mh\u001b[0m \u001b[0;34m=\u001b[0m \u001b[0mF\u001b[0m\u001b[0;34m.\u001b[0m\u001b[0mrelu\u001b[0m\u001b[0;34m(\u001b[0m\u001b[0mself\u001b[0m\u001b[0;34m.\u001b[0m\u001b[0mconv1\u001b[0m\u001b[0;34m(\u001b[0m\u001b[0mmfgs\u001b[0m\u001b[0;34m,\u001b[0m \u001b[0mfeat\u001b[0m\u001b[0;34m)\u001b[0m\u001b[0;34m)\u001b[0m\u001b[0;34m\u001b[0m\u001b[0;34m\u001b[0m\u001b[0m\n\u001b[0m\u001b[1;32m      9\u001b[0m         \u001b[0mh\u001b[0m \u001b[0;34m=\u001b[0m \u001b[0mself\u001b[0m\u001b[0;34m.\u001b[0m\u001b[0mconv2\u001b[0m\u001b[0;34m(\u001b[0m\u001b[0mmfgs\u001b[0m\u001b[0;34m,\u001b[0m \u001b[0mh\u001b[0m\u001b[0;34m)\u001b[0m\u001b[0;34m\u001b[0m\u001b[0;34m\u001b[0m\u001b[0m\n\u001b[1;32m     10\u001b[0m         \u001b[0;32mreturn\u001b[0m \u001b[0mh\u001b[0m\u001b[0;34m\u001b[0m\u001b[0;34m\u001b[0m\u001b[0m\n",
            "\u001b[0;32m/usr/local/lib/python3.7/dist-packages/torch/nn/modules/module.py\u001b[0m in \u001b[0;36m_call_impl\u001b[0;34m(self, *input, **kwargs)\u001b[0m\n\u001b[1;32m   1128\u001b[0m         if not (self._backward_hooks or self._forward_hooks or self._forward_pre_hooks or _global_backward_hooks\n\u001b[1;32m   1129\u001b[0m                 or _global_forward_hooks or _global_forward_pre_hooks):\n\u001b[0;32m-> 1130\u001b[0;31m             \u001b[0;32mreturn\u001b[0m \u001b[0mforward_call\u001b[0m\u001b[0;34m(\u001b[0m\u001b[0;34m*\u001b[0m\u001b[0minput\u001b[0m\u001b[0;34m,\u001b[0m \u001b[0;34m**\u001b[0m\u001b[0mkwargs\u001b[0m\u001b[0;34m)\u001b[0m\u001b[0;34m\u001b[0m\u001b[0;34m\u001b[0m\u001b[0m\n\u001b[0m\u001b[1;32m   1131\u001b[0m         \u001b[0;31m# Do not call functions when jit is used\u001b[0m\u001b[0;34m\u001b[0m\u001b[0;34m\u001b[0m\u001b[0;34m\u001b[0m\u001b[0m\n\u001b[1;32m   1132\u001b[0m         \u001b[0mfull_backward_hooks\u001b[0m\u001b[0;34m,\u001b[0m \u001b[0mnon_full_backward_hooks\u001b[0m \u001b[0;34m=\u001b[0m \u001b[0;34m[\u001b[0m\u001b[0;34m]\u001b[0m\u001b[0;34m,\u001b[0m \u001b[0;34m[\u001b[0m\u001b[0;34m]\u001b[0m\u001b[0;34m\u001b[0m\u001b[0;34m\u001b[0m\u001b[0m\n",
            "\u001b[0;32m/usr/local/lib/python3.7/dist-packages/dgl/nn/pytorch/conv/sageconv.py\u001b[0m in \u001b[0;36mforward\u001b[0;34m(self, graph, feat, edge_weight)\u001b[0m\n\u001b[1;32m    206\u001b[0m         \"\"\"\n\u001b[1;32m    207\u001b[0m         \u001b[0mself\u001b[0m\u001b[0;34m.\u001b[0m\u001b[0m_compatibility_check\u001b[0m\u001b[0;34m(\u001b[0m\u001b[0;34m)\u001b[0m\u001b[0;34m\u001b[0m\u001b[0;34m\u001b[0m\u001b[0m\n\u001b[0;32m--> 208\u001b[0;31m         \u001b[0;32mwith\u001b[0m \u001b[0mgraph\u001b[0m\u001b[0;34m.\u001b[0m\u001b[0mlocal_scope\u001b[0m\u001b[0;34m(\u001b[0m\u001b[0;34m)\u001b[0m\u001b[0;34m:\u001b[0m\u001b[0;34m\u001b[0m\u001b[0;34m\u001b[0m\u001b[0m\n\u001b[0m\u001b[1;32m    209\u001b[0m             \u001b[0;32mif\u001b[0m \u001b[0misinstance\u001b[0m\u001b[0;34m(\u001b[0m\u001b[0mfeat\u001b[0m\u001b[0;34m,\u001b[0m \u001b[0mtuple\u001b[0m\u001b[0;34m)\u001b[0m\u001b[0;34m:\u001b[0m\u001b[0;34m\u001b[0m\u001b[0;34m\u001b[0m\u001b[0m\n\u001b[1;32m    210\u001b[0m                 \u001b[0mfeat_src\u001b[0m \u001b[0;34m=\u001b[0m \u001b[0mself\u001b[0m\u001b[0;34m.\u001b[0m\u001b[0mfeat_drop\u001b[0m\u001b[0;34m(\u001b[0m\u001b[0mfeat\u001b[0m\u001b[0;34m[\u001b[0m\u001b[0;36m0\u001b[0m\u001b[0;34m]\u001b[0m\u001b[0;34m)\u001b[0m\u001b[0;34m\u001b[0m\u001b[0;34m\u001b[0m\u001b[0m\n",
            "\u001b[0;31mAttributeError\u001b[0m: 'list' object has no attribute 'local_scope'"
          ]
        }
      ],
      "source": [
        "model = GraphSAGE(1433, 16, 7)\n",
        "opt = Adam(model.parameters(), lr=0.1)\n",
        "train_loss, val_loss = train_epoch(model, train_dataloader, val_dataloader, feat, label, opt)\n",
        "assert type(train_loss) == float\n",
        "assert type(val_loss) == float\n",
        "assert 1.8 < train_loss < 2.2\n",
        "assert 1.8 < val_loss < 2.2\n",
        "train_loss, val_loss = train_epoch(model, train_dataloader, val_dataloader, feat, label, opt)\n",
        "train_loss, val_loss = train_epoch(model, train_dataloader, val_dataloader, feat, label, opt)\n",
        "assert train_loss < val_loss"
      ]
    },
    {
      "cell_type": "code",
      "source": [
        "train_loss "
      ],
      "metadata": {
        "colab": {
          "base_uri": "https://localhost:8080/"
        },
        "id": "amQPO34SCpfp",
        "outputId": "acc588d3-1b0a-4ae8-e683-9709d698c881"
      },
      "id": "amQPO34SCpfp",
      "execution_count": 267,
      "outputs": [
        {
          "output_type": "execute_result",
          "data": {
            "text/plain": [
              "0.016191288828849792"
            ]
          },
          "metadata": {},
          "execution_count": 267
        }
      ]
    },
    {
      "cell_type": "code",
      "source": [
        "val_loss "
      ],
      "metadata": {
        "colab": {
          "base_uri": "https://localhost:8080/"
        },
        "id": "fnKUF6FMCtV5",
        "outputId": "0a8b0950-17ae-40e3-83f7-9608141cfd7b"
      },
      "id": "fnKUF6FMCtV5",
      "execution_count": 268,
      "outputs": [
        {
          "output_type": "execute_result",
          "data": {
            "text/plain": [
              "0.7308991551399231"
            ]
          },
          "metadata": {},
          "execution_count": 268
        }
      ]
    },
    {
      "cell_type": "markdown",
      "id": "e5530e48",
      "metadata": {
        "id": "e5530e48"
      },
      "source": [
        "Initialize the model and optimizers."
      ]
    },
    {
      "cell_type": "code",
      "execution_count": null,
      "id": "a58dff00",
      "metadata": {
        "execution": {
          "iopub.execute_input": "2022-11-24T16:42:51.356187Z",
          "iopub.status.busy": "2022-11-24T16:42:51.356187Z",
          "iopub.status.idle": "2022-11-24T16:42:51.368189Z",
          "shell.execute_reply": "2022-11-24T16:42:51.368189Z"
        },
        "id": "a58dff00"
      },
      "outputs": [],
      "source": [
        "model = GraphSAGE(1433, 16, 7)\n",
        "opt = Adam(model.parameters(), lr=0.01)"
      ]
    },
    {
      "cell_type": "markdown",
      "id": "28def0b8",
      "metadata": {
        "id": "28def0b8"
      },
      "source": [
        "Train the model."
      ]
    },
    {
      "cell_type": "code",
      "execution_count": null,
      "id": "55698c78",
      "metadata": {
        "execution": {
          "iopub.execute_input": "2022-11-24T16:42:51.370187Z",
          "iopub.status.busy": "2022-11-24T16:42:51.370187Z",
          "iopub.status.idle": "2022-11-24T16:42:51.384189Z",
          "shell.execute_reply": "2022-11-24T16:42:51.384189Z"
        },
        "id": "55698c78"
      },
      "outputs": [],
      "source": [
        "log = []\n",
        "n_epochs = 50\n",
        "for i in trange(n_epochs):\n",
        "    train_loss, val_loss = train_epoch(model, train_dataloader, val_dataloader, feat, label, opt)\n",
        "    log.append([train_loss, val_loss])\n",
        "plt.plot(np.array(log))\n",
        "plt.title('Loss')\n",
        "plt.legend(['train', 'val'])\n",
        "plt.show()"
      ]
    },
    {
      "cell_type": "code",
      "execution_count": 73,
      "id": "9d0c16d2",
      "metadata": {
        "execution": {
          "iopub.execute_input": "2022-11-24T16:42:51.387189Z",
          "iopub.status.busy": "2022-11-24T16:42:51.387189Z",
          "iopub.status.idle": "2022-11-24T16:42:51.415470Z",
          "shell.execute_reply": "2022-11-24T16:42:51.415470Z"
        },
        "nbgrader": {
          "checksum": "0b7e47041ee3d031fc9fb7fd99e14335",
          "grade": true,
          "grade_id": "cell-1f31b207a4f89e8f",
          "locked": true,
          "points": 0.5,
          "schema_version": 3,
          "solution": false,
          "task": false
        },
        "id": "9d0c16d2",
        "colab": {
          "base_uri": "https://localhost:8080/",
          "height": 389
        },
        "outputId": "0e6ef023-f2ef-4112-fac2-906251b43b42"
      },
      "outputs": [
        {
          "output_type": "error",
          "ename": "AttributeError",
          "evalue": "ignored",
          "traceback": [
            "\u001b[0;31m---------------------------------------------------------------------------\u001b[0m",
            "\u001b[0;31mAttributeError\u001b[0m                            Traceback (most recent call last)",
            "\u001b[0;32m<ipython-input-73-d38ee8f622d1>\u001b[0m in \u001b[0;36m<module>\u001b[0;34m\u001b[0m\n\u001b[1;32m      2\u001b[0m \u001b[0;32mfor\u001b[0m \u001b[0minput_nodes\u001b[0m\u001b[0;34m,\u001b[0m \u001b[0moutput_nodes\u001b[0m\u001b[0;34m,\u001b[0m \u001b[0mmfgs\u001b[0m \u001b[0;32min\u001b[0m \u001b[0mtest_dataloader\u001b[0m\u001b[0;34m:\u001b[0m\u001b[0;34m\u001b[0m\u001b[0;34m\u001b[0m\u001b[0m\n\u001b[1;32m      3\u001b[0m     \u001b[0;32mwith\u001b[0m \u001b[0mtorch\u001b[0m\u001b[0;34m.\u001b[0m\u001b[0mno_grad\u001b[0m\u001b[0;34m(\u001b[0m\u001b[0;34m)\u001b[0m\u001b[0;34m:\u001b[0m\u001b[0;34m\u001b[0m\u001b[0;34m\u001b[0m\u001b[0m\n\u001b[0;32m----> 4\u001b[0;31m         \u001b[0mlogits\u001b[0m\u001b[0;34m.\u001b[0m\u001b[0mappend\u001b[0m\u001b[0;34m(\u001b[0m\u001b[0mmodel\u001b[0m\u001b[0;34m(\u001b[0m\u001b[0mmfgs\u001b[0m\u001b[0;34m,\u001b[0m \u001b[0mfeat\u001b[0m\u001b[0;34m[\u001b[0m\u001b[0minput_nodes\u001b[0m\u001b[0;34m]\u001b[0m\u001b[0;34m)\u001b[0m\u001b[0;34m)\u001b[0m\u001b[0;34m\u001b[0m\u001b[0;34m\u001b[0m\u001b[0m\n\u001b[0m\u001b[1;32m      5\u001b[0m \u001b[0mlogits\u001b[0m \u001b[0;34m=\u001b[0m \u001b[0mtorch\u001b[0m\u001b[0;34m.\u001b[0m\u001b[0mcat\u001b[0m\u001b[0;34m(\u001b[0m\u001b[0mlogits\u001b[0m\u001b[0;34m)\u001b[0m\u001b[0;34m\u001b[0m\u001b[0;34m\u001b[0m\u001b[0m\n\u001b[1;32m      6\u001b[0m \u001b[0my_pred\u001b[0m \u001b[0;34m=\u001b[0m \u001b[0mtorch\u001b[0m\u001b[0;34m.\u001b[0m\u001b[0margmax\u001b[0m\u001b[0;34m(\u001b[0m\u001b[0mlogits\u001b[0m\u001b[0;34m,\u001b[0m \u001b[0;36m1\u001b[0m\u001b[0;34m)\u001b[0m\u001b[0;34m\u001b[0m\u001b[0;34m\u001b[0m\u001b[0m\n",
            "\u001b[0;32m/usr/local/lib/python3.7/dist-packages/torch/nn/modules/module.py\u001b[0m in \u001b[0;36m_call_impl\u001b[0;34m(self, *input, **kwargs)\u001b[0m\n\u001b[1;32m   1128\u001b[0m         if not (self._backward_hooks or self._forward_hooks or self._forward_pre_hooks or _global_backward_hooks\n\u001b[1;32m   1129\u001b[0m                 or _global_forward_hooks or _global_forward_pre_hooks):\n\u001b[0;32m-> 1130\u001b[0;31m             \u001b[0;32mreturn\u001b[0m \u001b[0mforward_call\u001b[0m\u001b[0;34m(\u001b[0m\u001b[0;34m*\u001b[0m\u001b[0minput\u001b[0m\u001b[0;34m,\u001b[0m \u001b[0;34m**\u001b[0m\u001b[0mkwargs\u001b[0m\u001b[0;34m)\u001b[0m\u001b[0;34m\u001b[0m\u001b[0;34m\u001b[0m\u001b[0m\n\u001b[0m\u001b[1;32m   1131\u001b[0m         \u001b[0;31m# Do not call functions when jit is used\u001b[0m\u001b[0;34m\u001b[0m\u001b[0;34m\u001b[0m\u001b[0;34m\u001b[0m\u001b[0m\n\u001b[1;32m   1132\u001b[0m         \u001b[0mfull_backward_hooks\u001b[0m\u001b[0;34m,\u001b[0m \u001b[0mnon_full_backward_hooks\u001b[0m \u001b[0;34m=\u001b[0m \u001b[0;34m[\u001b[0m\u001b[0;34m]\u001b[0m\u001b[0;34m,\u001b[0m \u001b[0;34m[\u001b[0m\u001b[0;34m]\u001b[0m\u001b[0;34m\u001b[0m\u001b[0;34m\u001b[0m\u001b[0m\n",
            "\u001b[0;32m<ipython-input-54-056c6064cbaf>\u001b[0m in \u001b[0;36mforward\u001b[0;34m(self, mfgs, feat)\u001b[0m\n\u001b[1;32m      6\u001b[0m \u001b[0;34m\u001b[0m\u001b[0m\n\u001b[1;32m      7\u001b[0m     \u001b[0;32mdef\u001b[0m \u001b[0mforward\u001b[0m\u001b[0;34m(\u001b[0m\u001b[0mself\u001b[0m\u001b[0;34m,\u001b[0m \u001b[0mmfgs\u001b[0m\u001b[0;34m,\u001b[0m \u001b[0mfeat\u001b[0m\u001b[0;34m)\u001b[0m\u001b[0;34m:\u001b[0m\u001b[0;34m\u001b[0m\u001b[0;34m\u001b[0m\u001b[0m\n\u001b[0;32m----> 8\u001b[0;31m         \u001b[0mh\u001b[0m \u001b[0;34m=\u001b[0m \u001b[0mF\u001b[0m\u001b[0;34m.\u001b[0m\u001b[0mrelu\u001b[0m\u001b[0;34m(\u001b[0m\u001b[0mself\u001b[0m\u001b[0;34m.\u001b[0m\u001b[0mconv1\u001b[0m\u001b[0;34m(\u001b[0m\u001b[0mmfgs\u001b[0m\u001b[0;34m,\u001b[0m \u001b[0mfeat\u001b[0m\u001b[0;34m)\u001b[0m\u001b[0;34m)\u001b[0m\u001b[0;34m\u001b[0m\u001b[0;34m\u001b[0m\u001b[0m\n\u001b[0m\u001b[1;32m      9\u001b[0m         \u001b[0mh\u001b[0m \u001b[0;34m=\u001b[0m \u001b[0mself\u001b[0m\u001b[0;34m.\u001b[0m\u001b[0mconv2\u001b[0m\u001b[0;34m(\u001b[0m\u001b[0mmfgs\u001b[0m\u001b[0;34m,\u001b[0m \u001b[0mh\u001b[0m\u001b[0;34m)\u001b[0m\u001b[0;34m\u001b[0m\u001b[0;34m\u001b[0m\u001b[0m\n\u001b[1;32m     10\u001b[0m         \u001b[0;32mreturn\u001b[0m \u001b[0mh\u001b[0m\u001b[0;34m\u001b[0m\u001b[0;34m\u001b[0m\u001b[0m\n",
            "\u001b[0;32m/usr/local/lib/python3.7/dist-packages/torch/nn/modules/module.py\u001b[0m in \u001b[0;36m_call_impl\u001b[0;34m(self, *input, **kwargs)\u001b[0m\n\u001b[1;32m   1128\u001b[0m         if not (self._backward_hooks or self._forward_hooks or self._forward_pre_hooks or _global_backward_hooks\n\u001b[1;32m   1129\u001b[0m                 or _global_forward_hooks or _global_forward_pre_hooks):\n\u001b[0;32m-> 1130\u001b[0;31m             \u001b[0;32mreturn\u001b[0m \u001b[0mforward_call\u001b[0m\u001b[0;34m(\u001b[0m\u001b[0;34m*\u001b[0m\u001b[0minput\u001b[0m\u001b[0;34m,\u001b[0m \u001b[0;34m**\u001b[0m\u001b[0mkwargs\u001b[0m\u001b[0;34m)\u001b[0m\u001b[0;34m\u001b[0m\u001b[0;34m\u001b[0m\u001b[0m\n\u001b[0m\u001b[1;32m   1131\u001b[0m         \u001b[0;31m# Do not call functions when jit is used\u001b[0m\u001b[0;34m\u001b[0m\u001b[0;34m\u001b[0m\u001b[0;34m\u001b[0m\u001b[0m\n\u001b[1;32m   1132\u001b[0m         \u001b[0mfull_backward_hooks\u001b[0m\u001b[0;34m,\u001b[0m \u001b[0mnon_full_backward_hooks\u001b[0m \u001b[0;34m=\u001b[0m \u001b[0;34m[\u001b[0m\u001b[0;34m]\u001b[0m\u001b[0;34m,\u001b[0m \u001b[0;34m[\u001b[0m\u001b[0;34m]\u001b[0m\u001b[0;34m\u001b[0m\u001b[0;34m\u001b[0m\u001b[0m\n",
            "\u001b[0;32m/usr/local/lib/python3.7/dist-packages/dgl/nn/pytorch/conv/sageconv.py\u001b[0m in \u001b[0;36mforward\u001b[0;34m(self, graph, feat, edge_weight)\u001b[0m\n\u001b[1;32m    206\u001b[0m         \"\"\"\n\u001b[1;32m    207\u001b[0m         \u001b[0mself\u001b[0m\u001b[0;34m.\u001b[0m\u001b[0m_compatibility_check\u001b[0m\u001b[0;34m(\u001b[0m\u001b[0;34m)\u001b[0m\u001b[0;34m\u001b[0m\u001b[0;34m\u001b[0m\u001b[0m\n\u001b[0;32m--> 208\u001b[0;31m         \u001b[0;32mwith\u001b[0m \u001b[0mgraph\u001b[0m\u001b[0;34m.\u001b[0m\u001b[0mlocal_scope\u001b[0m\u001b[0;34m(\u001b[0m\u001b[0;34m)\u001b[0m\u001b[0;34m:\u001b[0m\u001b[0;34m\u001b[0m\u001b[0;34m\u001b[0m\u001b[0m\n\u001b[0m\u001b[1;32m    209\u001b[0m             \u001b[0;32mif\u001b[0m \u001b[0misinstance\u001b[0m\u001b[0;34m(\u001b[0m\u001b[0mfeat\u001b[0m\u001b[0;34m,\u001b[0m \u001b[0mtuple\u001b[0m\u001b[0;34m)\u001b[0m\u001b[0;34m:\u001b[0m\u001b[0;34m\u001b[0m\u001b[0;34m\u001b[0m\u001b[0m\n\u001b[1;32m    210\u001b[0m                 \u001b[0mfeat_src\u001b[0m \u001b[0;34m=\u001b[0m \u001b[0mself\u001b[0m\u001b[0;34m.\u001b[0m\u001b[0mfeat_drop\u001b[0m\u001b[0;34m(\u001b[0m\u001b[0mfeat\u001b[0m\u001b[0;34m[\u001b[0m\u001b[0;36m0\u001b[0m\u001b[0;34m]\u001b[0m\u001b[0;34m)\u001b[0m\u001b[0;34m\u001b[0m\u001b[0;34m\u001b[0m\u001b[0m\n",
            "\u001b[0;31mAttributeError\u001b[0m: 'list' object has no attribute 'local_scope'"
          ]
        }
      ],
      "source": [
        "logits = []\n",
        "for input_nodes, output_nodes, mfgs in test_dataloader:\n",
        "    with torch.no_grad():\n",
        "        logits.append(model(mfgs, feat[input_nodes]))\n",
        "logits = torch.cat(logits)\n",
        "y_pred = torch.argmax(logits, 1)\n",
        "score = balanced_accuracy_score(label[test_mask], y_pred)\n",
        "assert score > 0.7\n",
        "print(f'Balanced accuracy: {score:.2f}')"
      ]
    },
    {
      "cell_type": "markdown",
      "id": "1b31a297",
      "metadata": {
        "id": "1b31a297"
      },
      "source": [
        "### References"
      ]
    },
    {
      "cell_type": "markdown",
      "id": "2fd70e41",
      "metadata": {
        "id": "2fd70e41"
      },
      "source": [
        "<a id='references'></a>\n",
        "\n",
        "[1] Kipf, T. N., & Welling, M. (2016). Semi-Supervised Classification with Graph Convolutional Networks. CoRR, abs/1609.02907. http://arxiv.org/abs/1609.02907\n",
        "\n",
        "[2] Gilmer, J., Schoenholz, S. S., Riley, P. F., Vinyals, O., & Dahl, G. E. (2017). Neural Message Passing for Quantum Chemistry. CoRR, abs/1704.01212. http://arxiv.org/abs/1704.01212\n",
        "\n",
        "[3] Kipf, T. N., & Welling, M. (2016). Variational Graph Auto-Encoders. arXiv. https://doi.org/10.48550/ARXIV.1611.07308\n",
        "\n",
        "[4] Simonovsky, M., & Komodakis, N. (2018). GraphVAE: Towards Generation of Small Graphs Using Variational Autoencoders. CoRR, abs/1802.03480. http://arxiv.org/abs/1802.03480\n",
        "\n",
        "[5] Hamilton, W. L., Ying, R., & Leskovec, J. (2017). Inductive Representation Learning on Large Graphs. CoRR, abs/1706.02216. http://arxiv.org/abs/1706.02216"
      ]
    },
    {
      "cell_type": "code",
      "execution_count": null,
      "id": "71a2a83f",
      "metadata": {
        "id": "71a2a83f"
      },
      "outputs": [],
      "source": []
    }
  ],
  "metadata": {
    "celltoolbar": "Create Assignment",
    "kernelspec": {
      "display_name": "Python 3",
      "language": "python",
      "name": "python3"
    },
    "language_info": {
      "codemirror_mode": {
        "name": "ipython",
        "version": 3
      },
      "file_extension": ".py",
      "mimetype": "text/x-python",
      "name": "python",
      "nbconvert_exporter": "python",
      "pygments_lexer": "ipython3",
      "version": "3.10.7"
    },
    "colab": {
      "provenance": []
    },
    "widgets": {
      "application/vnd.jupyter.widget-state+json": {
        "927044a779174193b09d2434cd3d980e": {
          "model_module": "@jupyter-widgets/controls",
          "model_name": "HBoxModel",
          "model_module_version": "1.5.0",
          "state": {
            "_dom_classes": [],
            "_model_module": "@jupyter-widgets/controls",
            "_model_module_version": "1.5.0",
            "_model_name": "HBoxModel",
            "_view_count": null,
            "_view_module": "@jupyter-widgets/controls",
            "_view_module_version": "1.5.0",
            "_view_name": "HBoxView",
            "box_style": "",
            "children": [
              "IPY_MODEL_81f5af20763c4b9bbcd9b17fe36b9233",
              "IPY_MODEL_7e511f847232454d8ac43911337a122b",
              "IPY_MODEL_1876741ba3bb44abb8aecfe130f88a4b"
            ],
            "layout": "IPY_MODEL_55dfd012108f4cac819cda624a0a2542"
          }
        },
        "81f5af20763c4b9bbcd9b17fe36b9233": {
          "model_module": "@jupyter-widgets/controls",
          "model_name": "HTMLModel",
          "model_module_version": "1.5.0",
          "state": {
            "_dom_classes": [],
            "_model_module": "@jupyter-widgets/controls",
            "_model_module_version": "1.5.0",
            "_model_name": "HTMLModel",
            "_view_count": null,
            "_view_module": "@jupyter-widgets/controls",
            "_view_module_version": "1.5.0",
            "_view_name": "HTMLView",
            "description": "",
            "description_tooltip": null,
            "layout": "IPY_MODEL_46efa0fe59494702a9208d4f2c3361fe",
            "placeholder": "​",
            "style": "IPY_MODEL_e5e4b8c5788842508a516d30150230fd",
            "value": "100%"
          }
        },
        "7e511f847232454d8ac43911337a122b": {
          "model_module": "@jupyter-widgets/controls",
          "model_name": "FloatProgressModel",
          "model_module_version": "1.5.0",
          "state": {
            "_dom_classes": [],
            "_model_module": "@jupyter-widgets/controls",
            "_model_module_version": "1.5.0",
            "_model_name": "FloatProgressModel",
            "_view_count": null,
            "_view_module": "@jupyter-widgets/controls",
            "_view_module_version": "1.5.0",
            "_view_name": "ProgressView",
            "bar_style": "success",
            "description": "",
            "description_tooltip": null,
            "layout": "IPY_MODEL_19ebbcdb52ce4847a1cf194fd3ae6c7f",
            "max": 3880,
            "min": 0,
            "orientation": "horizontal",
            "style": "IPY_MODEL_bdc015a23e6b48caa365f5d9bab1780e",
            "value": 3880
          }
        },
        "1876741ba3bb44abb8aecfe130f88a4b": {
          "model_module": "@jupyter-widgets/controls",
          "model_name": "HTMLModel",
          "model_module_version": "1.5.0",
          "state": {
            "_dom_classes": [],
            "_model_module": "@jupyter-widgets/controls",
            "_model_module_version": "1.5.0",
            "_model_name": "HTMLModel",
            "_view_count": null,
            "_view_module": "@jupyter-widgets/controls",
            "_view_module_version": "1.5.0",
            "_view_name": "HTMLView",
            "description": "",
            "description_tooltip": null,
            "layout": "IPY_MODEL_1c21d14904ab40b38b177ecd5e29a513",
            "placeholder": "​",
            "style": "IPY_MODEL_3bb288654cb74265a3104167efdfb2a0",
            "value": " 3880/3880 [00:00&lt;00:00, 40628.99it/s]"
          }
        },
        "55dfd012108f4cac819cda624a0a2542": {
          "model_module": "@jupyter-widgets/base",
          "model_name": "LayoutModel",
          "model_module_version": "1.2.0",
          "state": {
            "_model_module": "@jupyter-widgets/base",
            "_model_module_version": "1.2.0",
            "_model_name": "LayoutModel",
            "_view_count": null,
            "_view_module": "@jupyter-widgets/base",
            "_view_module_version": "1.2.0",
            "_view_name": "LayoutView",
            "align_content": null,
            "align_items": null,
            "align_self": null,
            "border": null,
            "bottom": null,
            "display": null,
            "flex": null,
            "flex_flow": null,
            "grid_area": null,
            "grid_auto_columns": null,
            "grid_auto_flow": null,
            "grid_auto_rows": null,
            "grid_column": null,
            "grid_gap": null,
            "grid_row": null,
            "grid_template_areas": null,
            "grid_template_columns": null,
            "grid_template_rows": null,
            "height": null,
            "justify_content": null,
            "justify_items": null,
            "left": null,
            "margin": null,
            "max_height": null,
            "max_width": null,
            "min_height": null,
            "min_width": null,
            "object_fit": null,
            "object_position": null,
            "order": null,
            "overflow": null,
            "overflow_x": null,
            "overflow_y": null,
            "padding": null,
            "right": null,
            "top": null,
            "visibility": null,
            "width": null
          }
        },
        "46efa0fe59494702a9208d4f2c3361fe": {
          "model_module": "@jupyter-widgets/base",
          "model_name": "LayoutModel",
          "model_module_version": "1.2.0",
          "state": {
            "_model_module": "@jupyter-widgets/base",
            "_model_module_version": "1.2.0",
            "_model_name": "LayoutModel",
            "_view_count": null,
            "_view_module": "@jupyter-widgets/base",
            "_view_module_version": "1.2.0",
            "_view_name": "LayoutView",
            "align_content": null,
            "align_items": null,
            "align_self": null,
            "border": null,
            "bottom": null,
            "display": null,
            "flex": null,
            "flex_flow": null,
            "grid_area": null,
            "grid_auto_columns": null,
            "grid_auto_flow": null,
            "grid_auto_rows": null,
            "grid_column": null,
            "grid_gap": null,
            "grid_row": null,
            "grid_template_areas": null,
            "grid_template_columns": null,
            "grid_template_rows": null,
            "height": null,
            "justify_content": null,
            "justify_items": null,
            "left": null,
            "margin": null,
            "max_height": null,
            "max_width": null,
            "min_height": null,
            "min_width": null,
            "object_fit": null,
            "object_position": null,
            "order": null,
            "overflow": null,
            "overflow_x": null,
            "overflow_y": null,
            "padding": null,
            "right": null,
            "top": null,
            "visibility": null,
            "width": null
          }
        },
        "e5e4b8c5788842508a516d30150230fd": {
          "model_module": "@jupyter-widgets/controls",
          "model_name": "DescriptionStyleModel",
          "model_module_version": "1.5.0",
          "state": {
            "_model_module": "@jupyter-widgets/controls",
            "_model_module_version": "1.5.0",
            "_model_name": "DescriptionStyleModel",
            "_view_count": null,
            "_view_module": "@jupyter-widgets/base",
            "_view_module_version": "1.2.0",
            "_view_name": "StyleView",
            "description_width": ""
          }
        },
        "19ebbcdb52ce4847a1cf194fd3ae6c7f": {
          "model_module": "@jupyter-widgets/base",
          "model_name": "LayoutModel",
          "model_module_version": "1.2.0",
          "state": {
            "_model_module": "@jupyter-widgets/base",
            "_model_module_version": "1.2.0",
            "_model_name": "LayoutModel",
            "_view_count": null,
            "_view_module": "@jupyter-widgets/base",
            "_view_module_version": "1.2.0",
            "_view_name": "LayoutView",
            "align_content": null,
            "align_items": null,
            "align_self": null,
            "border": null,
            "bottom": null,
            "display": null,
            "flex": null,
            "flex_flow": null,
            "grid_area": null,
            "grid_auto_columns": null,
            "grid_auto_flow": null,
            "grid_auto_rows": null,
            "grid_column": null,
            "grid_gap": null,
            "grid_row": null,
            "grid_template_areas": null,
            "grid_template_columns": null,
            "grid_template_rows": null,
            "height": null,
            "justify_content": null,
            "justify_items": null,
            "left": null,
            "margin": null,
            "max_height": null,
            "max_width": null,
            "min_height": null,
            "min_width": null,
            "object_fit": null,
            "object_position": null,
            "order": null,
            "overflow": null,
            "overflow_x": null,
            "overflow_y": null,
            "padding": null,
            "right": null,
            "top": null,
            "visibility": null,
            "width": null
          }
        },
        "bdc015a23e6b48caa365f5d9bab1780e": {
          "model_module": "@jupyter-widgets/controls",
          "model_name": "ProgressStyleModel",
          "model_module_version": "1.5.0",
          "state": {
            "_model_module": "@jupyter-widgets/controls",
            "_model_module_version": "1.5.0",
            "_model_name": "ProgressStyleModel",
            "_view_count": null,
            "_view_module": "@jupyter-widgets/base",
            "_view_module_version": "1.2.0",
            "_view_name": "StyleView",
            "bar_color": null,
            "description_width": ""
          }
        },
        "1c21d14904ab40b38b177ecd5e29a513": {
          "model_module": "@jupyter-widgets/base",
          "model_name": "LayoutModel",
          "model_module_version": "1.2.0",
          "state": {
            "_model_module": "@jupyter-widgets/base",
            "_model_module_version": "1.2.0",
            "_model_name": "LayoutModel",
            "_view_count": null,
            "_view_module": "@jupyter-widgets/base",
            "_view_module_version": "1.2.0",
            "_view_name": "LayoutView",
            "align_content": null,
            "align_items": null,
            "align_self": null,
            "border": null,
            "bottom": null,
            "display": null,
            "flex": null,
            "flex_flow": null,
            "grid_area": null,
            "grid_auto_columns": null,
            "grid_auto_flow": null,
            "grid_auto_rows": null,
            "grid_column": null,
            "grid_gap": null,
            "grid_row": null,
            "grid_template_areas": null,
            "grid_template_columns": null,
            "grid_template_rows": null,
            "height": null,
            "justify_content": null,
            "justify_items": null,
            "left": null,
            "margin": null,
            "max_height": null,
            "max_width": null,
            "min_height": null,
            "min_width": null,
            "object_fit": null,
            "object_position": null,
            "order": null,
            "overflow": null,
            "overflow_x": null,
            "overflow_y": null,
            "padding": null,
            "right": null,
            "top": null,
            "visibility": null,
            "width": null
          }
        },
        "3bb288654cb74265a3104167efdfb2a0": {
          "model_module": "@jupyter-widgets/controls",
          "model_name": "DescriptionStyleModel",
          "model_module_version": "1.5.0",
          "state": {
            "_model_module": "@jupyter-widgets/controls",
            "_model_module_version": "1.5.0",
            "_model_name": "DescriptionStyleModel",
            "_view_count": null,
            "_view_module": "@jupyter-widgets/base",
            "_view_module_version": "1.2.0",
            "_view_name": "StyleView",
            "description_width": ""
          }
        },
        "f3bd92bb80de40e29a42b29fc0c13291": {
          "model_module": "@jupyter-widgets/controls",
          "model_name": "HBoxModel",
          "model_module_version": "1.5.0",
          "state": {
            "_dom_classes": [],
            "_model_module": "@jupyter-widgets/controls",
            "_model_module_version": "1.5.0",
            "_model_name": "HBoxModel",
            "_view_count": null,
            "_view_module": "@jupyter-widgets/controls",
            "_view_module_version": "1.5.0",
            "_view_name": "HBoxView",
            "box_style": "",
            "children": [
              "IPY_MODEL_5965510f9b794dd2b70e70bb3a4aa608",
              "IPY_MODEL_6ef4adc5cd2c456db366cf224ba77b17",
              "IPY_MODEL_2e22372dde2249a8b473863197469200"
            ],
            "layout": "IPY_MODEL_2df976cfd08946b7a56ac938a253a43c"
          }
        },
        "5965510f9b794dd2b70e70bb3a4aa608": {
          "model_module": "@jupyter-widgets/controls",
          "model_name": "HTMLModel",
          "model_module_version": "1.5.0",
          "state": {
            "_dom_classes": [],
            "_model_module": "@jupyter-widgets/controls",
            "_model_module_version": "1.5.0",
            "_model_name": "HTMLModel",
            "_view_count": null,
            "_view_module": "@jupyter-widgets/controls",
            "_view_module_version": "1.5.0",
            "_view_name": "HTMLView",
            "description": "",
            "description_tooltip": null,
            "layout": "IPY_MODEL_9839dd718e4e4978ba28b36170943ab3",
            "placeholder": "​",
            "style": "IPY_MODEL_36b7bbf0ab9e4720a2e6f94293ab009d",
            "value": "100%"
          }
        },
        "6ef4adc5cd2c456db366cf224ba77b17": {
          "model_module": "@jupyter-widgets/controls",
          "model_name": "FloatProgressModel",
          "model_module_version": "1.5.0",
          "state": {
            "_dom_classes": [],
            "_model_module": "@jupyter-widgets/controls",
            "_model_module_version": "1.5.0",
            "_model_name": "FloatProgressModel",
            "_view_count": null,
            "_view_module": "@jupyter-widgets/controls",
            "_view_module_version": "1.5.0",
            "_view_name": "ProgressView",
            "bar_style": "success",
            "description": "",
            "description_tooltip": null,
            "layout": "IPY_MODEL_626c6defc47242ec959cd6f7fb8e0fc1",
            "max": 3880,
            "min": 0,
            "orientation": "horizontal",
            "style": "IPY_MODEL_75d5f643fe2740b09d2dd7fbda21b875",
            "value": 3880
          }
        },
        "2e22372dde2249a8b473863197469200": {
          "model_module": "@jupyter-widgets/controls",
          "model_name": "HTMLModel",
          "model_module_version": "1.5.0",
          "state": {
            "_dom_classes": [],
            "_model_module": "@jupyter-widgets/controls",
            "_model_module_version": "1.5.0",
            "_model_name": "HTMLModel",
            "_view_count": null,
            "_view_module": "@jupyter-widgets/controls",
            "_view_module_version": "1.5.0",
            "_view_name": "HTMLView",
            "description": "",
            "description_tooltip": null,
            "layout": "IPY_MODEL_7edf6d494676437ba4c1274eacec1758",
            "placeholder": "​",
            "style": "IPY_MODEL_cee7d67966b84c81a8e82ad676e77b29",
            "value": " 3880/3880 [00:00&lt;00:00, 53731.76it/s]"
          }
        },
        "2df976cfd08946b7a56ac938a253a43c": {
          "model_module": "@jupyter-widgets/base",
          "model_name": "LayoutModel",
          "model_module_version": "1.2.0",
          "state": {
            "_model_module": "@jupyter-widgets/base",
            "_model_module_version": "1.2.0",
            "_model_name": "LayoutModel",
            "_view_count": null,
            "_view_module": "@jupyter-widgets/base",
            "_view_module_version": "1.2.0",
            "_view_name": "LayoutView",
            "align_content": null,
            "align_items": null,
            "align_self": null,
            "border": null,
            "bottom": null,
            "display": null,
            "flex": null,
            "flex_flow": null,
            "grid_area": null,
            "grid_auto_columns": null,
            "grid_auto_flow": null,
            "grid_auto_rows": null,
            "grid_column": null,
            "grid_gap": null,
            "grid_row": null,
            "grid_template_areas": null,
            "grid_template_columns": null,
            "grid_template_rows": null,
            "height": null,
            "justify_content": null,
            "justify_items": null,
            "left": null,
            "margin": null,
            "max_height": null,
            "max_width": null,
            "min_height": null,
            "min_width": null,
            "object_fit": null,
            "object_position": null,
            "order": null,
            "overflow": null,
            "overflow_x": null,
            "overflow_y": null,
            "padding": null,
            "right": null,
            "top": null,
            "visibility": null,
            "width": null
          }
        },
        "9839dd718e4e4978ba28b36170943ab3": {
          "model_module": "@jupyter-widgets/base",
          "model_name": "LayoutModel",
          "model_module_version": "1.2.0",
          "state": {
            "_model_module": "@jupyter-widgets/base",
            "_model_module_version": "1.2.0",
            "_model_name": "LayoutModel",
            "_view_count": null,
            "_view_module": "@jupyter-widgets/base",
            "_view_module_version": "1.2.0",
            "_view_name": "LayoutView",
            "align_content": null,
            "align_items": null,
            "align_self": null,
            "border": null,
            "bottom": null,
            "display": null,
            "flex": null,
            "flex_flow": null,
            "grid_area": null,
            "grid_auto_columns": null,
            "grid_auto_flow": null,
            "grid_auto_rows": null,
            "grid_column": null,
            "grid_gap": null,
            "grid_row": null,
            "grid_template_areas": null,
            "grid_template_columns": null,
            "grid_template_rows": null,
            "height": null,
            "justify_content": null,
            "justify_items": null,
            "left": null,
            "margin": null,
            "max_height": null,
            "max_width": null,
            "min_height": null,
            "min_width": null,
            "object_fit": null,
            "object_position": null,
            "order": null,
            "overflow": null,
            "overflow_x": null,
            "overflow_y": null,
            "padding": null,
            "right": null,
            "top": null,
            "visibility": null,
            "width": null
          }
        },
        "36b7bbf0ab9e4720a2e6f94293ab009d": {
          "model_module": "@jupyter-widgets/controls",
          "model_name": "DescriptionStyleModel",
          "model_module_version": "1.5.0",
          "state": {
            "_model_module": "@jupyter-widgets/controls",
            "_model_module_version": "1.5.0",
            "_model_name": "DescriptionStyleModel",
            "_view_count": null,
            "_view_module": "@jupyter-widgets/base",
            "_view_module_version": "1.2.0",
            "_view_name": "StyleView",
            "description_width": ""
          }
        },
        "626c6defc47242ec959cd6f7fb8e0fc1": {
          "model_module": "@jupyter-widgets/base",
          "model_name": "LayoutModel",
          "model_module_version": "1.2.0",
          "state": {
            "_model_module": "@jupyter-widgets/base",
            "_model_module_version": "1.2.0",
            "_model_name": "LayoutModel",
            "_view_count": null,
            "_view_module": "@jupyter-widgets/base",
            "_view_module_version": "1.2.0",
            "_view_name": "LayoutView",
            "align_content": null,
            "align_items": null,
            "align_self": null,
            "border": null,
            "bottom": null,
            "display": null,
            "flex": null,
            "flex_flow": null,
            "grid_area": null,
            "grid_auto_columns": null,
            "grid_auto_flow": null,
            "grid_auto_rows": null,
            "grid_column": null,
            "grid_gap": null,
            "grid_row": null,
            "grid_template_areas": null,
            "grid_template_columns": null,
            "grid_template_rows": null,
            "height": null,
            "justify_content": null,
            "justify_items": null,
            "left": null,
            "margin": null,
            "max_height": null,
            "max_width": null,
            "min_height": null,
            "min_width": null,
            "object_fit": null,
            "object_position": null,
            "order": null,
            "overflow": null,
            "overflow_x": null,
            "overflow_y": null,
            "padding": null,
            "right": null,
            "top": null,
            "visibility": null,
            "width": null
          }
        },
        "75d5f643fe2740b09d2dd7fbda21b875": {
          "model_module": "@jupyter-widgets/controls",
          "model_name": "ProgressStyleModel",
          "model_module_version": "1.5.0",
          "state": {
            "_model_module": "@jupyter-widgets/controls",
            "_model_module_version": "1.5.0",
            "_model_name": "ProgressStyleModel",
            "_view_count": null,
            "_view_module": "@jupyter-widgets/base",
            "_view_module_version": "1.2.0",
            "_view_name": "StyleView",
            "bar_color": null,
            "description_width": ""
          }
        },
        "7edf6d494676437ba4c1274eacec1758": {
          "model_module": "@jupyter-widgets/base",
          "model_name": "LayoutModel",
          "model_module_version": "1.2.0",
          "state": {
            "_model_module": "@jupyter-widgets/base",
            "_model_module_version": "1.2.0",
            "_model_name": "LayoutModel",
            "_view_count": null,
            "_view_module": "@jupyter-widgets/base",
            "_view_module_version": "1.2.0",
            "_view_name": "LayoutView",
            "align_content": null,
            "align_items": null,
            "align_self": null,
            "border": null,
            "bottom": null,
            "display": null,
            "flex": null,
            "flex_flow": null,
            "grid_area": null,
            "grid_auto_columns": null,
            "grid_auto_flow": null,
            "grid_auto_rows": null,
            "grid_column": null,
            "grid_gap": null,
            "grid_row": null,
            "grid_template_areas": null,
            "grid_template_columns": null,
            "grid_template_rows": null,
            "height": null,
            "justify_content": null,
            "justify_items": null,
            "left": null,
            "margin": null,
            "max_height": null,
            "max_width": null,
            "min_height": null,
            "min_width": null,
            "object_fit": null,
            "object_position": null,
            "order": null,
            "overflow": null,
            "overflow_x": null,
            "overflow_y": null,
            "padding": null,
            "right": null,
            "top": null,
            "visibility": null,
            "width": null
          }
        },
        "cee7d67966b84c81a8e82ad676e77b29": {
          "model_module": "@jupyter-widgets/controls",
          "model_name": "DescriptionStyleModel",
          "model_module_version": "1.5.0",
          "state": {
            "_model_module": "@jupyter-widgets/controls",
            "_model_module_version": "1.5.0",
            "_model_name": "DescriptionStyleModel",
            "_view_count": null,
            "_view_module": "@jupyter-widgets/base",
            "_view_module_version": "1.2.0",
            "_view_name": "StyleView",
            "description_width": ""
          }
        },
        "eb08397bb8b84977ae02ed269925cfb7": {
          "model_module": "@jupyter-widgets/controls",
          "model_name": "HBoxModel",
          "model_module_version": "1.5.0",
          "state": {
            "_dom_classes": [],
            "_model_module": "@jupyter-widgets/controls",
            "_model_module_version": "1.5.0",
            "_model_name": "HBoxModel",
            "_view_count": null,
            "_view_module": "@jupyter-widgets/controls",
            "_view_module_version": "1.5.0",
            "_view_name": "HBoxView",
            "box_style": "",
            "children": [
              "IPY_MODEL_4249985c24ed4f30840aa1bfb41666ba",
              "IPY_MODEL_4aa1f36351ed4ed09bdf7bb9d26aaf50",
              "IPY_MODEL_947fbdd528714137ad7a616a28787442"
            ],
            "layout": "IPY_MODEL_fb35cee9c1aa4cd186499c73afaa2b3f"
          }
        },
        "4249985c24ed4f30840aa1bfb41666ba": {
          "model_module": "@jupyter-widgets/controls",
          "model_name": "HTMLModel",
          "model_module_version": "1.5.0",
          "state": {
            "_dom_classes": [],
            "_model_module": "@jupyter-widgets/controls",
            "_model_module_version": "1.5.0",
            "_model_name": "HTMLModel",
            "_view_count": null,
            "_view_module": "@jupyter-widgets/controls",
            "_view_module_version": "1.5.0",
            "_view_name": "HTMLView",
            "description": "",
            "description_tooltip": null,
            "layout": "IPY_MODEL_ce1777bd29384d7983567f4b55bd49b1",
            "placeholder": "​",
            "style": "IPY_MODEL_5455da6a9dd14866959d8edee7e3dd71",
            "value": "100%"
          }
        },
        "4aa1f36351ed4ed09bdf7bb9d26aaf50": {
          "model_module": "@jupyter-widgets/controls",
          "model_name": "FloatProgressModel",
          "model_module_version": "1.5.0",
          "state": {
            "_dom_classes": [],
            "_model_module": "@jupyter-widgets/controls",
            "_model_module_version": "1.5.0",
            "_model_name": "FloatProgressModel",
            "_view_count": null,
            "_view_module": "@jupyter-widgets/controls",
            "_view_module_version": "1.5.0",
            "_view_name": "ProgressView",
            "bar_style": "success",
            "description": "",
            "description_tooltip": null,
            "layout": "IPY_MODEL_f261b6773eba4e84b4c395bfcff9ea4c",
            "max": 200,
            "min": 0,
            "orientation": "horizontal",
            "style": "IPY_MODEL_4e02400340cc4384b744b7b30b82047b",
            "value": 200
          }
        },
        "947fbdd528714137ad7a616a28787442": {
          "model_module": "@jupyter-widgets/controls",
          "model_name": "HTMLModel",
          "model_module_version": "1.5.0",
          "state": {
            "_dom_classes": [],
            "_model_module": "@jupyter-widgets/controls",
            "_model_module_version": "1.5.0",
            "_model_name": "HTMLModel",
            "_view_count": null,
            "_view_module": "@jupyter-widgets/controls",
            "_view_module_version": "1.5.0",
            "_view_name": "HTMLView",
            "description": "",
            "description_tooltip": null,
            "layout": "IPY_MODEL_743749e430f643c480e9a1c2e05dde09",
            "placeholder": "​",
            "style": "IPY_MODEL_7febf59034c04c3cb8e5ffc20ef4c6e9",
            "value": " 200/200 [00:39&lt;00:00,  6.25it/s]"
          }
        },
        "fb35cee9c1aa4cd186499c73afaa2b3f": {
          "model_module": "@jupyter-widgets/base",
          "model_name": "LayoutModel",
          "model_module_version": "1.2.0",
          "state": {
            "_model_module": "@jupyter-widgets/base",
            "_model_module_version": "1.2.0",
            "_model_name": "LayoutModel",
            "_view_count": null,
            "_view_module": "@jupyter-widgets/base",
            "_view_module_version": "1.2.0",
            "_view_name": "LayoutView",
            "align_content": null,
            "align_items": null,
            "align_self": null,
            "border": null,
            "bottom": null,
            "display": null,
            "flex": null,
            "flex_flow": null,
            "grid_area": null,
            "grid_auto_columns": null,
            "grid_auto_flow": null,
            "grid_auto_rows": null,
            "grid_column": null,
            "grid_gap": null,
            "grid_row": null,
            "grid_template_areas": null,
            "grid_template_columns": null,
            "grid_template_rows": null,
            "height": null,
            "justify_content": null,
            "justify_items": null,
            "left": null,
            "margin": null,
            "max_height": null,
            "max_width": null,
            "min_height": null,
            "min_width": null,
            "object_fit": null,
            "object_position": null,
            "order": null,
            "overflow": null,
            "overflow_x": null,
            "overflow_y": null,
            "padding": null,
            "right": null,
            "top": null,
            "visibility": null,
            "width": null
          }
        },
        "ce1777bd29384d7983567f4b55bd49b1": {
          "model_module": "@jupyter-widgets/base",
          "model_name": "LayoutModel",
          "model_module_version": "1.2.0",
          "state": {
            "_model_module": "@jupyter-widgets/base",
            "_model_module_version": "1.2.0",
            "_model_name": "LayoutModel",
            "_view_count": null,
            "_view_module": "@jupyter-widgets/base",
            "_view_module_version": "1.2.0",
            "_view_name": "LayoutView",
            "align_content": null,
            "align_items": null,
            "align_self": null,
            "border": null,
            "bottom": null,
            "display": null,
            "flex": null,
            "flex_flow": null,
            "grid_area": null,
            "grid_auto_columns": null,
            "grid_auto_flow": null,
            "grid_auto_rows": null,
            "grid_column": null,
            "grid_gap": null,
            "grid_row": null,
            "grid_template_areas": null,
            "grid_template_columns": null,
            "grid_template_rows": null,
            "height": null,
            "justify_content": null,
            "justify_items": null,
            "left": null,
            "margin": null,
            "max_height": null,
            "max_width": null,
            "min_height": null,
            "min_width": null,
            "object_fit": null,
            "object_position": null,
            "order": null,
            "overflow": null,
            "overflow_x": null,
            "overflow_y": null,
            "padding": null,
            "right": null,
            "top": null,
            "visibility": null,
            "width": null
          }
        },
        "5455da6a9dd14866959d8edee7e3dd71": {
          "model_module": "@jupyter-widgets/controls",
          "model_name": "DescriptionStyleModel",
          "model_module_version": "1.5.0",
          "state": {
            "_model_module": "@jupyter-widgets/controls",
            "_model_module_version": "1.5.0",
            "_model_name": "DescriptionStyleModel",
            "_view_count": null,
            "_view_module": "@jupyter-widgets/base",
            "_view_module_version": "1.2.0",
            "_view_name": "StyleView",
            "description_width": ""
          }
        },
        "f261b6773eba4e84b4c395bfcff9ea4c": {
          "model_module": "@jupyter-widgets/base",
          "model_name": "LayoutModel",
          "model_module_version": "1.2.0",
          "state": {
            "_model_module": "@jupyter-widgets/base",
            "_model_module_version": "1.2.0",
            "_model_name": "LayoutModel",
            "_view_count": null,
            "_view_module": "@jupyter-widgets/base",
            "_view_module_version": "1.2.0",
            "_view_name": "LayoutView",
            "align_content": null,
            "align_items": null,
            "align_self": null,
            "border": null,
            "bottom": null,
            "display": null,
            "flex": null,
            "flex_flow": null,
            "grid_area": null,
            "grid_auto_columns": null,
            "grid_auto_flow": null,
            "grid_auto_rows": null,
            "grid_column": null,
            "grid_gap": null,
            "grid_row": null,
            "grid_template_areas": null,
            "grid_template_columns": null,
            "grid_template_rows": null,
            "height": null,
            "justify_content": null,
            "justify_items": null,
            "left": null,
            "margin": null,
            "max_height": null,
            "max_width": null,
            "min_height": null,
            "min_width": null,
            "object_fit": null,
            "object_position": null,
            "order": null,
            "overflow": null,
            "overflow_x": null,
            "overflow_y": null,
            "padding": null,
            "right": null,
            "top": null,
            "visibility": null,
            "width": null
          }
        },
        "4e02400340cc4384b744b7b30b82047b": {
          "model_module": "@jupyter-widgets/controls",
          "model_name": "ProgressStyleModel",
          "model_module_version": "1.5.0",
          "state": {
            "_model_module": "@jupyter-widgets/controls",
            "_model_module_version": "1.5.0",
            "_model_name": "ProgressStyleModel",
            "_view_count": null,
            "_view_module": "@jupyter-widgets/base",
            "_view_module_version": "1.2.0",
            "_view_name": "StyleView",
            "bar_color": null,
            "description_width": ""
          }
        },
        "743749e430f643c480e9a1c2e05dde09": {
          "model_module": "@jupyter-widgets/base",
          "model_name": "LayoutModel",
          "model_module_version": "1.2.0",
          "state": {
            "_model_module": "@jupyter-widgets/base",
            "_model_module_version": "1.2.0",
            "_model_name": "LayoutModel",
            "_view_count": null,
            "_view_module": "@jupyter-widgets/base",
            "_view_module_version": "1.2.0",
            "_view_name": "LayoutView",
            "align_content": null,
            "align_items": null,
            "align_self": null,
            "border": null,
            "bottom": null,
            "display": null,
            "flex": null,
            "flex_flow": null,
            "grid_area": null,
            "grid_auto_columns": null,
            "grid_auto_flow": null,
            "grid_auto_rows": null,
            "grid_column": null,
            "grid_gap": null,
            "grid_row": null,
            "grid_template_areas": null,
            "grid_template_columns": null,
            "grid_template_rows": null,
            "height": null,
            "justify_content": null,
            "justify_items": null,
            "left": null,
            "margin": null,
            "max_height": null,
            "max_width": null,
            "min_height": null,
            "min_width": null,
            "object_fit": null,
            "object_position": null,
            "order": null,
            "overflow": null,
            "overflow_x": null,
            "overflow_y": null,
            "padding": null,
            "right": null,
            "top": null,
            "visibility": null,
            "width": null
          }
        },
        "7febf59034c04c3cb8e5ffc20ef4c6e9": {
          "model_module": "@jupyter-widgets/controls",
          "model_name": "DescriptionStyleModel",
          "model_module_version": "1.5.0",
          "state": {
            "_model_module": "@jupyter-widgets/controls",
            "_model_module_version": "1.5.0",
            "_model_name": "DescriptionStyleModel",
            "_view_count": null,
            "_view_module": "@jupyter-widgets/base",
            "_view_module_version": "1.2.0",
            "_view_name": "StyleView",
            "description_width": ""
          }
        },
        "5e4870a2d3544fd58cf74617875d975d": {
          "model_module": "@jupyter-widgets/controls",
          "model_name": "HBoxModel",
          "model_module_version": "1.5.0",
          "state": {
            "_dom_classes": [],
            "_model_module": "@jupyter-widgets/controls",
            "_model_module_version": "1.5.0",
            "_model_name": "HBoxModel",
            "_view_count": null,
            "_view_module": "@jupyter-widgets/controls",
            "_view_module_version": "1.5.0",
            "_view_name": "HBoxView",
            "box_style": "",
            "children": [
              "IPY_MODEL_dd5cc6f4b40b47b680af367208d495f2",
              "IPY_MODEL_26b33dfdf3304d3d80fd904d04ec76ba",
              "IPY_MODEL_1c2ff0a5e6f04aa09b4f2423f08b2f12"
            ],
            "layout": "IPY_MODEL_4fb68b9b34484f6692d80cc21bd4135d"
          }
        },
        "dd5cc6f4b40b47b680af367208d495f2": {
          "model_module": "@jupyter-widgets/controls",
          "model_name": "HTMLModel",
          "model_module_version": "1.5.0",
          "state": {
            "_dom_classes": [],
            "_model_module": "@jupyter-widgets/controls",
            "_model_module_version": "1.5.0",
            "_model_name": "HTMLModel",
            "_view_count": null,
            "_view_module": "@jupyter-widgets/controls",
            "_view_module_version": "1.5.0",
            "_view_name": "HTMLView",
            "description": "",
            "description_tooltip": null,
            "layout": "IPY_MODEL_17beb14ea8d846219f245aedb063b9c4",
            "placeholder": "​",
            "style": "IPY_MODEL_56f26c5f3e79436a8fa4f2dd92446a7c",
            "value": "100%"
          }
        },
        "26b33dfdf3304d3d80fd904d04ec76ba": {
          "model_module": "@jupyter-widgets/controls",
          "model_name": "FloatProgressModel",
          "model_module_version": "1.5.0",
          "state": {
            "_dom_classes": [],
            "_model_module": "@jupyter-widgets/controls",
            "_model_module_version": "1.5.0",
            "_model_name": "FloatProgressModel",
            "_view_count": null,
            "_view_module": "@jupyter-widgets/controls",
            "_view_module_version": "1.5.0",
            "_view_name": "ProgressView",
            "bar_style": "success",
            "description": "",
            "description_tooltip": null,
            "layout": "IPY_MODEL_48e814b5eb5d4b87a9d70f1c4c989643",
            "max": 200,
            "min": 0,
            "orientation": "horizontal",
            "style": "IPY_MODEL_4ce93c7c303f4b80ae5468744e80d088",
            "value": 200
          }
        },
        "1c2ff0a5e6f04aa09b4f2423f08b2f12": {
          "model_module": "@jupyter-widgets/controls",
          "model_name": "HTMLModel",
          "model_module_version": "1.5.0",
          "state": {
            "_dom_classes": [],
            "_model_module": "@jupyter-widgets/controls",
            "_model_module_version": "1.5.0",
            "_model_name": "HTMLModel",
            "_view_count": null,
            "_view_module": "@jupyter-widgets/controls",
            "_view_module_version": "1.5.0",
            "_view_name": "HTMLView",
            "description": "",
            "description_tooltip": null,
            "layout": "IPY_MODEL_e80995d2646b4bbe9e020302788835fa",
            "placeholder": "​",
            "style": "IPY_MODEL_1b999e803a014ec9ad98add69779c890",
            "value": " 200/200 [00:05&lt;00:00, 37.89it/s]"
          }
        },
        "4fb68b9b34484f6692d80cc21bd4135d": {
          "model_module": "@jupyter-widgets/base",
          "model_name": "LayoutModel",
          "model_module_version": "1.2.0",
          "state": {
            "_model_module": "@jupyter-widgets/base",
            "_model_module_version": "1.2.0",
            "_model_name": "LayoutModel",
            "_view_count": null,
            "_view_module": "@jupyter-widgets/base",
            "_view_module_version": "1.2.0",
            "_view_name": "LayoutView",
            "align_content": null,
            "align_items": null,
            "align_self": null,
            "border": null,
            "bottom": null,
            "display": null,
            "flex": null,
            "flex_flow": null,
            "grid_area": null,
            "grid_auto_columns": null,
            "grid_auto_flow": null,
            "grid_auto_rows": null,
            "grid_column": null,
            "grid_gap": null,
            "grid_row": null,
            "grid_template_areas": null,
            "grid_template_columns": null,
            "grid_template_rows": null,
            "height": null,
            "justify_content": null,
            "justify_items": null,
            "left": null,
            "margin": null,
            "max_height": null,
            "max_width": null,
            "min_height": null,
            "min_width": null,
            "object_fit": null,
            "object_position": null,
            "order": null,
            "overflow": null,
            "overflow_x": null,
            "overflow_y": null,
            "padding": null,
            "right": null,
            "top": null,
            "visibility": null,
            "width": null
          }
        },
        "17beb14ea8d846219f245aedb063b9c4": {
          "model_module": "@jupyter-widgets/base",
          "model_name": "LayoutModel",
          "model_module_version": "1.2.0",
          "state": {
            "_model_module": "@jupyter-widgets/base",
            "_model_module_version": "1.2.0",
            "_model_name": "LayoutModel",
            "_view_count": null,
            "_view_module": "@jupyter-widgets/base",
            "_view_module_version": "1.2.0",
            "_view_name": "LayoutView",
            "align_content": null,
            "align_items": null,
            "align_self": null,
            "border": null,
            "bottom": null,
            "display": null,
            "flex": null,
            "flex_flow": null,
            "grid_area": null,
            "grid_auto_columns": null,
            "grid_auto_flow": null,
            "grid_auto_rows": null,
            "grid_column": null,
            "grid_gap": null,
            "grid_row": null,
            "grid_template_areas": null,
            "grid_template_columns": null,
            "grid_template_rows": null,
            "height": null,
            "justify_content": null,
            "justify_items": null,
            "left": null,
            "margin": null,
            "max_height": null,
            "max_width": null,
            "min_height": null,
            "min_width": null,
            "object_fit": null,
            "object_position": null,
            "order": null,
            "overflow": null,
            "overflow_x": null,
            "overflow_y": null,
            "padding": null,
            "right": null,
            "top": null,
            "visibility": null,
            "width": null
          }
        },
        "56f26c5f3e79436a8fa4f2dd92446a7c": {
          "model_module": "@jupyter-widgets/controls",
          "model_name": "DescriptionStyleModel",
          "model_module_version": "1.5.0",
          "state": {
            "_model_module": "@jupyter-widgets/controls",
            "_model_module_version": "1.5.0",
            "_model_name": "DescriptionStyleModel",
            "_view_count": null,
            "_view_module": "@jupyter-widgets/base",
            "_view_module_version": "1.2.0",
            "_view_name": "StyleView",
            "description_width": ""
          }
        },
        "48e814b5eb5d4b87a9d70f1c4c989643": {
          "model_module": "@jupyter-widgets/base",
          "model_name": "LayoutModel",
          "model_module_version": "1.2.0",
          "state": {
            "_model_module": "@jupyter-widgets/base",
            "_model_module_version": "1.2.0",
            "_model_name": "LayoutModel",
            "_view_count": null,
            "_view_module": "@jupyter-widgets/base",
            "_view_module_version": "1.2.0",
            "_view_name": "LayoutView",
            "align_content": null,
            "align_items": null,
            "align_self": null,
            "border": null,
            "bottom": null,
            "display": null,
            "flex": null,
            "flex_flow": null,
            "grid_area": null,
            "grid_auto_columns": null,
            "grid_auto_flow": null,
            "grid_auto_rows": null,
            "grid_column": null,
            "grid_gap": null,
            "grid_row": null,
            "grid_template_areas": null,
            "grid_template_columns": null,
            "grid_template_rows": null,
            "height": null,
            "justify_content": null,
            "justify_items": null,
            "left": null,
            "margin": null,
            "max_height": null,
            "max_width": null,
            "min_height": null,
            "min_width": null,
            "object_fit": null,
            "object_position": null,
            "order": null,
            "overflow": null,
            "overflow_x": null,
            "overflow_y": null,
            "padding": null,
            "right": null,
            "top": null,
            "visibility": null,
            "width": null
          }
        },
        "4ce93c7c303f4b80ae5468744e80d088": {
          "model_module": "@jupyter-widgets/controls",
          "model_name": "ProgressStyleModel",
          "model_module_version": "1.5.0",
          "state": {
            "_model_module": "@jupyter-widgets/controls",
            "_model_module_version": "1.5.0",
            "_model_name": "ProgressStyleModel",
            "_view_count": null,
            "_view_module": "@jupyter-widgets/base",
            "_view_module_version": "1.2.0",
            "_view_name": "StyleView",
            "bar_color": null,
            "description_width": ""
          }
        },
        "e80995d2646b4bbe9e020302788835fa": {
          "model_module": "@jupyter-widgets/base",
          "model_name": "LayoutModel",
          "model_module_version": "1.2.0",
          "state": {
            "_model_module": "@jupyter-widgets/base",
            "_model_module_version": "1.2.0",
            "_model_name": "LayoutModel",
            "_view_count": null,
            "_view_module": "@jupyter-widgets/base",
            "_view_module_version": "1.2.0",
            "_view_name": "LayoutView",
            "align_content": null,
            "align_items": null,
            "align_self": null,
            "border": null,
            "bottom": null,
            "display": null,
            "flex": null,
            "flex_flow": null,
            "grid_area": null,
            "grid_auto_columns": null,
            "grid_auto_flow": null,
            "grid_auto_rows": null,
            "grid_column": null,
            "grid_gap": null,
            "grid_row": null,
            "grid_template_areas": null,
            "grid_template_columns": null,
            "grid_template_rows": null,
            "height": null,
            "justify_content": null,
            "justify_items": null,
            "left": null,
            "margin": null,
            "max_height": null,
            "max_width": null,
            "min_height": null,
            "min_width": null,
            "object_fit": null,
            "object_position": null,
            "order": null,
            "overflow": null,
            "overflow_x": null,
            "overflow_y": null,
            "padding": null,
            "right": null,
            "top": null,
            "visibility": null,
            "width": null
          }
        },
        "1b999e803a014ec9ad98add69779c890": {
          "model_module": "@jupyter-widgets/controls",
          "model_name": "DescriptionStyleModel",
          "model_module_version": "1.5.0",
          "state": {
            "_model_module": "@jupyter-widgets/controls",
            "_model_module_version": "1.5.0",
            "_model_name": "DescriptionStyleModel",
            "_view_count": null,
            "_view_module": "@jupyter-widgets/base",
            "_view_module_version": "1.2.0",
            "_view_name": "StyleView",
            "description_width": ""
          }
        },
        "2dcc70862b514bb58ef690cd0b954bc6": {
          "model_module": "@jupyter-widgets/controls",
          "model_name": "HBoxModel",
          "model_module_version": "1.5.0",
          "state": {
            "_dom_classes": [],
            "_model_module": "@jupyter-widgets/controls",
            "_model_module_version": "1.5.0",
            "_model_name": "HBoxModel",
            "_view_count": null,
            "_view_module": "@jupyter-widgets/controls",
            "_view_module_version": "1.5.0",
            "_view_name": "HBoxView",
            "box_style": "",
            "children": [
              "IPY_MODEL_3c15fb1a0e6f4049adf7a01b38467c2b",
              "IPY_MODEL_c56df7b449f9406e8b8fbeab4b8f1905",
              "IPY_MODEL_264d3dd1f3dd4b94b4771a7002737a79"
            ],
            "layout": "IPY_MODEL_921b8bd926e54c40be25ac672000e0f9"
          }
        },
        "3c15fb1a0e6f4049adf7a01b38467c2b": {
          "model_module": "@jupyter-widgets/controls",
          "model_name": "HTMLModel",
          "model_module_version": "1.5.0",
          "state": {
            "_dom_classes": [],
            "_model_module": "@jupyter-widgets/controls",
            "_model_module_version": "1.5.0",
            "_model_name": "HTMLModel",
            "_view_count": null,
            "_view_module": "@jupyter-widgets/controls",
            "_view_module_version": "1.5.0",
            "_view_name": "HTMLView",
            "description": "",
            "description_tooltip": null,
            "layout": "IPY_MODEL_a6cbee60846d4771ad873dea6ef9ccba",
            "placeholder": "​",
            "style": "IPY_MODEL_7001a801629c4b9cadeccb230888375f",
            "value": "100%"
          }
        },
        "c56df7b449f9406e8b8fbeab4b8f1905": {
          "model_module": "@jupyter-widgets/controls",
          "model_name": "FloatProgressModel",
          "model_module_version": "1.5.0",
          "state": {
            "_dom_classes": [],
            "_model_module": "@jupyter-widgets/controls",
            "_model_module_version": "1.5.0",
            "_model_name": "FloatProgressModel",
            "_view_count": null,
            "_view_module": "@jupyter-widgets/controls",
            "_view_module_version": "1.5.0",
            "_view_name": "ProgressView",
            "bar_style": "success",
            "description": "",
            "description_tooltip": null,
            "layout": "IPY_MODEL_90757f648f1a4f2db36a84a40a070319",
            "max": 400,
            "min": 0,
            "orientation": "horizontal",
            "style": "IPY_MODEL_6706ad5659e34289be6462728bc4ba98",
            "value": 400
          }
        },
        "264d3dd1f3dd4b94b4771a7002737a79": {
          "model_module": "@jupyter-widgets/controls",
          "model_name": "HTMLModel",
          "model_module_version": "1.5.0",
          "state": {
            "_dom_classes": [],
            "_model_module": "@jupyter-widgets/controls",
            "_model_module_version": "1.5.0",
            "_model_name": "HTMLModel",
            "_view_count": null,
            "_view_module": "@jupyter-widgets/controls",
            "_view_module_version": "1.5.0",
            "_view_name": "HTMLView",
            "description": "",
            "description_tooltip": null,
            "layout": "IPY_MODEL_55e7fa7dff94403aa6d5be22e2a2f20b",
            "placeholder": "​",
            "style": "IPY_MODEL_f288a8623a01446d8363b95533b9c1ec",
            "value": " 400/400 [01:19&lt;00:00,  5.15it/s]"
          }
        },
        "921b8bd926e54c40be25ac672000e0f9": {
          "model_module": "@jupyter-widgets/base",
          "model_name": "LayoutModel",
          "model_module_version": "1.2.0",
          "state": {
            "_model_module": "@jupyter-widgets/base",
            "_model_module_version": "1.2.0",
            "_model_name": "LayoutModel",
            "_view_count": null,
            "_view_module": "@jupyter-widgets/base",
            "_view_module_version": "1.2.0",
            "_view_name": "LayoutView",
            "align_content": null,
            "align_items": null,
            "align_self": null,
            "border": null,
            "bottom": null,
            "display": null,
            "flex": null,
            "flex_flow": null,
            "grid_area": null,
            "grid_auto_columns": null,
            "grid_auto_flow": null,
            "grid_auto_rows": null,
            "grid_column": null,
            "grid_gap": null,
            "grid_row": null,
            "grid_template_areas": null,
            "grid_template_columns": null,
            "grid_template_rows": null,
            "height": null,
            "justify_content": null,
            "justify_items": null,
            "left": null,
            "margin": null,
            "max_height": null,
            "max_width": null,
            "min_height": null,
            "min_width": null,
            "object_fit": null,
            "object_position": null,
            "order": null,
            "overflow": null,
            "overflow_x": null,
            "overflow_y": null,
            "padding": null,
            "right": null,
            "top": null,
            "visibility": null,
            "width": null
          }
        },
        "a6cbee60846d4771ad873dea6ef9ccba": {
          "model_module": "@jupyter-widgets/base",
          "model_name": "LayoutModel",
          "model_module_version": "1.2.0",
          "state": {
            "_model_module": "@jupyter-widgets/base",
            "_model_module_version": "1.2.0",
            "_model_name": "LayoutModel",
            "_view_count": null,
            "_view_module": "@jupyter-widgets/base",
            "_view_module_version": "1.2.0",
            "_view_name": "LayoutView",
            "align_content": null,
            "align_items": null,
            "align_self": null,
            "border": null,
            "bottom": null,
            "display": null,
            "flex": null,
            "flex_flow": null,
            "grid_area": null,
            "grid_auto_columns": null,
            "grid_auto_flow": null,
            "grid_auto_rows": null,
            "grid_column": null,
            "grid_gap": null,
            "grid_row": null,
            "grid_template_areas": null,
            "grid_template_columns": null,
            "grid_template_rows": null,
            "height": null,
            "justify_content": null,
            "justify_items": null,
            "left": null,
            "margin": null,
            "max_height": null,
            "max_width": null,
            "min_height": null,
            "min_width": null,
            "object_fit": null,
            "object_position": null,
            "order": null,
            "overflow": null,
            "overflow_x": null,
            "overflow_y": null,
            "padding": null,
            "right": null,
            "top": null,
            "visibility": null,
            "width": null
          }
        },
        "7001a801629c4b9cadeccb230888375f": {
          "model_module": "@jupyter-widgets/controls",
          "model_name": "DescriptionStyleModel",
          "model_module_version": "1.5.0",
          "state": {
            "_model_module": "@jupyter-widgets/controls",
            "_model_module_version": "1.5.0",
            "_model_name": "DescriptionStyleModel",
            "_view_count": null,
            "_view_module": "@jupyter-widgets/base",
            "_view_module_version": "1.2.0",
            "_view_name": "StyleView",
            "description_width": ""
          }
        },
        "90757f648f1a4f2db36a84a40a070319": {
          "model_module": "@jupyter-widgets/base",
          "model_name": "LayoutModel",
          "model_module_version": "1.2.0",
          "state": {
            "_model_module": "@jupyter-widgets/base",
            "_model_module_version": "1.2.0",
            "_model_name": "LayoutModel",
            "_view_count": null,
            "_view_module": "@jupyter-widgets/base",
            "_view_module_version": "1.2.0",
            "_view_name": "LayoutView",
            "align_content": null,
            "align_items": null,
            "align_self": null,
            "border": null,
            "bottom": null,
            "display": null,
            "flex": null,
            "flex_flow": null,
            "grid_area": null,
            "grid_auto_columns": null,
            "grid_auto_flow": null,
            "grid_auto_rows": null,
            "grid_column": null,
            "grid_gap": null,
            "grid_row": null,
            "grid_template_areas": null,
            "grid_template_columns": null,
            "grid_template_rows": null,
            "height": null,
            "justify_content": null,
            "justify_items": null,
            "left": null,
            "margin": null,
            "max_height": null,
            "max_width": null,
            "min_height": null,
            "min_width": null,
            "object_fit": null,
            "object_position": null,
            "order": null,
            "overflow": null,
            "overflow_x": null,
            "overflow_y": null,
            "padding": null,
            "right": null,
            "top": null,
            "visibility": null,
            "width": null
          }
        },
        "6706ad5659e34289be6462728bc4ba98": {
          "model_module": "@jupyter-widgets/controls",
          "model_name": "ProgressStyleModel",
          "model_module_version": "1.5.0",
          "state": {
            "_model_module": "@jupyter-widgets/controls",
            "_model_module_version": "1.5.0",
            "_model_name": "ProgressStyleModel",
            "_view_count": null,
            "_view_module": "@jupyter-widgets/base",
            "_view_module_version": "1.2.0",
            "_view_name": "StyleView",
            "bar_color": null,
            "description_width": ""
          }
        },
        "55e7fa7dff94403aa6d5be22e2a2f20b": {
          "model_module": "@jupyter-widgets/base",
          "model_name": "LayoutModel",
          "model_module_version": "1.2.0",
          "state": {
            "_model_module": "@jupyter-widgets/base",
            "_model_module_version": "1.2.0",
            "_model_name": "LayoutModel",
            "_view_count": null,
            "_view_module": "@jupyter-widgets/base",
            "_view_module_version": "1.2.0",
            "_view_name": "LayoutView",
            "align_content": null,
            "align_items": null,
            "align_self": null,
            "border": null,
            "bottom": null,
            "display": null,
            "flex": null,
            "flex_flow": null,
            "grid_area": null,
            "grid_auto_columns": null,
            "grid_auto_flow": null,
            "grid_auto_rows": null,
            "grid_column": null,
            "grid_gap": null,
            "grid_row": null,
            "grid_template_areas": null,
            "grid_template_columns": null,
            "grid_template_rows": null,
            "height": null,
            "justify_content": null,
            "justify_items": null,
            "left": null,
            "margin": null,
            "max_height": null,
            "max_width": null,
            "min_height": null,
            "min_width": null,
            "object_fit": null,
            "object_position": null,
            "order": null,
            "overflow": null,
            "overflow_x": null,
            "overflow_y": null,
            "padding": null,
            "right": null,
            "top": null,
            "visibility": null,
            "width": null
          }
        },
        "f288a8623a01446d8363b95533b9c1ec": {
          "model_module": "@jupyter-widgets/controls",
          "model_name": "DescriptionStyleModel",
          "model_module_version": "1.5.0",
          "state": {
            "_model_module": "@jupyter-widgets/controls",
            "_model_module_version": "1.5.0",
            "_model_name": "DescriptionStyleModel",
            "_view_count": null,
            "_view_module": "@jupyter-widgets/base",
            "_view_module_version": "1.2.0",
            "_view_name": "StyleView",
            "description_width": ""
          }
        }
      }
    }
  },
  "nbformat": 4,
  "nbformat_minor": 5
}