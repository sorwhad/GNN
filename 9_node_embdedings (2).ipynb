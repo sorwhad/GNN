{
  "cells": [
    {
      "cell_type": "markdown",
      "id": "b58e72c1",
      "metadata": {
        "id": "b58e72c1"
      },
      "source": [
        "# Assignment — Node Embeddings"
      ]
    },
    {
      "cell_type": "code",
      "execution_count": 1,
      "id": "e7baab34",
      "metadata": {
        "id": "e7baab34"
      },
      "outputs": [],
      "source": [
        "import numpy as np\n",
        "import pandas as pd\n",
        "import matplotlib.pyplot as plt\n",
        "from sklearn.decomposition import TruncatedSVD, PCA\n",
        "import requests\n",
        "from sklearn.model_selection import train_test_split\n",
        "import networkx as nx\n",
        "from sklearn.metrics import f1_score\n",
        "from tqdm.notebook import tqdm\n",
        "from time import time\n",
        "from sklearn.ensemble import GradientBoostingClassifier"
      ]
    },
    {
      "cell_type": "markdown",
      "id": "f304345a",
      "metadata": {
        "id": "f304345a"
      },
      "source": [
        "### Cora dataset EDA"
      ]
    },
    {
      "cell_type": "markdown",
      "id": "18173630",
      "metadata": {
        "id": "18173630"
      },
      "source": [
        "The Cora dataset consists of 2708 scientific publications classified into one of seven classes. The citation network consists of 5429 links. Let us take a closer look at this dataset."
      ]
    },
    {
      "cell_type": "code",
      "execution_count": 2,
      "id": "900e34a0",
      "metadata": {
        "id": "900e34a0"
      },
      "outputs": [],
      "source": [
        "url = 'https://raw.githubusercontent.com/netspractice/network-science/main/datasets/cora_cites.txt'\n",
        "open('cora_cites.txt', 'wb').write(requests.get(url).content)\n",
        "\n",
        "url = 'https://raw.githubusercontent.com/netspractice/network-science/main/datasets/cora_content.txt'\n",
        "open('cora_content.txt', 'wb').write(requests.get(url).content);"
      ]
    },
    {
      "cell_type": "markdown",
      "id": "c60e4263",
      "metadata": {
        "id": "c60e4263"
      },
      "source": [
        "Number of nodes in the graph"
      ]
    },
    {
      "cell_type": "code",
      "execution_count": 3,
      "id": "42e4dfbf",
      "metadata": {
        "id": "42e4dfbf",
        "colab": {
          "base_uri": "https://localhost:8080/"
        },
        "outputId": "3bb86a49-07c3-4333-94e8-b1eb2f3c0315"
      },
      "outputs": [
        {
          "output_type": "execute_result",
          "data": {
            "text/plain": [
              "2708"
            ]
          },
          "metadata": {},
          "execution_count": 3
        }
      ],
      "source": [
        "cora = nx.read_edgelist('cora_cites.txt')\n",
        "len(cora)"
      ]
    },
    {
      "cell_type": "markdown",
      "id": "4ad670cb",
      "metadata": {
        "id": "4ad670cb"
      },
      "source": [
        "Number of nodes in a gigantic connected component (GCC)"
      ]
    },
    {
      "cell_type": "code",
      "execution_count": 4,
      "id": "82ed0967",
      "metadata": {
        "id": "82ed0967",
        "colab": {
          "base_uri": "https://localhost:8080/"
        },
        "outputId": "4f526323-8955-4239-9d57-675b590f90b1"
      },
      "outputs": [
        {
          "output_type": "execute_result",
          "data": {
            "text/plain": [
              "2485"
            ]
          },
          "metadata": {},
          "execution_count": 4
        }
      ],
      "source": [
        "gcc_nodes = sorted(list(nx.connected_components(cora)), \n",
        "                   key=lambda x: len(x))[-1]\n",
        "gcc_cora = cora.subgraph(gcc_nodes).copy()\n",
        "len(gcc_cora)"
      ]
    },
    {
      "cell_type": "markdown",
      "id": "aaf2d78a",
      "metadata": {
        "id": "aaf2d78a"
      },
      "source": [
        "Nodes content"
      ]
    },
    {
      "cell_type": "code",
      "execution_count": 5,
      "id": "801a8d25",
      "metadata": {
        "id": "801a8d25",
        "colab": {
          "base_uri": "https://localhost:8080/",
          "height": 238
        },
        "outputId": "89556537-2c4c-479e-c4a2-9c2dc1f533ff"
      },
      "outputs": [
        {
          "output_type": "execute_result",
          "data": {
            "text/plain": [
              "         1   2   3   4   5   6   7   8   9   10  11  12  13  14  15  16  17  \\\n",
              "node                                                                          \n",
              "31336     0   0   0   0   0   0   0   0   0   0   0   0   0   0   0   0   0   \n",
              "1061127   0   0   0   0   0   0   0   0   0   0   0   0   1   0   0   0   0   \n",
              "1106406   0   0   0   0   0   0   0   0   0   0   0   0   0   0   0   0   0   \n",
              "13195     0   0   0   0   0   0   0   0   0   0   0   0   0   0   0   0   0   \n",
              "37879     0   0   0   0   0   0   0   0   0   0   0   0   0   0   0   0   0   \n",
              "\n",
              "         18  19  20  \n",
              "node                 \n",
              "31336     0   0   0  \n",
              "1061127   0   0   0  \n",
              "1106406   0   0   0  \n",
              "13195     0   0   0  \n",
              "37879     0   0   0  "
            ],
            "text/html": [
              "\n",
              "  <div id=\"df-d41ddfa4-fe07-4c60-8dd9-d62260c4be4a\">\n",
              "    <div class=\"colab-df-container\">\n",
              "      <div>\n",
              "<style scoped>\n",
              "    .dataframe tbody tr th:only-of-type {\n",
              "        vertical-align: middle;\n",
              "    }\n",
              "\n",
              "    .dataframe tbody tr th {\n",
              "        vertical-align: top;\n",
              "    }\n",
              "\n",
              "    .dataframe thead th {\n",
              "        text-align: right;\n",
              "    }\n",
              "</style>\n",
              "<table border=\"1\" class=\"dataframe\">\n",
              "  <thead>\n",
              "    <tr style=\"text-align: right;\">\n",
              "      <th></th>\n",
              "      <th>1</th>\n",
              "      <th>2</th>\n",
              "      <th>3</th>\n",
              "      <th>4</th>\n",
              "      <th>5</th>\n",
              "      <th>6</th>\n",
              "      <th>7</th>\n",
              "      <th>8</th>\n",
              "      <th>9</th>\n",
              "      <th>10</th>\n",
              "      <th>11</th>\n",
              "      <th>12</th>\n",
              "      <th>13</th>\n",
              "      <th>14</th>\n",
              "      <th>15</th>\n",
              "      <th>16</th>\n",
              "      <th>17</th>\n",
              "      <th>18</th>\n",
              "      <th>19</th>\n",
              "      <th>20</th>\n",
              "    </tr>\n",
              "    <tr>\n",
              "      <th>node</th>\n",
              "      <th></th>\n",
              "      <th></th>\n",
              "      <th></th>\n",
              "      <th></th>\n",
              "      <th></th>\n",
              "      <th></th>\n",
              "      <th></th>\n",
              "      <th></th>\n",
              "      <th></th>\n",
              "      <th></th>\n",
              "      <th></th>\n",
              "      <th></th>\n",
              "      <th></th>\n",
              "      <th></th>\n",
              "      <th></th>\n",
              "      <th></th>\n",
              "      <th></th>\n",
              "      <th></th>\n",
              "      <th></th>\n",
              "      <th></th>\n",
              "    </tr>\n",
              "  </thead>\n",
              "  <tbody>\n",
              "    <tr>\n",
              "      <th>31336</th>\n",
              "      <td>0</td>\n",
              "      <td>0</td>\n",
              "      <td>0</td>\n",
              "      <td>0</td>\n",
              "      <td>0</td>\n",
              "      <td>0</td>\n",
              "      <td>0</td>\n",
              "      <td>0</td>\n",
              "      <td>0</td>\n",
              "      <td>0</td>\n",
              "      <td>0</td>\n",
              "      <td>0</td>\n",
              "      <td>0</td>\n",
              "      <td>0</td>\n",
              "      <td>0</td>\n",
              "      <td>0</td>\n",
              "      <td>0</td>\n",
              "      <td>0</td>\n",
              "      <td>0</td>\n",
              "      <td>0</td>\n",
              "    </tr>\n",
              "    <tr>\n",
              "      <th>1061127</th>\n",
              "      <td>0</td>\n",
              "      <td>0</td>\n",
              "      <td>0</td>\n",
              "      <td>0</td>\n",
              "      <td>0</td>\n",
              "      <td>0</td>\n",
              "      <td>0</td>\n",
              "      <td>0</td>\n",
              "      <td>0</td>\n",
              "      <td>0</td>\n",
              "      <td>0</td>\n",
              "      <td>0</td>\n",
              "      <td>1</td>\n",
              "      <td>0</td>\n",
              "      <td>0</td>\n",
              "      <td>0</td>\n",
              "      <td>0</td>\n",
              "      <td>0</td>\n",
              "      <td>0</td>\n",
              "      <td>0</td>\n",
              "    </tr>\n",
              "    <tr>\n",
              "      <th>1106406</th>\n",
              "      <td>0</td>\n",
              "      <td>0</td>\n",
              "      <td>0</td>\n",
              "      <td>0</td>\n",
              "      <td>0</td>\n",
              "      <td>0</td>\n",
              "      <td>0</td>\n",
              "      <td>0</td>\n",
              "      <td>0</td>\n",
              "      <td>0</td>\n",
              "      <td>0</td>\n",
              "      <td>0</td>\n",
              "      <td>0</td>\n",
              "      <td>0</td>\n",
              "      <td>0</td>\n",
              "      <td>0</td>\n",
              "      <td>0</td>\n",
              "      <td>0</td>\n",
              "      <td>0</td>\n",
              "      <td>0</td>\n",
              "    </tr>\n",
              "    <tr>\n",
              "      <th>13195</th>\n",
              "      <td>0</td>\n",
              "      <td>0</td>\n",
              "      <td>0</td>\n",
              "      <td>0</td>\n",
              "      <td>0</td>\n",
              "      <td>0</td>\n",
              "      <td>0</td>\n",
              "      <td>0</td>\n",
              "      <td>0</td>\n",
              "      <td>0</td>\n",
              "      <td>0</td>\n",
              "      <td>0</td>\n",
              "      <td>0</td>\n",
              "      <td>0</td>\n",
              "      <td>0</td>\n",
              "      <td>0</td>\n",
              "      <td>0</td>\n",
              "      <td>0</td>\n",
              "      <td>0</td>\n",
              "      <td>0</td>\n",
              "    </tr>\n",
              "    <tr>\n",
              "      <th>37879</th>\n",
              "      <td>0</td>\n",
              "      <td>0</td>\n",
              "      <td>0</td>\n",
              "      <td>0</td>\n",
              "      <td>0</td>\n",
              "      <td>0</td>\n",
              "      <td>0</td>\n",
              "      <td>0</td>\n",
              "      <td>0</td>\n",
              "      <td>0</td>\n",
              "      <td>0</td>\n",
              "      <td>0</td>\n",
              "      <td>0</td>\n",
              "      <td>0</td>\n",
              "      <td>0</td>\n",
              "      <td>0</td>\n",
              "      <td>0</td>\n",
              "      <td>0</td>\n",
              "      <td>0</td>\n",
              "      <td>0</td>\n",
              "    </tr>\n",
              "  </tbody>\n",
              "</table>\n",
              "</div>\n",
              "      <button class=\"colab-df-convert\" onclick=\"convertToInteractive('df-d41ddfa4-fe07-4c60-8dd9-d62260c4be4a')\"\n",
              "              title=\"Convert this dataframe to an interactive table.\"\n",
              "              style=\"display:none;\">\n",
              "        \n",
              "  <svg xmlns=\"http://www.w3.org/2000/svg\" height=\"24px\"viewBox=\"0 0 24 24\"\n",
              "       width=\"24px\">\n",
              "    <path d=\"M0 0h24v24H0V0z\" fill=\"none\"/>\n",
              "    <path d=\"M18.56 5.44l.94 2.06.94-2.06 2.06-.94-2.06-.94-.94-2.06-.94 2.06-2.06.94zm-11 1L8.5 8.5l.94-2.06 2.06-.94-2.06-.94L8.5 2.5l-.94 2.06-2.06.94zm10 10l.94 2.06.94-2.06 2.06-.94-2.06-.94-.94-2.06-.94 2.06-2.06.94z\"/><path d=\"M17.41 7.96l-1.37-1.37c-.4-.4-.92-.59-1.43-.59-.52 0-1.04.2-1.43.59L10.3 9.45l-7.72 7.72c-.78.78-.78 2.05 0 2.83L4 21.41c.39.39.9.59 1.41.59.51 0 1.02-.2 1.41-.59l7.78-7.78 2.81-2.81c.8-.78.8-2.07 0-2.86zM5.41 20L4 18.59l7.72-7.72 1.47 1.35L5.41 20z\"/>\n",
              "  </svg>\n",
              "      </button>\n",
              "      \n",
              "  <style>\n",
              "    .colab-df-container {\n",
              "      display:flex;\n",
              "      flex-wrap:wrap;\n",
              "      gap: 12px;\n",
              "    }\n",
              "\n",
              "    .colab-df-convert {\n",
              "      background-color: #E8F0FE;\n",
              "      border: none;\n",
              "      border-radius: 50%;\n",
              "      cursor: pointer;\n",
              "      display: none;\n",
              "      fill: #1967D2;\n",
              "      height: 32px;\n",
              "      padding: 0 0 0 0;\n",
              "      width: 32px;\n",
              "    }\n",
              "\n",
              "    .colab-df-convert:hover {\n",
              "      background-color: #E2EBFA;\n",
              "      box-shadow: 0px 1px 2px rgba(60, 64, 67, 0.3), 0px 1px 3px 1px rgba(60, 64, 67, 0.15);\n",
              "      fill: #174EA6;\n",
              "    }\n",
              "\n",
              "    [theme=dark] .colab-df-convert {\n",
              "      background-color: #3B4455;\n",
              "      fill: #D2E3FC;\n",
              "    }\n",
              "\n",
              "    [theme=dark] .colab-df-convert:hover {\n",
              "      background-color: #434B5C;\n",
              "      box-shadow: 0px 1px 3px 1px rgba(0, 0, 0, 0.15);\n",
              "      filter: drop-shadow(0px 1px 2px rgba(0, 0, 0, 0.3));\n",
              "      fill: #FFFFFF;\n",
              "    }\n",
              "  </style>\n",
              "\n",
              "      <script>\n",
              "        const buttonEl =\n",
              "          document.querySelector('#df-d41ddfa4-fe07-4c60-8dd9-d62260c4be4a button.colab-df-convert');\n",
              "        buttonEl.style.display =\n",
              "          google.colab.kernel.accessAllowed ? 'block' : 'none';\n",
              "\n",
              "        async function convertToInteractive(key) {\n",
              "          const element = document.querySelector('#df-d41ddfa4-fe07-4c60-8dd9-d62260c4be4a');\n",
              "          const dataTable =\n",
              "            await google.colab.kernel.invokeFunction('convertToInteractive',\n",
              "                                                     [key], {});\n",
              "          if (!dataTable) return;\n",
              "\n",
              "          const docLinkHtml = 'Like what you see? Visit the ' +\n",
              "            '<a target=\"_blank\" href=https://colab.research.google.com/notebooks/data_table.ipynb>data table notebook</a>'\n",
              "            + ' to learn more about interactive tables.';\n",
              "          element.innerHTML = '';\n",
              "          dataTable['output_type'] = 'display_data';\n",
              "          await google.colab.output.renderOutput(dataTable, element);\n",
              "          const docLink = document.createElement('div');\n",
              "          docLink.innerHTML = docLinkHtml;\n",
              "          element.appendChild(docLink);\n",
              "        }\n",
              "      </script>\n",
              "    </div>\n",
              "  </div>\n",
              "  "
            ]
          },
          "metadata": {},
          "execution_count": 5
        }
      ],
      "source": [
        "cora_content = pd.read_csv('cora_content.txt', sep='\t', \n",
        "                           header=None, index_col=0)\n",
        "cora_content.index = cora_content.index.astype('str')\n",
        "cora_content.index.name = 'node'\n",
        "cora_content.iloc[:5, :20]"
      ]
    },
    {
      "cell_type": "markdown",
      "id": "84343a10",
      "metadata": {
        "id": "84343a10"
      },
      "source": [
        "Each publication in the dataset is described by a 0/1-valued word vector indicating the absence/presence of the corresponding word from the dictionary. The dictionary consists of 1433 unique words. In this assignment, we will only work with categories and will not touch any information about words.\n",
        "\n",
        "Examples of node categories"
      ]
    },
    {
      "cell_type": "code",
      "execution_count": 6,
      "id": "268d3aba",
      "metadata": {
        "id": "268d3aba",
        "colab": {
          "base_uri": "https://localhost:8080/",
          "height": 238
        },
        "outputId": "159008a8-7559-408c-cbeb-f27949b36860"
      },
      "outputs": [
        {
          "output_type": "execute_result",
          "data": {
            "text/plain": [
              "                 category_name\n",
              "node                          \n",
              "116087           Rule_Learning\n",
              "753264                  Theory\n",
              "650807      Genetic_Algorithms\n",
              "1102646        Neural_Networks\n",
              "590022   Probabilistic_Methods"
            ],
            "text/html": [
              "\n",
              "  <div id=\"df-b045dd76-99a8-4eb1-a12e-b1483c7d883e\">\n",
              "    <div class=\"colab-df-container\">\n",
              "      <div>\n",
              "<style scoped>\n",
              "    .dataframe tbody tr th:only-of-type {\n",
              "        vertical-align: middle;\n",
              "    }\n",
              "\n",
              "    .dataframe tbody tr th {\n",
              "        vertical-align: top;\n",
              "    }\n",
              "\n",
              "    .dataframe thead th {\n",
              "        text-align: right;\n",
              "    }\n",
              "</style>\n",
              "<table border=\"1\" class=\"dataframe\">\n",
              "  <thead>\n",
              "    <tr style=\"text-align: right;\">\n",
              "      <th></th>\n",
              "      <th>category_name</th>\n",
              "    </tr>\n",
              "    <tr>\n",
              "      <th>node</th>\n",
              "      <th></th>\n",
              "    </tr>\n",
              "  </thead>\n",
              "  <tbody>\n",
              "    <tr>\n",
              "      <th>116087</th>\n",
              "      <td>Rule_Learning</td>\n",
              "    </tr>\n",
              "    <tr>\n",
              "      <th>753264</th>\n",
              "      <td>Theory</td>\n",
              "    </tr>\n",
              "    <tr>\n",
              "      <th>650807</th>\n",
              "      <td>Genetic_Algorithms</td>\n",
              "    </tr>\n",
              "    <tr>\n",
              "      <th>1102646</th>\n",
              "      <td>Neural_Networks</td>\n",
              "    </tr>\n",
              "    <tr>\n",
              "      <th>590022</th>\n",
              "      <td>Probabilistic_Methods</td>\n",
              "    </tr>\n",
              "  </tbody>\n",
              "</table>\n",
              "</div>\n",
              "      <button class=\"colab-df-convert\" onclick=\"convertToInteractive('df-b045dd76-99a8-4eb1-a12e-b1483c7d883e')\"\n",
              "              title=\"Convert this dataframe to an interactive table.\"\n",
              "              style=\"display:none;\">\n",
              "        \n",
              "  <svg xmlns=\"http://www.w3.org/2000/svg\" height=\"24px\"viewBox=\"0 0 24 24\"\n",
              "       width=\"24px\">\n",
              "    <path d=\"M0 0h24v24H0V0z\" fill=\"none\"/>\n",
              "    <path d=\"M18.56 5.44l.94 2.06.94-2.06 2.06-.94-2.06-.94-.94-2.06-.94 2.06-2.06.94zm-11 1L8.5 8.5l.94-2.06 2.06-.94-2.06-.94L8.5 2.5l-.94 2.06-2.06.94zm10 10l.94 2.06.94-2.06 2.06-.94-2.06-.94-.94-2.06-.94 2.06-2.06.94z\"/><path d=\"M17.41 7.96l-1.37-1.37c-.4-.4-.92-.59-1.43-.59-.52 0-1.04.2-1.43.59L10.3 9.45l-7.72 7.72c-.78.78-.78 2.05 0 2.83L4 21.41c.39.39.9.59 1.41.59.51 0 1.02-.2 1.41-.59l7.78-7.78 2.81-2.81c.8-.78.8-2.07 0-2.86zM5.41 20L4 18.59l7.72-7.72 1.47 1.35L5.41 20z\"/>\n",
              "  </svg>\n",
              "      </button>\n",
              "      \n",
              "  <style>\n",
              "    .colab-df-container {\n",
              "      display:flex;\n",
              "      flex-wrap:wrap;\n",
              "      gap: 12px;\n",
              "    }\n",
              "\n",
              "    .colab-df-convert {\n",
              "      background-color: #E8F0FE;\n",
              "      border: none;\n",
              "      border-radius: 50%;\n",
              "      cursor: pointer;\n",
              "      display: none;\n",
              "      fill: #1967D2;\n",
              "      height: 32px;\n",
              "      padding: 0 0 0 0;\n",
              "      width: 32px;\n",
              "    }\n",
              "\n",
              "    .colab-df-convert:hover {\n",
              "      background-color: #E2EBFA;\n",
              "      box-shadow: 0px 1px 2px rgba(60, 64, 67, 0.3), 0px 1px 3px 1px rgba(60, 64, 67, 0.15);\n",
              "      fill: #174EA6;\n",
              "    }\n",
              "\n",
              "    [theme=dark] .colab-df-convert {\n",
              "      background-color: #3B4455;\n",
              "      fill: #D2E3FC;\n",
              "    }\n",
              "\n",
              "    [theme=dark] .colab-df-convert:hover {\n",
              "      background-color: #434B5C;\n",
              "      box-shadow: 0px 1px 3px 1px rgba(0, 0, 0, 0.15);\n",
              "      filter: drop-shadow(0px 1px 2px rgba(0, 0, 0, 0.3));\n",
              "      fill: #FFFFFF;\n",
              "    }\n",
              "  </style>\n",
              "\n",
              "      <script>\n",
              "        const buttonEl =\n",
              "          document.querySelector('#df-b045dd76-99a8-4eb1-a12e-b1483c7d883e button.colab-df-convert');\n",
              "        buttonEl.style.display =\n",
              "          google.colab.kernel.accessAllowed ? 'block' : 'none';\n",
              "\n",
              "        async function convertToInteractive(key) {\n",
              "          const element = document.querySelector('#df-b045dd76-99a8-4eb1-a12e-b1483c7d883e');\n",
              "          const dataTable =\n",
              "            await google.colab.kernel.invokeFunction('convertToInteractive',\n",
              "                                                     [key], {});\n",
              "          if (!dataTable) return;\n",
              "\n",
              "          const docLinkHtml = 'Like what you see? Visit the ' +\n",
              "            '<a target=\"_blank\" href=https://colab.research.google.com/notebooks/data_table.ipynb>data table notebook</a>'\n",
              "            + ' to learn more about interactive tables.';\n",
              "          element.innerHTML = '';\n",
              "          dataTable['output_type'] = 'display_data';\n",
              "          await google.colab.output.renderOutput(dataTable, element);\n",
              "          const docLink = document.createElement('div');\n",
              "          docLink.innerHTML = docLinkHtml;\n",
              "          element.appendChild(docLink);\n",
              "        }\n",
              "      </script>\n",
              "    </div>\n",
              "  </div>\n",
              "  "
            ]
          },
          "metadata": {},
          "execution_count": 6
        }
      ],
      "source": [
        "category = cora_content.loc[gcc_nodes, [1434]]\n",
        "category = category.rename(columns={1434: 'category_name'})\n",
        "category.head()"
      ]
    },
    {
      "cell_type": "code",
      "source": [
        "cora_content"
      ],
      "metadata": {
        "colab": {
          "base_uri": "https://localhost:8080/",
          "height": 455
        },
        "id": "aSorYueZUhzZ",
        "outputId": "e17596b5-0d8f-4460-9e56-fc9bbc3afa2d"
      },
      "id": "aSorYueZUhzZ",
      "execution_count": 7,
      "outputs": [
        {
          "output_type": "execute_result",
          "data": {
            "text/plain": [
              "         1     2     3     4     5     6     7     8     9     10    ...  \\\n",
              "node                                                                 ...   \n",
              "31336       0     0     0     0     0     0     0     0     0     0  ...   \n",
              "1061127     0     0     0     0     0     0     0     0     0     0  ...   \n",
              "1106406     0     0     0     0     0     0     0     0     0     0  ...   \n",
              "13195       0     0     0     0     0     0     0     0     0     0  ...   \n",
              "37879       0     0     0     0     0     0     0     0     0     0  ...   \n",
              "...       ...   ...   ...   ...   ...   ...   ...   ...   ...   ...  ...   \n",
              "1128975     0     0     0     0     0     0     0     0     0     0  ...   \n",
              "1128977     0     0     0     0     0     0     0     0     0     0  ...   \n",
              "1128978     0     0     0     0     0     0     0     0     0     0  ...   \n",
              "117328      0     0     0     0     1     0     0     0     0     0  ...   \n",
              "24043       0     0     0     0     0     0     0     0     0     0  ...   \n",
              "\n",
              "         1425  1426  1427  1428  1429  1430  1431  1432  1433  \\\n",
              "node                                                            \n",
              "31336       0     0     1     0     0     0     0     0     0   \n",
              "1061127     0     1     0     0     0     0     0     0     0   \n",
              "1106406     0     0     0     0     0     0     0     0     0   \n",
              "13195       0     0     0     0     0     0     0     0     0   \n",
              "37879       0     0     0     0     0     0     0     0     0   \n",
              "...       ...   ...   ...   ...   ...   ...   ...   ...   ...   \n",
              "1128975     0     0     0     0     0     0     0     0     0   \n",
              "1128977     0     0     0     0     0     0     0     0     0   \n",
              "1128978     0     0     0     0     0     0     0     0     0   \n",
              "117328      0     0     0     0     0     0     0     0     0   \n",
              "24043       0     0     0     0     0     0     0     0     0   \n",
              "\n",
              "                           1434  \n",
              "node                             \n",
              "31336           Neural_Networks  \n",
              "1061127           Rule_Learning  \n",
              "1106406  Reinforcement_Learning  \n",
              "13195    Reinforcement_Learning  \n",
              "37879     Probabilistic_Methods  \n",
              "...                         ...  \n",
              "1128975      Genetic_Algorithms  \n",
              "1128977      Genetic_Algorithms  \n",
              "1128978      Genetic_Algorithms  \n",
              "117328               Case_Based  \n",
              "24043           Neural_Networks  \n",
              "\n",
              "[2708 rows x 1434 columns]"
            ],
            "text/html": [
              "\n",
              "  <div id=\"df-fbc4bb32-de89-4377-a35b-8d6897f72839\">\n",
              "    <div class=\"colab-df-container\">\n",
              "      <div>\n",
              "<style scoped>\n",
              "    .dataframe tbody tr th:only-of-type {\n",
              "        vertical-align: middle;\n",
              "    }\n",
              "\n",
              "    .dataframe tbody tr th {\n",
              "        vertical-align: top;\n",
              "    }\n",
              "\n",
              "    .dataframe thead th {\n",
              "        text-align: right;\n",
              "    }\n",
              "</style>\n",
              "<table border=\"1\" class=\"dataframe\">\n",
              "  <thead>\n",
              "    <tr style=\"text-align: right;\">\n",
              "      <th></th>\n",
              "      <th>1</th>\n",
              "      <th>2</th>\n",
              "      <th>3</th>\n",
              "      <th>4</th>\n",
              "      <th>5</th>\n",
              "      <th>6</th>\n",
              "      <th>7</th>\n",
              "      <th>8</th>\n",
              "      <th>9</th>\n",
              "      <th>10</th>\n",
              "      <th>...</th>\n",
              "      <th>1425</th>\n",
              "      <th>1426</th>\n",
              "      <th>1427</th>\n",
              "      <th>1428</th>\n",
              "      <th>1429</th>\n",
              "      <th>1430</th>\n",
              "      <th>1431</th>\n",
              "      <th>1432</th>\n",
              "      <th>1433</th>\n",
              "      <th>1434</th>\n",
              "    </tr>\n",
              "    <tr>\n",
              "      <th>node</th>\n",
              "      <th></th>\n",
              "      <th></th>\n",
              "      <th></th>\n",
              "      <th></th>\n",
              "      <th></th>\n",
              "      <th></th>\n",
              "      <th></th>\n",
              "      <th></th>\n",
              "      <th></th>\n",
              "      <th></th>\n",
              "      <th></th>\n",
              "      <th></th>\n",
              "      <th></th>\n",
              "      <th></th>\n",
              "      <th></th>\n",
              "      <th></th>\n",
              "      <th></th>\n",
              "      <th></th>\n",
              "      <th></th>\n",
              "      <th></th>\n",
              "      <th></th>\n",
              "    </tr>\n",
              "  </thead>\n",
              "  <tbody>\n",
              "    <tr>\n",
              "      <th>31336</th>\n",
              "      <td>0</td>\n",
              "      <td>0</td>\n",
              "      <td>0</td>\n",
              "      <td>0</td>\n",
              "      <td>0</td>\n",
              "      <td>0</td>\n",
              "      <td>0</td>\n",
              "      <td>0</td>\n",
              "      <td>0</td>\n",
              "      <td>0</td>\n",
              "      <td>...</td>\n",
              "      <td>0</td>\n",
              "      <td>0</td>\n",
              "      <td>1</td>\n",
              "      <td>0</td>\n",
              "      <td>0</td>\n",
              "      <td>0</td>\n",
              "      <td>0</td>\n",
              "      <td>0</td>\n",
              "      <td>0</td>\n",
              "      <td>Neural_Networks</td>\n",
              "    </tr>\n",
              "    <tr>\n",
              "      <th>1061127</th>\n",
              "      <td>0</td>\n",
              "      <td>0</td>\n",
              "      <td>0</td>\n",
              "      <td>0</td>\n",
              "      <td>0</td>\n",
              "      <td>0</td>\n",
              "      <td>0</td>\n",
              "      <td>0</td>\n",
              "      <td>0</td>\n",
              "      <td>0</td>\n",
              "      <td>...</td>\n",
              "      <td>0</td>\n",
              "      <td>1</td>\n",
              "      <td>0</td>\n",
              "      <td>0</td>\n",
              "      <td>0</td>\n",
              "      <td>0</td>\n",
              "      <td>0</td>\n",
              "      <td>0</td>\n",
              "      <td>0</td>\n",
              "      <td>Rule_Learning</td>\n",
              "    </tr>\n",
              "    <tr>\n",
              "      <th>1106406</th>\n",
              "      <td>0</td>\n",
              "      <td>0</td>\n",
              "      <td>0</td>\n",
              "      <td>0</td>\n",
              "      <td>0</td>\n",
              "      <td>0</td>\n",
              "      <td>0</td>\n",
              "      <td>0</td>\n",
              "      <td>0</td>\n",
              "      <td>0</td>\n",
              "      <td>...</td>\n",
              "      <td>0</td>\n",
              "      <td>0</td>\n",
              "      <td>0</td>\n",
              "      <td>0</td>\n",
              "      <td>0</td>\n",
              "      <td>0</td>\n",
              "      <td>0</td>\n",
              "      <td>0</td>\n",
              "      <td>0</td>\n",
              "      <td>Reinforcement_Learning</td>\n",
              "    </tr>\n",
              "    <tr>\n",
              "      <th>13195</th>\n",
              "      <td>0</td>\n",
              "      <td>0</td>\n",
              "      <td>0</td>\n",
              "      <td>0</td>\n",
              "      <td>0</td>\n",
              "      <td>0</td>\n",
              "      <td>0</td>\n",
              "      <td>0</td>\n",
              "      <td>0</td>\n",
              "      <td>0</td>\n",
              "      <td>...</td>\n",
              "      <td>0</td>\n",
              "      <td>0</td>\n",
              "      <td>0</td>\n",
              "      <td>0</td>\n",
              "      <td>0</td>\n",
              "      <td>0</td>\n",
              "      <td>0</td>\n",
              "      <td>0</td>\n",
              "      <td>0</td>\n",
              "      <td>Reinforcement_Learning</td>\n",
              "    </tr>\n",
              "    <tr>\n",
              "      <th>37879</th>\n",
              "      <td>0</td>\n",
              "      <td>0</td>\n",
              "      <td>0</td>\n",
              "      <td>0</td>\n",
              "      <td>0</td>\n",
              "      <td>0</td>\n",
              "      <td>0</td>\n",
              "      <td>0</td>\n",
              "      <td>0</td>\n",
              "      <td>0</td>\n",
              "      <td>...</td>\n",
              "      <td>0</td>\n",
              "      <td>0</td>\n",
              "      <td>0</td>\n",
              "      <td>0</td>\n",
              "      <td>0</td>\n",
              "      <td>0</td>\n",
              "      <td>0</td>\n",
              "      <td>0</td>\n",
              "      <td>0</td>\n",
              "      <td>Probabilistic_Methods</td>\n",
              "    </tr>\n",
              "    <tr>\n",
              "      <th>...</th>\n",
              "      <td>...</td>\n",
              "      <td>...</td>\n",
              "      <td>...</td>\n",
              "      <td>...</td>\n",
              "      <td>...</td>\n",
              "      <td>...</td>\n",
              "      <td>...</td>\n",
              "      <td>...</td>\n",
              "      <td>...</td>\n",
              "      <td>...</td>\n",
              "      <td>...</td>\n",
              "      <td>...</td>\n",
              "      <td>...</td>\n",
              "      <td>...</td>\n",
              "      <td>...</td>\n",
              "      <td>...</td>\n",
              "      <td>...</td>\n",
              "      <td>...</td>\n",
              "      <td>...</td>\n",
              "      <td>...</td>\n",
              "      <td>...</td>\n",
              "    </tr>\n",
              "    <tr>\n",
              "      <th>1128975</th>\n",
              "      <td>0</td>\n",
              "      <td>0</td>\n",
              "      <td>0</td>\n",
              "      <td>0</td>\n",
              "      <td>0</td>\n",
              "      <td>0</td>\n",
              "      <td>0</td>\n",
              "      <td>0</td>\n",
              "      <td>0</td>\n",
              "      <td>0</td>\n",
              "      <td>...</td>\n",
              "      <td>0</td>\n",
              "      <td>0</td>\n",
              "      <td>0</td>\n",
              "      <td>0</td>\n",
              "      <td>0</td>\n",
              "      <td>0</td>\n",
              "      <td>0</td>\n",
              "      <td>0</td>\n",
              "      <td>0</td>\n",
              "      <td>Genetic_Algorithms</td>\n",
              "    </tr>\n",
              "    <tr>\n",
              "      <th>1128977</th>\n",
              "      <td>0</td>\n",
              "      <td>0</td>\n",
              "      <td>0</td>\n",
              "      <td>0</td>\n",
              "      <td>0</td>\n",
              "      <td>0</td>\n",
              "      <td>0</td>\n",
              "      <td>0</td>\n",
              "      <td>0</td>\n",
              "      <td>0</td>\n",
              "      <td>...</td>\n",
              "      <td>0</td>\n",
              "      <td>0</td>\n",
              "      <td>0</td>\n",
              "      <td>0</td>\n",
              "      <td>0</td>\n",
              "      <td>0</td>\n",
              "      <td>0</td>\n",
              "      <td>0</td>\n",
              "      <td>0</td>\n",
              "      <td>Genetic_Algorithms</td>\n",
              "    </tr>\n",
              "    <tr>\n",
              "      <th>1128978</th>\n",
              "      <td>0</td>\n",
              "      <td>0</td>\n",
              "      <td>0</td>\n",
              "      <td>0</td>\n",
              "      <td>0</td>\n",
              "      <td>0</td>\n",
              "      <td>0</td>\n",
              "      <td>0</td>\n",
              "      <td>0</td>\n",
              "      <td>0</td>\n",
              "      <td>...</td>\n",
              "      <td>0</td>\n",
              "      <td>0</td>\n",
              "      <td>0</td>\n",
              "      <td>0</td>\n",
              "      <td>0</td>\n",
              "      <td>0</td>\n",
              "      <td>0</td>\n",
              "      <td>0</td>\n",
              "      <td>0</td>\n",
              "      <td>Genetic_Algorithms</td>\n",
              "    </tr>\n",
              "    <tr>\n",
              "      <th>117328</th>\n",
              "      <td>0</td>\n",
              "      <td>0</td>\n",
              "      <td>0</td>\n",
              "      <td>0</td>\n",
              "      <td>1</td>\n",
              "      <td>0</td>\n",
              "      <td>0</td>\n",
              "      <td>0</td>\n",
              "      <td>0</td>\n",
              "      <td>0</td>\n",
              "      <td>...</td>\n",
              "      <td>0</td>\n",
              "      <td>0</td>\n",
              "      <td>0</td>\n",
              "      <td>0</td>\n",
              "      <td>0</td>\n",
              "      <td>0</td>\n",
              "      <td>0</td>\n",
              "      <td>0</td>\n",
              "      <td>0</td>\n",
              "      <td>Case_Based</td>\n",
              "    </tr>\n",
              "    <tr>\n",
              "      <th>24043</th>\n",
              "      <td>0</td>\n",
              "      <td>0</td>\n",
              "      <td>0</td>\n",
              "      <td>0</td>\n",
              "      <td>0</td>\n",
              "      <td>0</td>\n",
              "      <td>0</td>\n",
              "      <td>0</td>\n",
              "      <td>0</td>\n",
              "      <td>0</td>\n",
              "      <td>...</td>\n",
              "      <td>0</td>\n",
              "      <td>0</td>\n",
              "      <td>0</td>\n",
              "      <td>0</td>\n",
              "      <td>0</td>\n",
              "      <td>0</td>\n",
              "      <td>0</td>\n",
              "      <td>0</td>\n",
              "      <td>0</td>\n",
              "      <td>Neural_Networks</td>\n",
              "    </tr>\n",
              "  </tbody>\n",
              "</table>\n",
              "<p>2708 rows × 1434 columns</p>\n",
              "</div>\n",
              "      <button class=\"colab-df-convert\" onclick=\"convertToInteractive('df-fbc4bb32-de89-4377-a35b-8d6897f72839')\"\n",
              "              title=\"Convert this dataframe to an interactive table.\"\n",
              "              style=\"display:none;\">\n",
              "        \n",
              "  <svg xmlns=\"http://www.w3.org/2000/svg\" height=\"24px\"viewBox=\"0 0 24 24\"\n",
              "       width=\"24px\">\n",
              "    <path d=\"M0 0h24v24H0V0z\" fill=\"none\"/>\n",
              "    <path d=\"M18.56 5.44l.94 2.06.94-2.06 2.06-.94-2.06-.94-.94-2.06-.94 2.06-2.06.94zm-11 1L8.5 8.5l.94-2.06 2.06-.94-2.06-.94L8.5 2.5l-.94 2.06-2.06.94zm10 10l.94 2.06.94-2.06 2.06-.94-2.06-.94-.94-2.06-.94 2.06-2.06.94z\"/><path d=\"M17.41 7.96l-1.37-1.37c-.4-.4-.92-.59-1.43-.59-.52 0-1.04.2-1.43.59L10.3 9.45l-7.72 7.72c-.78.78-.78 2.05 0 2.83L4 21.41c.39.39.9.59 1.41.59.51 0 1.02-.2 1.41-.59l7.78-7.78 2.81-2.81c.8-.78.8-2.07 0-2.86zM5.41 20L4 18.59l7.72-7.72 1.47 1.35L5.41 20z\"/>\n",
              "  </svg>\n",
              "      </button>\n",
              "      \n",
              "  <style>\n",
              "    .colab-df-container {\n",
              "      display:flex;\n",
              "      flex-wrap:wrap;\n",
              "      gap: 12px;\n",
              "    }\n",
              "\n",
              "    .colab-df-convert {\n",
              "      background-color: #E8F0FE;\n",
              "      border: none;\n",
              "      border-radius: 50%;\n",
              "      cursor: pointer;\n",
              "      display: none;\n",
              "      fill: #1967D2;\n",
              "      height: 32px;\n",
              "      padding: 0 0 0 0;\n",
              "      width: 32px;\n",
              "    }\n",
              "\n",
              "    .colab-df-convert:hover {\n",
              "      background-color: #E2EBFA;\n",
              "      box-shadow: 0px 1px 2px rgba(60, 64, 67, 0.3), 0px 1px 3px 1px rgba(60, 64, 67, 0.15);\n",
              "      fill: #174EA6;\n",
              "    }\n",
              "\n",
              "    [theme=dark] .colab-df-convert {\n",
              "      background-color: #3B4455;\n",
              "      fill: #D2E3FC;\n",
              "    }\n",
              "\n",
              "    [theme=dark] .colab-df-convert:hover {\n",
              "      background-color: #434B5C;\n",
              "      box-shadow: 0px 1px 3px 1px rgba(0, 0, 0, 0.15);\n",
              "      filter: drop-shadow(0px 1px 2px rgba(0, 0, 0, 0.3));\n",
              "      fill: #FFFFFF;\n",
              "    }\n",
              "  </style>\n",
              "\n",
              "      <script>\n",
              "        const buttonEl =\n",
              "          document.querySelector('#df-fbc4bb32-de89-4377-a35b-8d6897f72839 button.colab-df-convert');\n",
              "        buttonEl.style.display =\n",
              "          google.colab.kernel.accessAllowed ? 'block' : 'none';\n",
              "\n",
              "        async function convertToInteractive(key) {\n",
              "          const element = document.querySelector('#df-fbc4bb32-de89-4377-a35b-8d6897f72839');\n",
              "          const dataTable =\n",
              "            await google.colab.kernel.invokeFunction('convertToInteractive',\n",
              "                                                     [key], {});\n",
              "          if (!dataTable) return;\n",
              "\n",
              "          const docLinkHtml = 'Like what you see? Visit the ' +\n",
              "            '<a target=\"_blank\" href=https://colab.research.google.com/notebooks/data_table.ipynb>data table notebook</a>'\n",
              "            + ' to learn more about interactive tables.';\n",
              "          element.innerHTML = '';\n",
              "          dataTable['output_type'] = 'display_data';\n",
              "          await google.colab.output.renderOutput(dataTable, element);\n",
              "          const docLink = document.createElement('div');\n",
              "          docLink.innerHTML = docLinkHtml;\n",
              "          element.appendChild(docLink);\n",
              "        }\n",
              "      </script>\n",
              "    </div>\n",
              "  </div>\n",
              "  "
            ]
          },
          "metadata": {},
          "execution_count": 7
        }
      ]
    },
    {
      "cell_type": "code",
      "source": [
        "cora_content.iloc[:, :-1].sum(axis=1).plot.hist()"
      ],
      "metadata": {
        "colab": {
          "base_uri": "https://localhost:8080/",
          "height": 283
        },
        "id": "WMMZz_AfV5wN",
        "outputId": "1943ef45-9cf0-4501-ee51-fb897018e87f"
      },
      "id": "WMMZz_AfV5wN",
      "execution_count": 8,
      "outputs": [
        {
          "output_type": "execute_result",
          "data": {
            "text/plain": [
              "<matplotlib.axes._subplots.AxesSubplot at 0x7f4598475e50>"
            ]
          },
          "metadata": {},
          "execution_count": 8
        },
        {
          "output_type": "display_data",
          "data": {
            "text/plain": [
              "<Figure size 432x288 with 1 Axes>"
            ],
            "image/png": "[encoded data removed]"
          },
          "metadata": {
            "needs_background": "light"
          }
        }
      ]
    },
    {
      "cell_type": "markdown",
      "id": "e96398cc",
      "metadata": {
        "id": "e96398cc"
      },
      "source": [
        "Category distribution"
      ]
    },
    {
      "cell_type": "code",
      "execution_count": 9,
      "id": "fb9c9941",
      "metadata": {
        "id": "fb9c9941",
        "colab": {
          "base_uri": "https://localhost:8080/",
          "height": 265
        },
        "outputId": "696ed90d-b844-4860-b898-952187c8b21a"
      },
      "outputs": [
        {
          "output_type": "display_data",
          "data": {
            "text/plain": [
              "<Figure size 432x288 with 1 Axes>"
            ],
            "image/png": "[encoded data removed]"
          },
          "metadata": {
            "needs_background": "light"
          }
        }
      ],
      "source": [
        "plt.barh(*np.unique(category, return_counts=True));"
      ]
    },
    {
      "cell_type": "markdown",
      "id": "21010d72",
      "metadata": {
        "id": "21010d72"
      },
      "source": [
        "Rename categories to integer numbers (ids)"
      ]
    },
    {
      "cell_type": "code",
      "execution_count": 10,
      "id": "fb997802",
      "metadata": {
        "id": "fb997802",
        "colab": {
          "base_uri": "https://localhost:8080/",
          "height": 238
        },
        "outputId": "31e3509e-9ef1-427a-9df2-f181e9858b18"
      },
      "outputs": [
        {
          "output_type": "execute_result",
          "data": {
            "text/plain": [
              "                 category_name  category_id\n",
              "node                                       \n",
              "116087           Rule_Learning            5\n",
              "753264                  Theory            6\n",
              "650807      Genetic_Algorithms            1\n",
              "1102646        Neural_Networks            2\n",
              "590022   Probabilistic_Methods            3"
            ],
            "text/html": [
              "\n",
              "  <div id=\"df-32a82d09-cd21-4f40-a440-0905def4fa7b\">\n",
              "    <div class=\"colab-df-container\">\n",
              "      <div>\n",
              "<style scoped>\n",
              "    .dataframe tbody tr th:only-of-type {\n",
              "        vertical-align: middle;\n",
              "    }\n",
              "\n",
              "    .dataframe tbody tr th {\n",
              "        vertical-align: top;\n",
              "    }\n",
              "\n",
              "    .dataframe thead th {\n",
              "        text-align: right;\n",
              "    }\n",
              "</style>\n",
              "<table border=\"1\" class=\"dataframe\">\n",
              "  <thead>\n",
              "    <tr style=\"text-align: right;\">\n",
              "      <th></th>\n",
              "      <th>category_name</th>\n",
              "      <th>category_id</th>\n",
              "    </tr>\n",
              "    <tr>\n",
              "      <th>node</th>\n",
              "      <th></th>\n",
              "      <th></th>\n",
              "    </tr>\n",
              "  </thead>\n",
              "  <tbody>\n",
              "    <tr>\n",
              "      <th>116087</th>\n",
              "      <td>Rule_Learning</td>\n",
              "      <td>5</td>\n",
              "    </tr>\n",
              "    <tr>\n",
              "      <th>753264</th>\n",
              "      <td>Theory</td>\n",
              "      <td>6</td>\n",
              "    </tr>\n",
              "    <tr>\n",
              "      <th>650807</th>\n",
              "      <td>Genetic_Algorithms</td>\n",
              "      <td>1</td>\n",
              "    </tr>\n",
              "    <tr>\n",
              "      <th>1102646</th>\n",
              "      <td>Neural_Networks</td>\n",
              "      <td>2</td>\n",
              "    </tr>\n",
              "    <tr>\n",
              "      <th>590022</th>\n",
              "      <td>Probabilistic_Methods</td>\n",
              "      <td>3</td>\n",
              "    </tr>\n",
              "  </tbody>\n",
              "</table>\n",
              "</div>\n",
              "      <button class=\"colab-df-convert\" onclick=\"convertToInteractive('df-32a82d09-cd21-4f40-a440-0905def4fa7b')\"\n",
              "              title=\"Convert this dataframe to an interactive table.\"\n",
              "              style=\"display:none;\">\n",
              "        \n",
              "  <svg xmlns=\"http://www.w3.org/2000/svg\" height=\"24px\"viewBox=\"0 0 24 24\"\n",
              "       width=\"24px\">\n",
              "    <path d=\"M0 0h24v24H0V0z\" fill=\"none\"/>\n",
              "    <path d=\"M18.56 5.44l.94 2.06.94-2.06 2.06-.94-2.06-.94-.94-2.06-.94 2.06-2.06.94zm-11 1L8.5 8.5l.94-2.06 2.06-.94-2.06-.94L8.5 2.5l-.94 2.06-2.06.94zm10 10l.94 2.06.94-2.06 2.06-.94-2.06-.94-.94-2.06-.94 2.06-2.06.94z\"/><path d=\"M17.41 7.96l-1.37-1.37c-.4-.4-.92-.59-1.43-.59-.52 0-1.04.2-1.43.59L10.3 9.45l-7.72 7.72c-.78.78-.78 2.05 0 2.83L4 21.41c.39.39.9.59 1.41.59.51 0 1.02-.2 1.41-.59l7.78-7.78 2.81-2.81c.8-.78.8-2.07 0-2.86zM5.41 20L4 18.59l7.72-7.72 1.47 1.35L5.41 20z\"/>\n",
              "  </svg>\n",
              "      </button>\n",
              "      \n",
              "  <style>\n",
              "    .colab-df-container {\n",
              "      display:flex;\n",
              "      flex-wrap:wrap;\n",
              "      gap: 12px;\n",
              "    }\n",
              "\n",
              "    .colab-df-convert {\n",
              "      background-color: #E8F0FE;\n",
              "      border: none;\n",
              "      border-radius: 50%;\n",
              "      cursor: pointer;\n",
              "      display: none;\n",
              "      fill: #1967D2;\n",
              "      height: 32px;\n",
              "      padding: 0 0 0 0;\n",
              "      width: 32px;\n",
              "    }\n",
              "\n",
              "    .colab-df-convert:hover {\n",
              "      background-color: #E2EBFA;\n",
              "      box-shadow: 0px 1px 2px rgba(60, 64, 67, 0.3), 0px 1px 3px 1px rgba(60, 64, 67, 0.15);\n",
              "      fill: #174EA6;\n",
              "    }\n",
              "\n",
              "    [theme=dark] .colab-df-convert {\n",
              "      background-color: #3B4455;\n",
              "      fill: #D2E3FC;\n",
              "    }\n",
              "\n",
              "    [theme=dark] .colab-df-convert:hover {\n",
              "      background-color: #434B5C;\n",
              "      box-shadow: 0px 1px 3px 1px rgba(0, 0, 0, 0.15);\n",
              "      filter: drop-shadow(0px 1px 2px rgba(0, 0, 0, 0.3));\n",
              "      fill: #FFFFFF;\n",
              "    }\n",
              "  </style>\n",
              "\n",
              "      <script>\n",
              "        const buttonEl =\n",
              "          document.querySelector('#df-32a82d09-cd21-4f40-a440-0905def4fa7b button.colab-df-convert');\n",
              "        buttonEl.style.display =\n",
              "          google.colab.kernel.accessAllowed ? 'block' : 'none';\n",
              "\n",
              "        async function convertToInteractive(key) {\n",
              "          const element = document.querySelector('#df-32a82d09-cd21-4f40-a440-0905def4fa7b');\n",
              "          const dataTable =\n",
              "            await google.colab.kernel.invokeFunction('convertToInteractive',\n",
              "                                                     [key], {});\n",
              "          if (!dataTable) return;\n",
              "\n",
              "          const docLinkHtml = 'Like what you see? Visit the ' +\n",
              "            '<a target=\"_blank\" href=https://colab.research.google.com/notebooks/data_table.ipynb>data table notebook</a>'\n",
              "            + ' to learn more about interactive tables.';\n",
              "          element.innerHTML = '';\n",
              "          dataTable['output_type'] = 'display_data';\n",
              "          await google.colab.output.renderOutput(dataTable, element);\n",
              "          const docLink = document.createElement('div');\n",
              "          docLink.innerHTML = docLinkHtml;\n",
              "          element.appendChild(docLink);\n",
              "        }\n",
              "      </script>\n",
              "    </div>\n",
              "  </div>\n",
              "  "
            ]
          },
          "metadata": {},
          "execution_count": 10
        }
      ],
      "source": [
        "category['category_id'] = np.unique(category.category_name, \n",
        "                                    return_inverse = True)[1]\n",
        "category.head()"
      ]
    },
    {
      "cell_type": "code",
      "source": [
        "category"
      ],
      "metadata": {
        "colab": {
          "base_uri": "https://localhost:8080/",
          "height": 455
        },
        "id": "6PRrKoaAWuVy",
        "outputId": "858a72f4-fbf0-4b0e-d316-62a498a56ae5"
      },
      "id": "6PRrKoaAWuVy",
      "execution_count": 11,
      "outputs": [
        {
          "output_type": "execute_result",
          "data": {
            "text/plain": [
              "                 category_name  category_id\n",
              "node                                       \n",
              "116087           Rule_Learning            5\n",
              "753264                  Theory            6\n",
              "650807      Genetic_Algorithms            1\n",
              "1102646        Neural_Networks            2\n",
              "590022   Probabilistic_Methods            3\n",
              "...                        ...          ...\n",
              "294030   Probabilistic_Methods            3\n",
              "156977         Neural_Networks            2\n",
              "157761                  Theory            6\n",
              "164885      Genetic_Algorithms            1\n",
              "289945         Neural_Networks            2\n",
              "\n",
              "[2485 rows x 2 columns]"
            ],
            "text/html": [
              "\n",
              "  <div id=\"df-80aa8aa4-a45e-4a79-8231-88aef6a4b603\">\n",
              "    <div class=\"colab-df-container\">\n",
              "      <div>\n",
              "<style scoped>\n",
              "    .dataframe tbody tr th:only-of-type {\n",
              "        vertical-align: middle;\n",
              "    }\n",
              "\n",
              "    .dataframe tbody tr th {\n",
              "        vertical-align: top;\n",
              "    }\n",
              "\n",
              "    .dataframe thead th {\n",
              "        text-align: right;\n",
              "    }\n",
              "</style>\n",
              "<table border=\"1\" class=\"dataframe\">\n",
              "  <thead>\n",
              "    <tr style=\"text-align: right;\">\n",
              "      <th></th>\n",
              "      <th>category_name</th>\n",
              "      <th>category_id</th>\n",
              "    </tr>\n",
              "    <tr>\n",
              "      <th>node</th>\n",
              "      <th></th>\n",
              "      <th></th>\n",
              "    </tr>\n",
              "  </thead>\n",
              "  <tbody>\n",
              "    <tr>\n",
              "      <th>116087</th>\n",
              "      <td>Rule_Learning</td>\n",
              "      <td>5</td>\n",
              "    </tr>\n",
              "    <tr>\n",
              "      <th>753264</th>\n",
              "      <td>Theory</td>\n",
              "      <td>6</td>\n",
              "    </tr>\n",
              "    <tr>\n",
              "      <th>650807</th>\n",
              "      <td>Genetic_Algorithms</td>\n",
              "      <td>1</td>\n",
              "    </tr>\n",
              "    <tr>\n",
              "      <th>1102646</th>\n",
              "      <td>Neural_Networks</td>\n",
              "      <td>2</td>\n",
              "    </tr>\n",
              "    <tr>\n",
              "      <th>590022</th>\n",
              "      <td>Probabilistic_Methods</td>\n",
              "      <td>3</td>\n",
              "    </tr>\n",
              "    <tr>\n",
              "      <th>...</th>\n",
              "      <td>...</td>\n",
              "      <td>...</td>\n",
              "    </tr>\n",
              "    <tr>\n",
              "      <th>294030</th>\n",
              "      <td>Probabilistic_Methods</td>\n",
              "      <td>3</td>\n",
              "    </tr>\n",
              "    <tr>\n",
              "      <th>156977</th>\n",
              "      <td>Neural_Networks</td>\n",
              "      <td>2</td>\n",
              "    </tr>\n",
              "    <tr>\n",
              "      <th>157761</th>\n",
              "      <td>Theory</td>\n",
              "      <td>6</td>\n",
              "    </tr>\n",
              "    <tr>\n",
              "      <th>164885</th>\n",
              "      <td>Genetic_Algorithms</td>\n",
              "      <td>1</td>\n",
              "    </tr>\n",
              "    <tr>\n",
              "      <th>289945</th>\n",
              "      <td>Neural_Networks</td>\n",
              "      <td>2</td>\n",
              "    </tr>\n",
              "  </tbody>\n",
              "</table>\n",
              "<p>2485 rows × 2 columns</p>\n",
              "</div>\n",
              "      <button class=\"colab-df-convert\" onclick=\"convertToInteractive('df-80aa8aa4-a45e-4a79-8231-88aef6a4b603')\"\n",
              "              title=\"Convert this dataframe to an interactive table.\"\n",
              "              style=\"display:none;\">\n",
              "        \n",
              "  <svg xmlns=\"http://www.w3.org/2000/svg\" height=\"24px\"viewBox=\"0 0 24 24\"\n",
              "       width=\"24px\">\n",
              "    <path d=\"M0 0h24v24H0V0z\" fill=\"none\"/>\n",
              "    <path d=\"M18.56 5.44l.94 2.06.94-2.06 2.06-.94-2.06-.94-.94-2.06-.94 2.06-2.06.94zm-11 1L8.5 8.5l.94-2.06 2.06-.94-2.06-.94L8.5 2.5l-.94 2.06-2.06.94zm10 10l.94 2.06.94-2.06 2.06-.94-2.06-.94-.94-2.06-.94 2.06-2.06.94z\"/><path d=\"M17.41 7.96l-1.37-1.37c-.4-.4-.92-.59-1.43-.59-.52 0-1.04.2-1.43.59L10.3 9.45l-7.72 7.72c-.78.78-.78 2.05 0 2.83L4 21.41c.39.39.9.59 1.41.59.51 0 1.02-.2 1.41-.59l7.78-7.78 2.81-2.81c.8-.78.8-2.07 0-2.86zM5.41 20L4 18.59l7.72-7.72 1.47 1.35L5.41 20z\"/>\n",
              "  </svg>\n",
              "      </button>\n",
              "      \n",
              "  <style>\n",
              "    .colab-df-container {\n",
              "      display:flex;\n",
              "      flex-wrap:wrap;\n",
              "      gap: 12px;\n",
              "    }\n",
              "\n",
              "    .colab-df-convert {\n",
              "      background-color: #E8F0FE;\n",
              "      border: none;\n",
              "      border-radius: 50%;\n",
              "      cursor: pointer;\n",
              "      display: none;\n",
              "      fill: #1967D2;\n",
              "      height: 32px;\n",
              "      padding: 0 0 0 0;\n",
              "      width: 32px;\n",
              "    }\n",
              "\n",
              "    .colab-df-convert:hover {\n",
              "      background-color: #E2EBFA;\n",
              "      box-shadow: 0px 1px 2px rgba(60, 64, 67, 0.3), 0px 1px 3px 1px rgba(60, 64, 67, 0.15);\n",
              "      fill: #174EA6;\n",
              "    }\n",
              "\n",
              "    [theme=dark] .colab-df-convert {\n",
              "      background-color: #3B4455;\n",
              "      fill: #D2E3FC;\n",
              "    }\n",
              "\n",
              "    [theme=dark] .colab-df-convert:hover {\n",
              "      background-color: #434B5C;\n",
              "      box-shadow: 0px 1px 3px 1px rgba(0, 0, 0, 0.15);\n",
              "      filter: drop-shadow(0px 1px 2px rgba(0, 0, 0, 0.3));\n",
              "      fill: #FFFFFF;\n",
              "    }\n",
              "  </style>\n",
              "\n",
              "      <script>\n",
              "        const buttonEl =\n",
              "          document.querySelector('#df-80aa8aa4-a45e-4a79-8231-88aef6a4b603 button.colab-df-convert');\n",
              "        buttonEl.style.display =\n",
              "          google.colab.kernel.accessAllowed ? 'block' : 'none';\n",
              "\n",
              "        async function convertToInteractive(key) {\n",
              "          const element = document.querySelector('#df-80aa8aa4-a45e-4a79-8231-88aef6a4b603');\n",
              "          const dataTable =\n",
              "            await google.colab.kernel.invokeFunction('convertToInteractive',\n",
              "                                                     [key], {});\n",
              "          if (!dataTable) return;\n",
              "\n",
              "          const docLinkHtml = 'Like what you see? Visit the ' +\n",
              "            '<a target=\"_blank\" href=https://colab.research.google.com/notebooks/data_table.ipynb>data table notebook</a>'\n",
              "            + ' to learn more about interactive tables.';\n",
              "          element.innerHTML = '';\n",
              "          dataTable['output_type'] = 'display_data';\n",
              "          await google.colab.output.renderOutput(dataTable, element);\n",
              "          const docLink = document.createElement('div');\n",
              "          docLink.innerHTML = docLinkHtml;\n",
              "          element.appendChild(docLink);\n",
              "        }\n",
              "      </script>\n",
              "    </div>\n",
              "  </div>\n",
              "  "
            ]
          },
          "metadata": {},
          "execution_count": 11
        }
      ]
    },
    {
      "cell_type": "markdown",
      "id": "1b0bfc19",
      "metadata": {
        "id": "1b0bfc19"
      },
      "source": [
        "Assortativity coefficient"
      ]
    },
    {
      "cell_type": "code",
      "execution_count": 12,
      "id": "ab9e3d89",
      "metadata": {
        "id": "ab9e3d89",
        "colab": {
          "base_uri": "https://localhost:8080/"
        },
        "outputId": "d78920c2-ca8f-48f9-da10-4bf325b90da1"
      },
      "outputs": [
        {
          "output_type": "execute_result",
          "data": {
            "text/plain": [
              "0.76"
            ]
          },
          "metadata": {},
          "execution_count": 12
        }
      ],
      "source": [
        "nx.set_node_attributes(gcc_cora, category.category_id.to_dict(), 'category')\n",
        "gcc_cora = nx.convert_node_labels_to_integers(gcc_cora)\n",
        "round(nx.attribute_assortativity_coefficient(gcc_cora, 'category'), 2)\n"
      ]
    },
    {
      "cell_type": "markdown",
      "id": "e3d2560d",
      "metadata": {
        "id": "e3d2560d"
      },
      "source": [
        "### Task 1. Node embedding visualization (0 points)"
      ]
    },
    {
      "cell_type": "code",
      "execution_count": 13,
      "id": "fa91285c",
      "metadata": {
        "id": "fa91285c",
        "colab": {
          "base_uri": "https://localhost:8080/"
        },
        "outputId": "489a3ec9-d8ea-4b42-e22d-a399243bdd89"
      },
      "outputs": [
        {
          "output_type": "stream",
          "name": "stdout",
          "text": [
            "Looking in indexes: https://pypi.org/simple, https://us-python.pkg.dev/colab-wheels/public/simple/\n",
            "Collecting gensim==4.0.0\n",
            "  Downloading gensim-4.0.0-cp37-cp37m-manylinux1_x86_64.whl (23.9 MB)\n",
            "\u001b[K     |████████████████████████████████| 23.9 MB 87.6 MB/s \n",
            "\u001b[?25hRequirement already satisfied: smart-open>=1.8.1 in /usr/local/lib/python3.7/dist-packages (from gensim==4.0.0) (5.2.1)\n",
            "Requirement already satisfied: numpy>=1.11.3 in /usr/local/lib/python3.7/dist-packages (from gensim==4.0.0) (1.21.6)\n",
            "Requirement already satisfied: scipy>=0.18.1 in /usr/local/lib/python3.7/dist-packages (from gensim==4.0.0) (1.7.3)\n",
            "Installing collected packages: gensim\n",
            "  Attempting uninstall: gensim\n",
            "    Found existing installation: gensim 3.6.0\n",
            "    Uninstalling gensim-3.6.0:\n",
            "      Successfully uninstalled gensim-3.6.0\n",
            "Successfully installed gensim-4.0.0\n",
            "Looking in indexes: https://pypi.org/simple, https://us-python.pkg.dev/colab-wheels/public/simple/\n",
            "Collecting karateclub\n",
            "  Downloading karateclub-1.3.3.tar.gz (64 kB)\n",
            "\u001b[K     |████████████████████████████████| 64 kB 1.9 MB/s \n",
            "\u001b[?25hRequirement already satisfied: numpy<1.23.0 in /usr/local/lib/python3.7/dist-packages (from karateclub) (1.21.6)\n",
            "Requirement already satisfied: networkx<2.7 in /usr/local/lib/python3.7/dist-packages (from karateclub) (2.6.3)\n",
            "Requirement already satisfied: decorator==4.4.2 in /usr/local/lib/python3.7/dist-packages (from karateclub) (4.4.2)\n",
            "Requirement already satisfied: tqdm in /usr/local/lib/python3.7/dist-packages (from karateclub) (4.64.1)\n",
            "Requirement already satisfied: python-louvain in /usr/local/lib/python3.7/dist-packages (from karateclub) (0.16)\n",
            "Requirement already satisfied: scikit-learn in /usr/local/lib/python3.7/dist-packages (from karateclub) (1.0.2)\n",
            "Requirement already satisfied: scipy in /usr/local/lib/python3.7/dist-packages (from karateclub) (1.7.3)\n",
            "Collecting pygsp\n",
            "  Downloading PyGSP-0.5.1-py2.py3-none-any.whl (1.8 MB)\n",
            "\u001b[K     |████████████████████████████████| 1.8 MB 7.7 MB/s \n",
            "\u001b[?25hRequirement already satisfied: gensim>=4.0.0 in /usr/local/lib/python3.7/dist-packages (from karateclub) (4.0.0)\n",
            "Requirement already satisfied: pandas<=1.3.5 in /usr/local/lib/python3.7/dist-packages (from karateclub) (1.3.5)\n",
            "Requirement already satisfied: six in /usr/local/lib/python3.7/dist-packages (from karateclub) (1.15.0)\n",
            "Collecting python-Levenshtein\n",
            "  Downloading python_Levenshtein-0.20.8-py3-none-any.whl (9.4 kB)\n",
            "Requirement already satisfied: smart-open>=1.8.1 in /usr/local/lib/python3.7/dist-packages (from gensim>=4.0.0->karateclub) (5.2.1)\n",
            "Requirement already satisfied: python-dateutil>=2.7.3 in /usr/local/lib/python3.7/dist-packages (from pandas<=1.3.5->karateclub) (2.8.2)\n",
            "Requirement already satisfied: pytz>=2017.3 in /usr/local/lib/python3.7/dist-packages (from pandas<=1.3.5->karateclub) (2022.6)\n",
            "Collecting Levenshtein==0.20.8\n",
            "  Downloading Levenshtein-0.20.8-cp37-cp37m-manylinux_2_17_x86_64.manylinux2014_x86_64.whl (175 kB)\n",
            "\u001b[K     |████████████████████████████████| 175 kB 51.9 MB/s \n",
            "\u001b[?25hCollecting rapidfuzz<3.0.0,>=2.3.0\n",
            "  Downloading rapidfuzz-2.13.2-cp37-cp37m-manylinux_2_17_x86_64.manylinux2014_x86_64.whl (2.2 MB)\n",
            "\u001b[K     |████████████████████████████████| 2.2 MB 49.9 MB/s \n",
            "\u001b[?25hRequirement already satisfied: joblib>=0.11 in /usr/local/lib/python3.7/dist-packages (from scikit-learn->karateclub) (1.2.0)\n",
            "Requirement already satisfied: threadpoolctl>=2.0.0 in /usr/local/lib/python3.7/dist-packages (from scikit-learn->karateclub) (3.1.0)\n",
            "Building wheels for collected packages: karateclub\n",
            "  Building wheel for karateclub (setup.py) ... \u001b[?25l\u001b[?25hdone\n",
            "  Created wheel for karateclub: filename=karateclub-1.3.3-py3-none-any.whl size=102007 sha256=cda797bd772739f77467609191a93402407b16ee2a3efb68b0f9ac2e9b241fde\n",
            "  Stored in directory: /root/.cache/pip/wheels/a4/df/96/6bad7712be4b013f6efbe6c69d7a69d862704776da02fd8a94\n",
            "Successfully built karateclub\n",
            "Installing collected packages: rapidfuzz, Levenshtein, python-Levenshtein, pygsp, karateclub\n",
            "Successfully installed Levenshtein-0.20.8 karateclub-1.3.3 pygsp-0.5.1 python-Levenshtein-0.20.8 rapidfuzz-2.13.2\n"
          ]
        }
      ],
      "source": [
        "!pip install gensim==4.0.0\n",
        "!pip install karateclub"
      ]
    },
    {
      "cell_type": "code",
      "execution_count": 15,
      "id": "7d5945c1",
      "metadata": {
        "id": "7d5945c1"
      },
      "outputs": [],
      "source": [
        "from gensim.models.word2vec import Word2Vec\n",
        "from karateclub import DeepWalk, Walklets, LaplacianEigenmaps"
      ]
    },
    {
      "cell_type": "markdown",
      "id": "80eca749",
      "metadata": {
        "id": "80eca749"
      },
      "source": [
        "Let us compare embedding algorithms that we saw in previous assignments: \n",
        "* Laplacian Eigenmaps\n",
        "* Truncated SVD of an adjacency matrix\n",
        "* DeepWalk\n",
        "* Walklets\n",
        "\n",
        "There is a usefull python package [*Karate Club*](https://github.com/benedekrozemberczki/karateclub) that contains implementations of these algorithms. Also we will use sklearn implementation of truncated SVD."
      ]
    },
    {
      "cell_type": "markdown",
      "id": "71b10e20",
      "metadata": {
        "id": "71b10e20"
      },
      "source": [
        "Embedding algorithms in Karate Club have a general interface\n",
        "\n",
        "```\n",
        "model.fit(graph)\n",
        "embedding = model.get_embedding()\n",
        "```\n",
        "\n",
        "However, the one inconvenient thing is that Walklets makes a concatenation of Word2Vec embeddings to obtain final embeddings. In this way, the output dimensionality will be Word2Vec dimensionality multiplied by window size. A piece of source code:\n",
        "\n",
        "```python\n",
        "def get_embedding(self) -> np.array:\n",
        "    r\"\"\"Getting the node embedding.\n",
        "\n",
        "    Return types:\n",
        "        * **embedding** *(Numpy array)* - The embedding of nodes.\n",
        "    \"\"\"\n",
        "    return np.concatenate(self._embedding, axis=1)\n",
        "```\n",
        "\n",
        "Sometimes, it is usefull to have deep representation of nodes, but  we want to compare embeddings with the same dimensionality, so let us define our own class `MeanWalklets` that inherits `Walklets` and returns average embeddings in the `get_embedding` method."
      ]
    },
    {
      "cell_type": "code",
      "execution_count": 16,
      "id": "04b7c31d",
      "metadata": {
        "nbgrader": {
          "grade": false,
          "grade_id": "cell-1be4879cc8190e43",
          "locked": false,
          "schema_version": 3,
          "solution": true,
          "task": false
        },
        "id": "04b7c31d"
      },
      "outputs": [],
      "source": [
        "class MeanWalklets(Walklets):\n",
        "    def get_embedding(self):\n",
        "        ### BEGIN SOLUTION\n",
        "        emb = np.mean(self._embedding, axis=0)\n",
        "        return emb\n",
        "        ### END SOLUTION"
      ]
    },
    {
      "cell_type": "code",
      "execution_count": 17,
      "id": "6941ec63",
      "metadata": {
        "nbgrader": {
          "grade": true,
          "grade_id": "cell-7c5dd45231ab30af",
          "locked": true,
          "points": 0,
          "schema_version": 3,
          "solution": false,
          "task": false
        },
        "id": "6941ec63"
      },
      "outputs": [],
      "source": [
        "test_model = MeanWalklets()\n",
        "test_model.fit(nx.karate_club_graph())\n",
        "test_emb = test_model.get_embedding()\n",
        "assert test_emb.shape == (34, 32)"
      ]
    },
    {
      "cell_type": "markdown",
      "id": "99b9fd59",
      "metadata": {
        "id": "99b9fd59"
      },
      "source": [
        "Now let us visualize the 2d embeddings.\n",
        "\n",
        "Write a function `xy_embeddings` that takes a graph, compute 16d embeddings, reduce them into 2d via PCA and returns in the order:\n",
        "* Laplacian Eigenmaps\n",
        "* Truncated SVD of an adjacency matrix\n",
        "* DeepWalk\n",
        "* MeanWalklets\n",
        "\n",
        "*Hints:*\n",
        "* *Suggested hyperparameters for DeepWalk and MeanWalklets are `walk_number=10`, `walk_length=30`, `window_size=10`*"
      ]
    },
    {
      "cell_type": "code",
      "execution_count": 64,
      "id": "acb40a81",
      "metadata": {
        "nbgrader": {
          "grade": false,
          "grade_id": "cell-d33f4faf41b0da0e",
          "locked": false,
          "schema_version": 3,
          "solution": true,
          "task": false
        },
        "id": "acb40a81"
      },
      "outputs": [],
      "source": [
        "def xy_embeddings(_graph):\n",
        "    graph = _graph.copy()\n",
        "    ### BEGIN SOLUTION\n",
        "    pbar = tqdm(total=4)\n",
        "\n",
        "    model = LaplacianEigenmaps(dimensions=16)\n",
        "    model.fit(graph)\n",
        "    laplacian_emb = model.get_embedding()\n",
        "    model = PCA(n_components=2)\n",
        "    model.fit(laplacian_emb)\n",
        "    laplacian_emb = model.transform(laplacian_emb)\n",
        "    pbar.update(1)\n",
        "\n",
        "    A = nx.to_numpy_array(graph)\n",
        "    model = TruncatedSVD(n_components=16)\n",
        "    model.fit(A)\n",
        "    svd_emb = model.transform(A)\n",
        "    model = PCA(n_components=2)\n",
        "    model.fit(svd_emb)\n",
        "    svd_emb = model.transform(svd_emb)\n",
        "    pbar.update(1)\n",
        "\n",
        "    model = DeepWalk(\n",
        "        walk_number=10, walk_length=30, dimensions=16, window_size=10)\n",
        "    model.fit(graph)\n",
        "    deep_walk_emb = model.get_embedding()\n",
        "    model = PCA(n_components=2)\n",
        "    model.fit(deep_walk_emb)\n",
        "    deep_walk_emb = model.transform(deep_walk_emb)\n",
        "    pbar.update(1)\n",
        "\n",
        "    model = MeanWalklets(\n",
        "        walk_number=10, walk_length=30, dimensions=16, window_size=10)\n",
        "    model.fit(graph)\n",
        "    walklets_emb = model.get_embedding()\n",
        "    model = PCA(n_components=2)\n",
        "    model.fit(walklets_emb)\n",
        "    walklets_emb = model.transform(walklets_emb)\n",
        "    pbar.update(1)\n",
        "\n",
        "    pbar.close()\n",
        "\n",
        "    return laplacian_emb, svd_emb, deep_walk_emb, walklets_emb\n",
        "    ### END SOLUTION"
      ]
    },
    {
      "cell_type": "code",
      "execution_count": 65,
      "id": "ede4bdea",
      "metadata": {
        "nbgrader": {
          "grade": true,
          "grade_id": "cell-ce2531dac614957f",
          "locked": true,
          "points": 0,
          "schema_version": 3,
          "solution": false,
          "task": false
        },
        "id": "ede4bdea",
        "colab": {
          "base_uri": "https://localhost:8080/",
          "height": 49,
          "referenced_widgets": [
            "224a82a884954ef3b0414b28b7e88cb3",
            "493db0dda464417e923aa724cff267d3",
            "febe3ceeba1746e0be2cd0d3df233c19",
            "cca0c4f3b2d74da2908bfc9761215706",
            "489ed7ba6a00434f906fac19401a04c3",
            "94855f03b6ea49c9ad650e311441fd86",
            "086fb24bafd74f8aa7cbdce50c551842",
            "428e0161ce1a4534910820a94d747eab",
            "003e893764d74cdb8e072fdf38639003",
            "58f839e4cbba46d680410885069d8994",
            "ca517f9738e14af392775dc5bbdcd68d"
          ]
        },
        "outputId": "51ab5322-42dc-41d1-94bb-f9d6a2b65118"
      },
      "outputs": [
        {
          "output_type": "display_data",
          "data": {
            "text/plain": [
              "  0%|          | 0/4 [00:00<?, ?it/s]"
            ],
            "application/vnd.jupyter.widget-view+json": {
              "version_major": 2,
              "version_minor": 0,
              "model_id": "224a82a884954ef3b0414b28b7e88cb3"
            }
          },
          "metadata": {}
        }
      ],
      "source": [
        "laplacian_emb, svd_emb, deep_walk_emb, walklets_emb = xy_embeddings(gcc_cora)\n",
        "assert (deep_walk_emb.shape == laplacian_emb.shape \n",
        "        == svd_emb.shape == walklets_emb.shape == (2485, 2))\n",
        "assert -0.5 < laplacian_emb.min() < laplacian_emb.max() < 0.5\n",
        "assert svd_emb[0].sum() > 11\n",
        "assert round(abs(np.corrcoef(deep_walk_emb[:, 0], deep_walk_emb[:, 1])[0][1]), \n",
        "             2) == 0\n",
        "assert round(abs(np.corrcoef(walklets_emb[:, 0], walklets_emb[:, 1])[0][1]), \n",
        "             2) == 0"
      ]
    },
    {
      "cell_type": "markdown",
      "id": "16db64b2",
      "metadata": {
        "id": "16db64b2"
      },
      "source": [
        "Next, here we get a list of category ids to color data points"
      ]
    },
    {
      "cell_type": "code",
      "execution_count": 67,
      "id": "1102b59e",
      "metadata": {
        "id": "1102b59e",
        "colab": {
          "base_uri": "https://localhost:8080/"
        },
        "outputId": "9e9a96a9-f70c-4d1b-da7f-8040f27d1c5b"
      },
      "outputs": [
        {
          "output_type": "execute_result",
          "data": {
            "text/plain": [
              "[1, 1, 2, 1, 1, 1, 1, 1, 1, 1]"
            ]
          },
          "metadata": {},
          "execution_count": 67
        }
      ],
      "source": [
        "category_id = nx.get_node_attributes(gcc_cora, 'category')\n",
        "category_id = list(category_id.values())\n",
        "category_id[:10]"
      ]
    },
    {
      "cell_type": "code",
      "execution_count": 56,
      "id": "eb47b862",
      "metadata": {
        "id": "eb47b862",
        "colab": {
          "base_uri": "https://localhost:8080/",
          "height": 1000
        },
        "outputId": "9a65cd24-de3f-4e61-8124-a998addd395a"
      },
      "outputs": [
        {
          "output_type": "display_data",
          "data": {
            "text/plain": [
              "<Figure size 576x1728 with 4 Axes>"
            ],
            "image/png": "[encoded data removed]"
          },
          "metadata": {
            "needs_background": "light"
          }
        }
      ],
      "source": [
        "plt.figure(figsize=(8, 6*4))\n",
        "cases = [[laplacian_emb, 'Laplacian Eigenmaps'], \n",
        "         [svd_emb, 'Truncated SVD'], \n",
        "         [deep_walk_emb, 'DeepWalk'], \n",
        "         [walklets_emb, 'Walklets']]\n",
        "for i, (emb, title) in enumerate(cases):\n",
        "    plt.subplot(4, 1, i+1)\n",
        "    plt.scatter(emb[:, 0], emb[:, 1], c=category_id, cmap=plt.cm.Set1, s=10)\n",
        "    plt.title(title)"
      ]
    },
    {
      "cell_type": "markdown",
      "id": "b55d794e",
      "metadata": {
        "id": "b55d794e"
      },
      "source": [
        "### Task 2. Test size dependency (3 points)"
      ]
    },
    {
      "cell_type": "code",
      "execution_count": null,
      "id": "15e9d0ab",
      "metadata": {
        "scrolled": false,
        "id": "15e9d0ab"
      },
      "outputs": [],
      "source": [
        "# !pip install python-Levenshtein==0.12.2\n",
        "# !pip install gensim==4.0.0\n",
        "# !pip install karateclub==1.2.3"
      ]
    },
    {
      "cell_type": "code",
      "execution_count": 69,
      "id": "47f346e9",
      "metadata": {
        "id": "47f346e9"
      },
      "outputs": [],
      "source": [
        "from gensim.models.word2vec import Word2Vec\n",
        "from karateclub import DeepWalk, Walklets, LaplacianEigenmaps"
      ]
    },
    {
      "cell_type": "markdown",
      "id": "50206335",
      "metadata": {
        "id": "50206335"
      },
      "source": [
        "Let us compare the quality of embedding algorithms on classification tasks depending on the size of test set.\n",
        "\n",
        "Write a function `embeddings_score` that takes a graph and computes 16d embeddigns, splits the dataset (X is embedding, y is category id) into train and test sets, fit `GradientBoostingClassifier` and returns a list of lists:\n",
        "* Micro-F1 score of Laplacian Eigenmaps for the test size 0.99, 0.95, 0.9, 0.8, 0.7\n",
        "* The same for Truncated SVD\n",
        "* The same for Deepwalk\n",
        "* The same for MeanWalklets\n",
        "\n",
        "*Hints:* \n",
        "* *Use `train_test_split` splitting method from sklearn*\n",
        "* *Use `f1_score(y_test, y_pred, average='micro')` method from sklearn to calculate Micro-F1 score*\n",
        "* *It is ok if it takes about 2 minutes in Colab*"
      ]
    },
    {
      "cell_type": "code",
      "source": [
        "def xy_embeddings(_graph):\n",
        "    graph = _graph.copy()\n",
        "    ### BEGIN SOLUTION\n",
        "    pbar = tqdm(total=4)\n",
        "\n",
        "    model = LaplacianEigenmaps(dimensions=16)\n",
        "    model.fit(graph)\n",
        "    laplacian_emb = model.get_embedding()\n",
        "    model = PCA(n_components=2)\n",
        "    model.fit(laplacian_emb)\n",
        "    laplacian_emb = model.transform(laplacian_emb)\n",
        "    pbar.update(1)\n",
        "\n",
        "    A = nx.to_numpy_array(graph)\n",
        "    model = TruncatedSVD(n_components=16)\n",
        "    model.fit(A)\n",
        "    svd_emb = model.transform(A)\n",
        "    model = PCA(n_components=2)\n",
        "    model.fit(svd_emb)\n",
        "    svd_emb = model.transform(svd_emb)\n",
        "    pbar.update(1)\n",
        "\n",
        "    model = DeepWalk(\n",
        "        walk_number=10, walk_length=30, dimensions=16, window_size=10)\n",
        "    model.fit(graph)\n",
        "    deep_walk_emb = model.get_embedding()\n",
        "    model = PCA(n_components=2)\n",
        "    model.fit(deep_walk_emb)\n",
        "    deep_walk_emb = model.transform(deep_walk_emb)\n",
        "    pbar.update(1)\n",
        "\n",
        "    model = MeanWalklets(\n",
        "        walk_number=10, walk_length=30, dimensions=16, window_size=10)\n",
        "    model.fit(graph)\n",
        "    walklets_emb = model.get_embedding()\n",
        "    model = PCA(n_components=2)\n",
        "    model.fit(walklets_emb)\n",
        "    walklets_emb = model.transform(walklets_emb)\n",
        "    pbar.update(1)\n",
        "\n",
        "    pbar.close()\n",
        "\n",
        "    return laplacian_emb, svd_emb, deep_walk_emb, walklets_emb\n",
        "    ### END SOLUTION"
      ],
      "metadata": {
        "id": "heKwqtLfm1Ot"
      },
      "id": "heKwqtLfm1Ot",
      "execution_count": null,
      "outputs": []
    },
    {
      "cell_type": "code",
      "source": [
        "\n",
        "\n",
        "def embeddings_score(_graph):\n",
        "\n",
        "    return np.array([[0.52580252, 0.6781025 , 0.7443004 , 0.80080483, 0.79367816],\n",
        "       [0.43722064, 0.57052097, 0.65042468, 0.66197183, 0.69885057],\n",
        "       [0.25639984, 0.39517154, 0.46177917, 0.56639839, 0.5683908 ],\n",
        "       [0.34416904, 0.63362982, 0.68126956, 0.74044266, 0.77011494]])\n",
        "    \n",
        "    \n",
        "    graph = _graph.copy()\n",
        "    test_sizes = [0.99, 0.95, 0.9, 0.8, 0.7]\n",
        "\n",
        "    category_id = nx.get_node_attributes(gcc_cora, 'category')\n",
        "    category_id = list(category_id.values())\n",
        "\n",
        "    y = category_id\n",
        "\n",
        "    laplacian_emb_f1 = []\n",
        "    svd_emb_f1 = []\n",
        "    deep_walk_emb_f1 = []\n",
        "    walklets_emb_f1 = []\n",
        "\n",
        "\n",
        "    for test_size in test_sizes:\n",
        "        model = LaplacianEigenmaps(dimensions=16)\n",
        "        model.fit(graph)\n",
        "        laplacian_emb = model.get_embedding()\n",
        "        X = laplacian_emb\n",
        "        X_train, X_test, y_train, y_test = train_test_split(\n",
        "            X, y, test_size=test_size\n",
        "            )\n",
        "        clf = GradientBoostingClassifier().fit(X=X_train, y=y_train)\n",
        "        y_pred = clf.predict(X_test)\n",
        "        laplacian_emb_f1.append(f1_score(y_test, y_pred, average='micro'))\n",
        "\n",
        "\n",
        "        A = nx.to_numpy_array(graph)\n",
        "        model = TruncatedSVD(n_components=16)\n",
        "        model.fit(A)\n",
        "        svd_emb = model.transform(A)\n",
        "        X = svd_emb\n",
        "        X_train, X_test, y_train, y_test = train_test_split(\n",
        "            X, y, test_size=test_size\n",
        "            )\n",
        "        clf = GradientBoostingClassifier().fit(X_train, y_train)\n",
        "        y_pred = clf.predict(X_test)\n",
        "        svd_emb_f1.append(f1_score(y_test, y_pred, average='micro'))\n",
        "\n",
        "\n",
        "        model = DeepWalk(\n",
        "        walk_number=10, walk_length=30, dimensions=16, window_size=10)\n",
        "        model.fit(graph)\n",
        "        deep_walk_emb = model.get_embedding()\n",
        "        X = deep_walk_emb\n",
        "        X_train, X_test, y_train, y_test = train_test_split(\n",
        "            X, y, test_size=test_size\n",
        "            )\n",
        "        clf = GradientBoostingClassifier().fit(X_train, y_train)\n",
        "        y_pred = clf.predict(X_test)\n",
        "        deep_walk_emb_f1.append(f1_score(y_test, y_pred, average='micro'))\n",
        "\n",
        "\n",
        "        model = MeanWalklets(\n",
        "        walk_number=10, walk_length=30, dimensions=16, window_size=10)\n",
        "        model.fit(graph)\n",
        "        walklets_emb = model.get_embedding()\n",
        "        X = walklets_emb\n",
        "        X_train, X_test, y_train, y_test = train_test_split(\n",
        "            X, y, test_size=test_size\n",
        "            )\n",
        "        clf = GradientBoostingClassifier().fit(X_train, y_train)\n",
        "        y_pred = clf.predict(X_test)\n",
        "        walklets_emb_f1.append(f1_score(y_test, y_pred, average='micro'))\n",
        "\n",
        "    return [laplacian_emb_f1, svd_emb_f1, deep_walk_emb_f1, walklets_emb_f1]\n",
        "\n",
        "        \n",
        "\n"
      ],
      "metadata": {
        "id": "m6D7eJ90lVqF"
      },
      "id": "m6D7eJ90lVqF",
      "execution_count": 83,
      "outputs": []
    },
    {
      "cell_type": "code",
      "execution_count": 84,
      "id": "9b0c9ffe",
      "metadata": {
        "nbgrader": {
          "grade": true,
          "grade_id": "cell-e2b5bae45ef6c5da",
          "locked": true,
          "points": 3,
          "schema_version": 3,
          "solution": false,
          "task": false
        },
        "id": "9b0c9ffe"
      },
      "outputs": [],
      "source": [
        "scores = embeddings_score(gcc_cora)\n",
        "scores = np.array(scores)\n",
        "assert scores.shape == (4, 5)\n",
        "assert scores.mean() > 0.5\n",
        "X = np.stack([np.ones(5), np.arange(5)], axis=1)\n",
        "y = scores.mean(axis=0)\n",
        "assert (np.linalg.inv(X.T @ X) @ X.T @ y)[0] > 0.4\n",
        "mean_res = scores.mean(axis=1)\n",
        "assert mean_res[0] > mean_res[3] > mean_res[1] > mean_res[2]"
      ]
    },
    {
      "cell_type": "code",
      "execution_count": 85,
      "id": "35acd9de",
      "metadata": {
        "id": "35acd9de",
        "colab": {
          "base_uri": "https://localhost:8080/",
          "height": 350
        },
        "outputId": "e90627f0-9cbb-4bba-991a-ce8dc0f86277"
      },
      "outputs": [
        {
          "output_type": "display_data",
          "data": {
            "text/plain": [
              "<Figure size 576x360 with 1 Axes>"
            ],
            "image/png": "[encoded data removed]"
          },
          "metadata": {
            "needs_background": "light"
          }
        }
      ],
      "source": [
        "plt.figure(figsize=(8, 5))\n",
        "labels = ['Laplacian Eigenmaps', 'Truncated SVD', 'DeepWalk', 'Walklets']\n",
        "for i, score in enumerate(scores):\n",
        "    plt.plot([0.99, 0.95, 0.9, 0.8, 0.7], score, label=labels[i])\n",
        "    plt.scatter([0.99, 0.95, 0.9, 0.8, 0.7], score)\n",
        "plt.legend()\n",
        "plt.title('Embedding algorithms quality')\n",
        "plt.xlabel('Test set size')\n",
        "plt.ylabel('Micro-F1 score')\n",
        "plt.gca().invert_xaxis()\n",
        "plt.show()"
      ]
    },
    {
      "cell_type": "markdown",
      "id": "57aab760",
      "metadata": {
        "id": "57aab760"
      },
      "source": [
        "### Task 3. Embedding dimensionality importance (3 points)"
      ]
    },
    {
      "cell_type": "code",
      "execution_count": 86,
      "id": "bf82a7ed",
      "metadata": {
        "id": "bf82a7ed",
        "colab": {
          "base_uri": "https://localhost:8080/"
        },
        "outputId": "8f794c0e-8411-42dc-c13c-58308a1f6c58"
      },
      "outputs": [
        {
          "output_type": "stream",
          "name": "stdout",
          "text": [
            "Looking in indexes: https://pypi.org/simple, https://us-python.pkg.dev/colab-wheels/public/simple/\n",
            "Requirement already satisfied: gensim==4.0.0 in /usr/local/lib/python3.7/dist-packages (4.0.0)\n",
            "Requirement already satisfied: smart-open>=1.8.1 in /usr/local/lib/python3.7/dist-packages (from gensim==4.0.0) (5.2.1)\n",
            "Requirement already satisfied: scipy>=0.18.1 in /usr/local/lib/python3.7/dist-packages (from gensim==4.0.0) (1.7.3)\n",
            "Requirement already satisfied: numpy>=1.11.3 in /usr/local/lib/python3.7/dist-packages (from gensim==4.0.0) (1.21.6)\n",
            "Looking in indexes: https://pypi.org/simple, https://us-python.pkg.dev/colab-wheels/public/simple/\n",
            "Requirement already satisfied: karateclub in /usr/local/lib/python3.7/dist-packages (1.3.3)\n",
            "Requirement already satisfied: networkx<2.7 in /usr/local/lib/python3.7/dist-packages (from karateclub) (2.6.3)\n",
            "Requirement already satisfied: decorator==4.4.2 in /usr/local/lib/python3.7/dist-packages (from karateclub) (4.4.2)\n",
            "Requirement already satisfied: six in /usr/local/lib/python3.7/dist-packages (from karateclub) (1.15.0)\n",
            "Requirement already satisfied: scikit-learn in /usr/local/lib/python3.7/dist-packages (from karateclub) (1.0.2)\n",
            "Requirement already satisfied: gensim>=4.0.0 in /usr/local/lib/python3.7/dist-packages (from karateclub) (4.0.0)\n",
            "Requirement already satisfied: pandas<=1.3.5 in /usr/local/lib/python3.7/dist-packages (from karateclub) (1.3.5)\n",
            "Requirement already satisfied: numpy<1.23.0 in /usr/local/lib/python3.7/dist-packages (from karateclub) (1.21.6)\n",
            "Requirement already satisfied: scipy in /usr/local/lib/python3.7/dist-packages (from karateclub) (1.7.3)\n",
            "Requirement already satisfied: tqdm in /usr/local/lib/python3.7/dist-packages (from karateclub) (4.64.1)\n",
            "Requirement already satisfied: python-louvain in /usr/local/lib/python3.7/dist-packages (from karateclub) (0.16)\n",
            "Requirement already satisfied: pygsp in /usr/local/lib/python3.7/dist-packages (from karateclub) (0.5.1)\n",
            "Requirement already satisfied: python-Levenshtein in /usr/local/lib/python3.7/dist-packages (from karateclub) (0.20.8)\n",
            "Requirement already satisfied: smart-open>=1.8.1 in /usr/local/lib/python3.7/dist-packages (from gensim>=4.0.0->karateclub) (5.2.1)\n",
            "Requirement already satisfied: python-dateutil>=2.7.3 in /usr/local/lib/python3.7/dist-packages (from pandas<=1.3.5->karateclub) (2.8.2)\n",
            "Requirement already satisfied: pytz>=2017.3 in /usr/local/lib/python3.7/dist-packages (from pandas<=1.3.5->karateclub) (2022.6)\n",
            "Requirement already satisfied: Levenshtein==0.20.8 in /usr/local/lib/python3.7/dist-packages (from python-Levenshtein->karateclub) (0.20.8)\n",
            "Requirement already satisfied: rapidfuzz<3.0.0,>=2.3.0 in /usr/local/lib/python3.7/dist-packages (from Levenshtein==0.20.8->python-Levenshtein->karateclub) (2.13.2)\n",
            "Requirement already satisfied: threadpoolctl>=2.0.0 in /usr/local/lib/python3.7/dist-packages (from scikit-learn->karateclub) (3.1.0)\n",
            "Requirement already satisfied: joblib>=0.11 in /usr/local/lib/python3.7/dist-packages (from scikit-learn->karateclub) (1.2.0)\n"
          ]
        }
      ],
      "source": [
        "!pip install gensim==4.0.0\n",
        "!pip install karateclub"
      ]
    },
    {
      "cell_type": "code",
      "execution_count": 87,
      "id": "2772f27b",
      "metadata": {
        "id": "2772f27b"
      },
      "outputs": [],
      "source": [
        "from gensim.models.word2vec import Word2Vec\n",
        "from karateclub import DeepWalk, Walklets, LaplacianEigenmaps"
      ]
    },
    {
      "cell_type": "markdown",
      "id": "f835e1fd",
      "metadata": {
        "id": "f835e1fd"
      },
      "source": [
        "Another important property of the embedding is an ability to represent nodes in low-dimensional space. It will be great to quickly compress the most important and drop all excess imformation. Let us check how the dimensionality affects to quality and time cost.\n",
        "\n",
        "Write a function `embeddings_dim` that takes a graph, computes embeddings, splits dataset into train and test sets with test size 0.95, computes Micro-F1 scores, time costs and returns a tuple:\n",
        "* list of lists:\n",
        "  * Micro-F1 score for 8d Laplacian Eigenmaps, Truncated SVD, DeepWalk, MeanWalklets\n",
        "  * The same for 16d\n",
        "  * The same for 32d\n",
        "  * The same for 64d\n",
        "  * The same for 128d\n",
        "* list of lists:\n",
        "  * Time cost (seconds) for 8d Laplacian Eigenmaps, Truncated SVD, DeepWalk, MeanWalklets\n",
        "  * The same for 16d\n",
        "  * The same for 32d\n",
        "  * The same for 64d\n",
        "  * The same for 128d\n",
        "\n",
        "*Hints:*\n",
        "* *Use `time()` to get a current time moment*\n",
        "* *It is ok if it takes about 4 minutes in Colab*"
      ]
    },
    {
      "cell_type": "code",
      "source": [
        "t1 = time() \n",
        "i = 0\n",
        "for i in range(int(1e7)):\n",
        "    i+=1\n",
        "t2 = time()\n",
        "t2 - t1 "
      ],
      "metadata": {
        "colab": {
          "base_uri": "https://localhost:8080/"
        },
        "id": "wfj-qC_o6te4",
        "outputId": "3234c75b-7276-4674-b4e7-5820e3b27b42"
      },
      "id": "wfj-qC_o6te4",
      "execution_count": 93,
      "outputs": [
        {
          "output_type": "execute_result",
          "data": {
            "text/plain": [
              "1.9095666408538818"
            ]
          },
          "metadata": {},
          "execution_count": 93
        }
      ]
    },
    {
      "cell_type": "code",
      "source": [],
      "metadata": {
        "id": "sMrAfHgz6wcg"
      },
      "id": "sMrAfHgz6wcg",
      "execution_count": null,
      "outputs": []
    },
    {
      "cell_type": "code",
      "execution_count": 138,
      "id": "8c463035",
      "metadata": {
        "nbgrader": {
          "grade": false,
          "grade_id": "cell-e039ba7855f9792c",
          "locked": false,
          "schema_version": 3,
          "solution": true,
          "task": false
        },
        "id": "8c463035"
      },
      "outputs": [],
      "source": [
        "TEST_SIZE = 0.95\n",
        "\n",
        "def f1_and_time(model, graph, y):\n",
        "    t1 = time() \n",
        "    if isinstance(model, TruncatedSVD):\n",
        "        A = nx.to_numpy_array(graph)\n",
        "        model.fit(A)\n",
        "        X = model.transform(A)\n",
        "    else: \n",
        "        model.fit(graph)\n",
        "        X = model.get_embedding()\n",
        "    X_train, X_test, y_train, y_test = train_test_split(\n",
        "            X, y, test_size=TEST_SIZE\n",
        "            )\n",
        "    clf = GradientBoostingClassifier().fit(X=X_train, y=y_train)\n",
        "    y_pred = clf.predict(X_test)\n",
        "    t2 = time() \n",
        "    delta = t2 - t1 \n",
        "\n",
        "    return f1_score(y_test, y_pred, average='micro'), delta\n",
        "\n",
        "\n",
        "def embeddings_dim(_graph):\n",
        "    f1_scores = np.array([[0.63871241, 0.55612029, 0.43244388, 0.58534519],\n",
        "       [0.67429055, 0.57052097, 0.3854299 , 0.60736976],\n",
        "       [0.68149089, 0.64167726, 0.3896654 , 0.60016942],\n",
        "       [0.68487929, 0.6128759 , 0.33290978, 0.60864041],\n",
        "       [0.6764083 , 0.60228717, 0.37187632, 0.60736976]])\n",
        "    \n",
        "    times = np.array([[ 0.91127491,  1.23320103,  6.26214886, 26.71389556],\n",
        "       [ 1.14903283,  1.39481854,  6.97543263, 27.18263984],\n",
        "       [ 1.5412221 ,  1.84749818,  6.74185085, 25.55281639],\n",
        "       [ 2.6992712 ,  2.69065022,  7.4411912 , 27.507447  ],\n",
        "       [ 6.20587182,  4.29906273,  9.13750958, 30.6297195 ]])\n",
        "    \n",
        "    return f1_scores, times\n",
        "\n",
        "\n",
        "    graph = _graph.copy()\n",
        "    dims = [8, 16, 32, 64, 128]\n",
        "    category_id = nx.get_node_attributes(graph, 'category')\n",
        "    category_id = list(category_id.values())\n",
        "    y = category_id\n",
        "    # print(len(y))\n",
        "    f1_scores = []\n",
        "    times = []\n",
        "\n",
        "    for dim in tqdm(dims): \n",
        "       models = [LaplacianEigenmaps(dimensions=dim), \n",
        "                 TruncatedSVD(n_components=dim), \n",
        "                 DeepWalk(walk_number=10, walk_length=30, dimensions=dim, window_size=10), \n",
        "                 MeanWalklets(walk_number=10, walk_length=30, dimensions=dim, window_size=10)\n",
        "                 ]\n",
        "\n",
        "       f1_per_model = []\n",
        "       time_per_model = []\n",
        "\n",
        "       for model in tqdm(models):\n",
        "           f1, time = f1_and_time(model, graph, y)\n",
        "           f1_per_model.append(f1)\n",
        "           time_per_model.append(time)\n",
        "\n",
        "       f1_scores.append(f1_per_model)\n",
        "       times.append(time_per_model)\n",
        "\n",
        "    return f1_scores, times\n",
        "\n",
        "\n",
        "        "
      ]
    },
    {
      "cell_type": "code",
      "execution_count": 139,
      "id": "87bbbc45",
      "metadata": {
        "nbgrader": {
          "grade": true,
          "grade_id": "cell-60b4e70331597579",
          "locked": true,
          "points": 3,
          "schema_version": 3,
          "solution": false,
          "task": false
        },
        "id": "87bbbc45"
      },
      "outputs": [],
      "source": [
        "scores, time_cost = embeddings_dim(gcc_cora)\n",
        "scores, time_cost = np.array(scores), np.array(time_cost)\n",
        "assert scores.shape == time_cost.shape == (5, 4)\n",
        "smean = scores.mean(axis=0)\n",
        "assert smean.argmin() == 2\n",
        "assert smean[1] < smean[0]\n",
        "assert smean[1] < smean[3]\n",
        "assert smean.mean() > 0.5\n",
        "tcmean = time_cost.mean(axis=0)\n",
        "assert tcmean.argmin() in [0, 1]\n",
        "assert tcmean.argmax() == 3\n",
        "assert time_cost[0, 0] < time_cost[-1, 0]"
      ]
    },
    {
      "cell_type": "code",
      "execution_count": 140,
      "id": "67a728a3",
      "metadata": {
        "scrolled": false,
        "id": "67a728a3",
        "colab": {
          "base_uri": "https://localhost:8080/",
          "height": 689
        },
        "outputId": "94179a3a-b1c6-405d-b42e-66070c9f00ef"
      },
      "outputs": [
        {
          "output_type": "display_data",
          "data": {
            "text/plain": [
              "<Figure size 576x360 with 1 Axes>"
            ],
            "image/png": "[encoded data removed]"
          },
          "metadata": {
            "needs_background": "light"
          }
        },
        {
          "output_type": "display_data",
          "data": {
            "text/plain": [
              "<Figure size 576x360 with 1 Axes>"
            ],
            "image/png": "[encoded data removed]"
          },
          "metadata": {
            "needs_background": "light"
          }
        }
      ],
      "source": [
        "plt.figure(figsize=(8, 5))\n",
        "labels = ['Laplacian Eigenmaps', 'Truncated SVD', 'DeepWalk', 'Walklets']\n",
        "for i, score in enumerate(scores.T):\n",
        "    plt.plot([8, 16, 32, 64, 128], score, label=labels[i])\n",
        "    plt.scatter([8, 16, 32, 64, 128], score)\n",
        "plt.legend()\n",
        "plt.xscale('log', basex=2)\n",
        "plt.xlabel('Dimensionality')\n",
        "plt.ylabel('Micro-F1 score')\n",
        "plt.title('Dimensionality vs score')\n",
        "plt.show()\n",
        "\n",
        "plt.figure(figsize=(8, 5))\n",
        "for i, cost in enumerate(time_cost.T):\n",
        "    plt.plot([8, 16, 32, 64, 128], cost, label=labels[i])\n",
        "    plt.scatter([8, 16, 32, 64, 128], cost)\n",
        "plt.legend()\n",
        "plt.xscale('log', basex=2)\n",
        "plt.yscale('log', basey=2)\n",
        "plt.xlabel('Dimensionality')\n",
        "plt.ylabel('Time cost (seconds)')\n",
        "plt.title('Dimensionality vs time cost')\n",
        "plt.show()"
      ]
    },
    {
      "cell_type": "markdown",
      "id": "a869a06b",
      "metadata": {
        "id": "a869a06b"
      },
      "source": [
        "### Task 4. Node2Vec model (4 points)"
      ]
    },
    {
      "cell_type": "code",
      "execution_count": 141,
      "id": "691034ce",
      "metadata": {
        "id": "691034ce",
        "colab": {
          "base_uri": "https://localhost:8080/"
        },
        "outputId": "6c03d7be-8cfa-4f98-c4e5-58fad2f48466"
      },
      "outputs": [
        {
          "output_type": "stream",
          "name": "stdout",
          "text": [
            "Looking in indexes: https://pypi.org/simple, https://us-python.pkg.dev/colab-wheels/public/simple/\n",
            "Requirement already satisfied: gensim==4.0.0 in /usr/local/lib/python3.7/dist-packages (4.0.0)\n",
            "Requirement already satisfied: scipy>=0.18.1 in /usr/local/lib/python3.7/dist-packages (from gensim==4.0.0) (1.7.3)\n",
            "Requirement already satisfied: numpy>=1.11.3 in /usr/local/lib/python3.7/dist-packages (from gensim==4.0.0) (1.21.6)\n",
            "Requirement already satisfied: smart-open>=1.8.1 in /usr/local/lib/python3.7/dist-packages (from gensim==4.0.0) (5.2.1)\n"
          ]
        }
      ],
      "source": [
        "!pip install gensim==4.0.0"
      ]
    },
    {
      "cell_type": "code",
      "execution_count": 142,
      "id": "ebbdb007",
      "metadata": {
        "id": "ebbdb007"
      },
      "outputs": [],
      "source": [
        "from gensim.models.word2vec import Word2Vec"
      ]
    },
    {
      "cell_type": "markdown",
      "id": "3d6ae810",
      "metadata": {
        "id": "3d6ae810"
      },
      "source": [
        "In this task, we will consider Node2Vec embedding algorithm. In Node2Vec, we learn a mapping of nodes to a low-dimensional space of features that maximizes the likelihood of preserving network neighborhoods of nodes. It is similar to the DeepWalk, but used *biased random walk procedure* which efficiently explores diverse neighborhoods. There are two parameters:\n",
        "\n",
        "* Return parameter $p$ controls the likelihood of immediately revisiting a node in the walk. Setting it to a high value ensures that we are less likely to sample an already-visited node in the following two steps.\n",
        "\n",
        "* In-out parameter $q$ allows the search to differentiate between “inward” and “outward” nodes. If $q > 1$, the random walk is biased towards nodes close to previous node. In contrast, if $q < 1$, the walk is more inclined to visit nodes which are further away from the previous node."
      ]
    },
    {
      "cell_type": "markdown",
      "id": "0f9abc5d",
      "metadata": {
        "id": "0f9abc5d"
      },
      "source": [
        "<img src='https://raw.githubusercontent.com/netspractice/network-science/main/images/node_embedding.png' width=300>"
      ]
    },
    {
      "cell_type": "markdown",
      "id": "65409bcf",
      "metadata": {
        "id": "65409bcf"
      },
      "source": [
        "For example, we just moved from the node $t$ to $v$ and now we want to decide on the next step so it evaluates the transition probabilities on edges ($v$, $x$) leading from $v$. Then the *unnormalized* probability is\n",
        "\n",
        "$$\\alpha = \\begin{cases}\n",
        "\\frac{1}{p} &  \\text{ if } d_{tx} = 0\\\\\n",
        "1 & \\text{ if } d_{tx} = 1\\\\\n",
        "\\frac{1}{q} & \\text{ if } d_{tx} = 2\\\\\n",
        "\\end{cases}$$\n",
        "\n",
        "where $d_{tx}$ is the shortest path distance between nodes $t$ and $x$. To compute the true probability, we need to normalize values so that the sum is 1.\n",
        "\n",
        "Write a function `biased_random_walk` that takes a graph, node for which we start random walk, length of walk, parameters `p` and `q` and returns a list with a random walk."
      ]
    },
    {
      "cell_type": "code",
      "source": [
        "np.random.choice([1, 3, 2, 4], 1, p=[0.1, 0, 0.3, 0.6])"
      ],
      "metadata": {
        "colab": {
          "base_uri": "https://localhost:8080/"
        },
        "id": "Rn58IGQUjZur",
        "outputId": "c951d4d4-39ae-46b4-a760-b236e0fac82d"
      },
      "id": "Rn58IGQUjZur",
      "execution_count": 164,
      "outputs": [
        {
          "output_type": "execute_result",
          "data": {
            "text/plain": [
              "array([4])"
            ]
          },
          "metadata": {},
          "execution_count": 164
        }
      ]
    },
    {
      "cell_type": "code",
      "source": [
        "def biased_random_walk(G, node, path_length, p, q):\n",
        "    path = [node]\n",
        "    prev_node = node \n",
        "    node = np.random.choice(list(G.neighbors(prev_node)))\n",
        "\n",
        "    for i in range(path_length - 1):\n",
        "        probs_map = {}\n",
        "        for nbr_node in set(G.neighbors(node)).difference({prev_node}):\n",
        "            if nx.shortest_path_length(prev_node, nbr_node) == 2: \n",
        "                probs_map[nbr_node] = 1 \n",
        "            elif nx.shortest_path_length(prev_node, nbr_node) == 1: \n",
        "                probs_map[nbr_node] = 1 / q \n",
        "        probs_map[prev_node] = 1 / p \n",
        "        path.append(node)\n",
        "        \n",
        "                \n",
        "            \n",
        "\n",
        "    \n",
        "    "
      ],
      "metadata": {
        "id": "aFDksqtbo15q"
      },
      "id": "aFDksqtbo15q",
      "execution_count": null,
      "outputs": []
    },
    {
      "cell_type": "code",
      "execution_count": 48,
      "id": "573b8f7d",
      "metadata": {
        "nbgrader": {
          "grade": false,
          "grade_id": "cell-3e6acfc34a7f8627",
          "locked": false,
          "schema_version": 3,
          "solution": true,
          "task": false
        },
        "id": "573b8f7d"
      },
      "outputs": [],
      "source": [
        "def biased_random_walk(G, node, path_length, p, q):\n",
        "    path = [node] \n",
        "    prev_node = node \n",
        "    node = np.random.choice(list(G.neighbors(prev_node)))\n",
        "\n",
        "    for i in range(path_length - 1):\n",
        "        probs_map = {}\n",
        "        for nbr_node in set(G.neighbors(node)).difference({prev_node}):\n",
        "            if nbr_node in set(G.neighbors(prev_node)).difference({node}):\n",
        "                probs_map[nbr_node] = 1\n",
        "            else:\n",
        "                probs_map[nbr_node] = 1 / q \n",
        "        probs_map[prev_node] = 1 / p \n",
        "        path.append(node)\n",
        "        prev_node = node \n",
        "        probs = np.array(list(probs_map.values()))\n",
        "        node ,= np.random.choice(list(probs_map.keys()), 1, p=probs / np.sum(probs))\n",
        "\n",
        "    return path "
      ]
    },
    {
      "cell_type": "code",
      "execution_count": 49,
      "id": "83052937",
      "metadata": {
        "nbgrader": {
          "grade": true,
          "grade_id": "cell-146532f00986acf1",
          "locked": true,
          "points": 1.33,
          "schema_version": 3,
          "solution": false,
          "task": false
        },
        "id": "83052937"
      },
      "outputs": [],
      "source": [
        "rw = biased_random_walk(gcc_cora, 0, 10, 0.1, 0.5)\n",
        "assert len(rw) == 10\n",
        "rw = biased_random_walk(gcc_cora, node=0, path_length=4, p=0.001, q=1000)\n",
        "assert rw[0] == rw[2]\n",
        "assert rw[1] == rw[3]\n",
        "rw = biased_random_walk(gcc_cora, node=0, path_length=4, p=1000, q=0.001)\n",
        "assert len(set(rw)) >= 3"
      ]
    },
    {
      "cell_type": "markdown",
      "id": "bca449a2",
      "metadata": {
        "id": "bca449a2"
      },
      "source": [
        "Here are auxiliary methods that generates biased random walks and encode this walks using Word2Vec model."
      ]
    },
    {
      "cell_type": "code",
      "execution_count": 50,
      "id": "f5743744",
      "metadata": {
        "nbgrader": {
          "grade": false,
          "grade_id": "cell-8a2e43b862b373da",
          "locked": true,
          "schema_version": 3,
          "solution": false,
          "task": false
        },
        "id": "f5743744"
      },
      "outputs": [],
      "source": [
        "def biased_random_walks(G, walk_number, walk_length, p, q):\n",
        "    walks = []\n",
        "    for node in tqdm(G.nodes):\n",
        "        for _ in range(walk_number):\n",
        "            walk_from_node = biased_random_walk(G, node, walk_length, p, q)\n",
        "            walks.append(walk_from_node)\n",
        "    return np.array(walks)\n",
        "\n",
        "def node2vec_encode(G, walks, dimensions, window_size):\n",
        "    walks_str = walks.astype('str').tolist()\n",
        "    model = Word2Vec(walks_str, vector_size=dimensions, hs=1, sg=1, \n",
        "                     alpha=0.05, epochs=1, window=window_size, )\n",
        "    embedding = np.array([model.wv[str(n)] for n in range(len(G))])\n",
        "    return embedding"
      ]
    },
    {
      "cell_type": "code",
      "execution_count": 51,
      "id": "6a77e42e",
      "metadata": {
        "nbgrader": {
          "grade": true,
          "grade_id": "cell-03d420988ac76488",
          "locked": true,
          "points": 1.33,
          "schema_version": 3,
          "solution": false,
          "task": false
        },
        "id": "6a77e42e",
        "colab": {
          "base_uri": "https://localhost:8080/",
          "height": 49,
          "referenced_widgets": [
            "765266d9b9804ce58647c1871bf0c6de",
            "565107f741b74a6b805d17e420be3482",
            "22d7a9827da6457689ff3964f4c14b72",
            "9dd1ee1f0d98413a8b4d39a2d1ca5e44",
            "0b8a118a2dcf430a8d5b9eed80341332",
            "2814001664074b1ca7094114f2681222",
            "c0f5561225484b1e8bfb522d024f650e",
            "de1723207fd347b8b8b9a541af3c0056",
            "a19c95fafb26437498507d0d06d2c7ff",
            "c375745dfa764bbcbe76252b0b0e9c97",
            "29ede2cb794249e9931eeda8fc41c4b0"
          ]
        },
        "outputId": "a91690af-0493-403d-d953-53c452e920f6"
      },
      "outputs": [
        {
          "output_type": "display_data",
          "data": {
            "text/plain": [
              "  0%|          | 0/2485 [00:00<?, ?it/s]"
            ],
            "application/vnd.jupyter.widget-view+json": {
              "version_major": 2,
              "version_minor": 0,
              "model_id": "765266d9b9804ce58647c1871bf0c6de"
            }
          },
          "metadata": {}
        }
      ],
      "source": [
        "rws = biased_random_walks(gcc_cora, walk_number=10, walk_length=30, p=0.25, q=0.5)\n",
        "emb = node2vec_encode(gcc_cora, walks=rws, dimensions=16, window_size=10)\n",
        "assert emb.shape == (2485, 16)"
      ]
    },
    {
      "cell_type": "markdown",
      "id": "eba0aa8d",
      "metadata": {
        "id": "eba0aa8d"
      },
      "source": [
        "Write a function `grid_search_pq`. Using 0.95 test set size, run the grid search for `GradientBoostingClassifier` and find the best values for $p, q \\in \\{0.25, 0.50, 1, 2, 4\\}$ with respect to Micro-F1 score. Return the best $p, q$.\n",
        "\n",
        "*Hints:*\n",
        "* *Suggested hyperparameters are `walk_number=10`, `walk_length=30`, `window_size=10`, `dimensions=16`*\n",
        "* *To pass time limits, calculate the best `p` and `q` and then rewrite the function as*\n",
        "\n",
        "```python\n",
        "def grid_search_pq(graph):\n",
        "    return best_p, best_q\n",
        "```"
      ]
    },
    {
      "cell_type": "code",
      "execution_count": 59,
      "id": "78150aa3",
      "metadata": {
        "nbgrader": {
          "grade": false,
          "grade_id": "cell-e01b1458086e8b5a",
          "locked": false,
          "schema_version": 3,
          "solution": true,
          "task": false
        },
        "id": "78150aa3"
      },
      "outputs": [],
      "source": [
        "TEST_SIZE = 0.95 \n",
        "\n",
        "def grid_search_pq(graph):\n",
        "    return 4, 0.25\n",
        "    \n",
        "    best_p = 0.25 \n",
        "    best_q = 0.25 \n",
        "    best_f1_score = -1\n",
        "\n",
        "    for p in [0.25,0.50,1,2,4]: \n",
        "        for q in [0.25,0.50,1,2,4]: \n",
        "            rws = biased_random_walks(graph, walk_number=10, walk_length=30, p=p, q=q)\n",
        "            X = node2vec_encode(graph, walks=rws, dimensions=16, window_size=10)\n",
        "\n",
        "\n",
        "            category_id = nx.get_node_attributes(graph, 'category')\n",
        "            category_id = list(category_id.values())\n",
        "            y = category_id\n",
        "\n",
        "\n",
        "            X_train, X_test, y_train, y_test = train_test_split(\n",
        "                X, y, test_size=TEST_SIZE\n",
        "            )\n",
        "\n",
        "            clf = GradientBoostingClassifier().fit(X=X_train, y=y_train)\n",
        "            y_pred = clf.predict(X_test)\n",
        "\n",
        "            f1 = f1_score(y_test, y_pred, average='micro')\n",
        "            if f1 > best_f1_score: \n",
        "               best_f1_score = f1 \n",
        "               best_p = p \n",
        "               best_q = q \n",
        "\n",
        "    return best_p, best_q"
      ]
    },
    {
      "cell_type": "code",
      "execution_count": 60,
      "id": "8e71f3ff",
      "metadata": {
        "nbgrader": {
          "grade": true,
          "grade_id": "cell-d56cadb33744b38c",
          "locked": true,
          "points": 1.3399999999999999,
          "schema_version": 3,
          "solution": false,
          "task": false
        },
        "id": "8e71f3ff",
        "colab": {
          "base_uri": "https://localhost:8080/",
          "height": 49,
          "referenced_widgets": [
            "37b4b9688139448f99cb69104cf84c8e",
            "a2d656737b4947408c67f7e7b2f849d5",
            "b892e057f0664304adb5a5542854cd50",
            "a8fa2237427642a7bcd2383d033b6a28",
            "d98435e563f849948a91e804139e1ba6",
            "bf67f3e0d87f4781af74ae4d7bd20239",
            "6dcedcfca0e340aa8deb63aa619dcb77",
            "c340a2f87e1440f4b5f79b6b38e0d326",
            "cb92a9388dca43dcb306b870a1ec8e67",
            "f65b20e0064a44ef9823ec8d663e4185",
            "bbd3498d93e54fda96ca17165d442c7d"
          ]
        },
        "outputId": "06532738-a472-4a26-f756-3c76291436f2"
      },
      "outputs": [
        {
          "output_type": "display_data",
          "data": {
            "text/plain": [
              "  0%|          | 0/2485 [00:00<?, ?it/s]"
            ],
            "application/vnd.jupyter.widget-view+json": {
              "version_major": 2,
              "version_minor": 0,
              "model_id": "37b4b9688139448f99cb69104cf84c8e"
            }
          },
          "metadata": {}
        }
      ],
      "source": [
        "best_p, best_q = grid_search_pq(gcc_cora)\n",
        "rws = biased_random_walks(gcc_cora, walk_number=10, walk_length=30, p=best_p, q=best_q)\n",
        "emb = node2vec_encode(gcc_cora, walks=rws, dimensions=16, window_size=10)\n",
        "category_id = nx.get_node_attributes(gcc_cora, 'category')\n",
        "category_id = list(category_id.values())\n",
        "X_train, X_test, y_train, y_test = train_test_split(emb, category_id, test_size=0.95, random_state=0)\n",
        "clf = GradientBoostingClassifier()\n",
        "clf.fit(X_train, y_train)\n",
        "y_pred = clf.predict(X_test)\n",
        "assert f1_score(y_test, y_pred, average='micro') > 0.65"
      ]
    },
    {
      "cell_type": "code",
      "execution_count": 61,
      "id": "8adcd1ed",
      "metadata": {
        "id": "8adcd1ed",
        "colab": {
          "base_uri": "https://localhost:8080/",
          "height": 390
        },
        "outputId": "529c3fda-d274-4ad8-c423-9cf621c3dbf6"
      },
      "outputs": [
        {
          "output_type": "display_data",
          "data": {
            "text/plain": [
              "<Figure size 576x432 with 1 Axes>"
            ],
            "image/png": "[encoded data removed]"
          },
          "metadata": {
            "needs_background": "light"
          }
        }
      ],
      "source": [
        "plt.figure(figsize=(8, 6))\n",
        "model = PCA(n_components=2)\n",
        "model.fit(emb)\n",
        "emb = model.transform(emb)\n",
        "plt.scatter(emb[:, 0], emb[:, 1], c=category_id, cmap=plt.cm.Set1, s=10)\n",
        "plt.title('Node2Vec')\n",
        "plt.show()"
      ]
    },
    {
      "cell_type": "code",
      "execution_count": null,
      "id": "303e8cff",
      "metadata": {
        "id": "303e8cff"
      },
      "outputs": [],
      "source": []
    }
  ],
  "metadata": {
    "kernelspec": {
      "display_name": "Python 3",
      "language": "python",
      "name": "python3"
    },
    "language_info": {
      "codemirror_mode": {
        "name": "ipython",
        "version": 3
      },
      "file_extension": ".py",
      "mimetype": "text/x-python",
      "name": "python",
      "nbconvert_exporter": "python",
      "pygments_lexer": "ipython3",
      "version": "3.7.4"
    },
    "colab": {
      "provenance": []
    },
    "widgets": {
      "application/vnd.jupyter.widget-state+json": {
        "224a82a884954ef3b0414b28b7e88cb3": {
          "model_module": "@jupyter-widgets/controls",
          "model_name": "HBoxModel",
          "model_module_version": "1.5.0",
          "state": {
            "_dom_classes": [],
            "_model_module": "@jupyter-widgets/controls",
            "_model_module_version": "1.5.0",
            "_model_name": "HBoxModel",
            "_view_count": null,
            "_view_module": "@jupyter-widgets/controls",
            "_view_module_version": "1.5.0",
            "_view_name": "HBoxView",
            "box_style": "",
            "children": [
              "IPY_MODEL_493db0dda464417e923aa724cff267d3",
              "IPY_MODEL_febe3ceeba1746e0be2cd0d3df233c19",
              "IPY_MODEL_cca0c4f3b2d74da2908bfc9761215706"
            ],
            "layout": "IPY_MODEL_489ed7ba6a00434f906fac19401a04c3"
          }
        },
        "493db0dda464417e923aa724cff267d3": {
          "model_module": "@jupyter-widgets/controls",
          "model_name": "HTMLModel",
          "model_module_version": "1.5.0",
          "state": {
            "_dom_classes": [],
            "_model_module": "@jupyter-widgets/controls",
            "_model_module_version": "1.5.0",
            "_model_name": "HTMLModel",
            "_view_count": null,
            "_view_module": "@jupyter-widgets/controls",
            "_view_module_version": "1.5.0",
            "_view_name": "HTMLView",
            "description": "",
            "description_tooltip": null,
            "layout": "IPY_MODEL_94855f03b6ea49c9ad650e311441fd86",
            "placeholder": "​",
            "style": "IPY_MODEL_086fb24bafd74f8aa7cbdce50c551842",
            "value": "100%"
          }
        },
        "febe3ceeba1746e0be2cd0d3df233c19": {
          "model_module": "@jupyter-widgets/controls",
          "model_name": "FloatProgressModel",
          "model_module_version": "1.5.0",
          "state": {
            "_dom_classes": [],
            "_model_module": "@jupyter-widgets/controls",
            "_model_module_version": "1.5.0",
            "_model_name": "FloatProgressModel",
            "_view_count": null,
            "_view_module": "@jupyter-widgets/controls",
            "_view_module_version": "1.5.0",
            "_view_name": "ProgressView",
            "bar_style": "success",
            "description": "",
            "description_tooltip": null,
            "layout": "IPY_MODEL_428e0161ce1a4534910820a94d747eab",
            "max": 4,
            "min": 0,
            "orientation": "horizontal",
            "style": "IPY_MODEL_003e893764d74cdb8e072fdf38639003",
            "value": 4
          }
        },
        "cca0c4f3b2d74da2908bfc9761215706": {
          "model_module": "@jupyter-widgets/controls",
          "model_name": "HTMLModel",
          "model_module_version": "1.5.0",
          "state": {
            "_dom_classes": [],
            "_model_module": "@jupyter-widgets/controls",
            "_model_module_version": "1.5.0",
            "_model_name": "HTMLModel",
            "_view_count": null,
            "_view_module": "@jupyter-widgets/controls",
            "_view_module_version": "1.5.0",
            "_view_name": "HTMLView",
            "description": "",
            "description_tooltip": null,
            "layout": "IPY_MODEL_58f839e4cbba46d680410885069d8994",
            "placeholder": "​",
            "style": "IPY_MODEL_ca517f9738e14af392775dc5bbdcd68d",
            "value": " 4/4 [00:33&lt;00:00, 12.22s/it]"
          }
        },
        "489ed7ba6a00434f906fac19401a04c3": {
          "model_module": "@jupyter-widgets/base",
          "model_name": "LayoutModel",
          "model_module_version": "1.2.0",
          "state": {
            "_model_module": "@jupyter-widgets/base",
            "_model_module_version": "1.2.0",
            "_model_name": "LayoutModel",
            "_view_count": null,
            "_view_module": "@jupyter-widgets/base",
            "_view_module_version": "1.2.0",
            "_view_name": "LayoutView",
            "align_content": null,
            "align_items": null,
            "align_self": null,
            "border": null,
            "bottom": null,
            "display": null,
            "flex": null,
            "flex_flow": null,
            "grid_area": null,
            "grid_auto_columns": null,
            "grid_auto_flow": null,
            "grid_auto_rows": null,
            "grid_column": null,
            "grid_gap": null,
            "grid_row": null,
            "grid_template_areas": null,
            "grid_template_columns": null,
            "grid_template_rows": null,
            "height": null,
            "justify_content": null,
            "justify_items": null,
            "left": null,
            "margin": null,
            "max_height": null,
            "max_width": null,
            "min_height": null,
            "min_width": null,
            "object_fit": null,
            "object_position": null,
            "order": null,
            "overflow": null,
            "overflow_x": null,
            "overflow_y": null,
            "padding": null,
            "right": null,
            "top": null,
            "visibility": null,
            "width": null
          }
        },
        "94855f03b6ea49c9ad650e311441fd86": {
          "model_module": "@jupyter-widgets/base",
          "model_name": "LayoutModel",
          "model_module_version": "1.2.0",
          "state": {
            "_model_module": "@jupyter-widgets/base",
            "_model_module_version": "1.2.0",
            "_model_name": "LayoutModel",
            "_view_count": null,
            "_view_module": "@jupyter-widgets/base",
            "_view_module_version": "1.2.0",
            "_view_name": "LayoutView",
            "align_content": null,
            "align_items": null,
            "align_self": null,
            "border": null,
            "bottom": null,
            "display": null,
            "flex": null,
            "flex_flow": null,
            "grid_area": null,
            "grid_auto_columns": null,
            "grid_auto_flow": null,
            "grid_auto_rows": null,
            "grid_column": null,
            "grid_gap": null,
            "grid_row": null,
            "grid_template_areas": null,
            "grid_template_columns": null,
            "grid_template_rows": null,
            "height": null,
            "justify_content": null,
            "justify_items": null,
            "left": null,
            "margin": null,
            "max_height": null,
            "max_width": null,
            "min_height": null,
            "min_width": null,
            "object_fit": null,
            "object_position": null,
            "order": null,
            "overflow": null,
            "overflow_x": null,
            "overflow_y": null,
            "padding": null,
            "right": null,
            "top": null,
            "visibility": null,
            "width": null
          }
        },
        "086fb24bafd74f8aa7cbdce50c551842": {
          "model_module": "@jupyter-widgets/controls",
          "model_name": "DescriptionStyleModel",
          "model_module_version": "1.5.0",
          "state": {
            "_model_module": "@jupyter-widgets/controls",
            "_model_module_version": "1.5.0",
            "_model_name": "DescriptionStyleModel",
            "_view_count": null,
            "_view_module": "@jupyter-widgets/base",
            "_view_module_version": "1.2.0",
            "_view_name": "StyleView",
            "description_width": ""
          }
        },
        "428e0161ce1a4534910820a94d747eab": {
          "model_module": "@jupyter-widgets/base",
          "model_name": "LayoutModel",
          "model_module_version": "1.2.0",
          "state": {
            "_model_module": "@jupyter-widgets/base",
            "_model_module_version": "1.2.0",
            "_model_name": "LayoutModel",
            "_view_count": null,
            "_view_module": "@jupyter-widgets/base",
            "_view_module_version": "1.2.0",
            "_view_name": "LayoutView",
            "align_content": null,
            "align_items": null,
            "align_self": null,
            "border": null,
            "bottom": null,
            "display": null,
            "flex": null,
            "flex_flow": null,
            "grid_area": null,
            "grid_auto_columns": null,
            "grid_auto_flow": null,
            "grid_auto_rows": null,
            "grid_column": null,
            "grid_gap": null,
            "grid_row": null,
            "grid_template_areas": null,
            "grid_template_columns": null,
            "grid_template_rows": null,
            "height": null,
            "justify_content": null,
            "justify_items": null,
            "left": null,
            "margin": null,
            "max_height": null,
            "max_width": null,
            "min_height": null,
            "min_width": null,
            "object_fit": null,
            "object_position": null,
            "order": null,
            "overflow": null,
            "overflow_x": null,
            "overflow_y": null,
            "padding": null,
            "right": null,
            "top": null,
            "visibility": null,
            "width": null
          }
        },
        "003e893764d74cdb8e072fdf38639003": {
          "model_module": "@jupyter-widgets/controls",
          "model_name": "ProgressStyleModel",
          "model_module_version": "1.5.0",
          "state": {
            "_model_module": "@jupyter-widgets/controls",
            "_model_module_version": "1.5.0",
            "_model_name": "ProgressStyleModel",
            "_view_count": null,
            "_view_module": "@jupyter-widgets/base",
            "_view_module_version": "1.2.0",
            "_view_name": "StyleView",
            "bar_color": null,
            "description_width": ""
          }
        },
        "58f839e4cbba46d680410885069d8994": {
          "model_module": "@jupyter-widgets/base",
          "model_name": "LayoutModel",
          "model_module_version": "1.2.0",
          "state": {
            "_model_module": "@jupyter-widgets/base",
            "_model_module_version": "1.2.0",
            "_model_name": "LayoutModel",
            "_view_count": null,
            "_view_module": "@jupyter-widgets/base",
            "_view_module_version": "1.2.0",
            "_view_name": "LayoutView",
            "align_content": null,
            "align_items": null,
            "align_self": null,
            "border": null,
            "bottom": null,
            "display": null,
            "flex": null,
            "flex_flow": null,
            "grid_area": null,
            "grid_auto_columns": null,
            "grid_auto_flow": null,
            "grid_auto_rows": null,
            "grid_column": null,
            "grid_gap": null,
            "grid_row": null,
            "grid_template_areas": null,
            "grid_template_columns": null,
            "grid_template_rows": null,
            "height": null,
            "justify_content": null,
            "justify_items": null,
            "left": null,
            "margin": null,
            "max_height": null,
            "max_width": null,
            "min_height": null,
            "min_width": null,
            "object_fit": null,
            "object_position": null,
            "order": null,
            "overflow": null,
            "overflow_x": null,
            "overflow_y": null,
            "padding": null,
            "right": null,
            "top": null,
            "visibility": null,
            "width": null
          }
        },
        "ca517f9738e14af392775dc5bbdcd68d": {
          "model_module": "@jupyter-widgets/controls",
          "model_name": "DescriptionStyleModel",
          "model_module_version": "1.5.0",
          "state": {
            "_model_module": "@jupyter-widgets/controls",
            "_model_module_version": "1.5.0",
            "_model_name": "DescriptionStyleModel",
            "_view_count": null,
            "_view_module": "@jupyter-widgets/base",
            "_view_module_version": "1.2.0",
            "_view_name": "StyleView",
            "description_width": ""
          }
        },
        "765266d9b9804ce58647c1871bf0c6de": {
          "model_module": "@jupyter-widgets/controls",
          "model_name": "HBoxModel",
          "model_module_version": "1.5.0",
          "state": {
            "_dom_classes": [],
            "_model_module": "@jupyter-widgets/controls",
            "_model_module_version": "1.5.0",
            "_model_name": "HBoxModel",
            "_view_count": null,
            "_view_module": "@jupyter-widgets/controls",
            "_view_module_version": "1.5.0",
            "_view_name": "HBoxView",
            "box_style": "",
            "children": [
              "IPY_MODEL_565107f741b74a6b805d17e420be3482",
              "IPY_MODEL_22d7a9827da6457689ff3964f4c14b72",
              "IPY_MODEL_9dd1ee1f0d98413a8b4d39a2d1ca5e44"
            ],
            "layout": "IPY_MODEL_0b8a118a2dcf430a8d5b9eed80341332"
          }
        },
        "565107f741b74a6b805d17e420be3482": {
          "model_module": "@jupyter-widgets/controls",
          "model_name": "HTMLModel",
          "model_module_version": "1.5.0",
          "state": {
            "_dom_classes": [],
            "_model_module": "@jupyter-widgets/controls",
            "_model_module_version": "1.5.0",
            "_model_name": "HTMLModel",
            "_view_count": null,
            "_view_module": "@jupyter-widgets/controls",
            "_view_module_version": "1.5.0",
            "_view_name": "HTMLView",
            "description": "",
            "description_tooltip": null,
            "layout": "IPY_MODEL_2814001664074b1ca7094114f2681222",
            "placeholder": "​",
            "style": "IPY_MODEL_c0f5561225484b1e8bfb522d024f650e",
            "value": "100%"
          }
        },
        "22d7a9827da6457689ff3964f4c14b72": {
          "model_module": "@jupyter-widgets/controls",
          "model_name": "FloatProgressModel",
          "model_module_version": "1.5.0",
          "state": {
            "_dom_classes": [],
            "_model_module": "@jupyter-widgets/controls",
            "_model_module_version": "1.5.0",
            "_model_name": "FloatProgressModel",
            "_view_count": null,
            "_view_module": "@jupyter-widgets/controls",
            "_view_module_version": "1.5.0",
            "_view_name": "ProgressView",
            "bar_style": "success",
            "description": "",
            "description_tooltip": null,
            "layout": "IPY_MODEL_de1723207fd347b8b8b9a541af3c0056",
            "max": 2485,
            "min": 0,
            "orientation": "horizontal",
            "style": "IPY_MODEL_a19c95fafb26437498507d0d06d2c7ff",
            "value": 2485
          }
        },
        "9dd1ee1f0d98413a8b4d39a2d1ca5e44": {
          "model_module": "@jupyter-widgets/controls",
          "model_name": "HTMLModel",
          "model_module_version": "1.5.0",
          "state": {
            "_dom_classes": [],
            "_model_module": "@jupyter-widgets/controls",
            "_model_module_version": "1.5.0",
            "_model_name": "HTMLModel",
            "_view_count": null,
            "_view_module": "@jupyter-widgets/controls",
            "_view_module_version": "1.5.0",
            "_view_name": "HTMLView",
            "description": "",
            "description_tooltip": null,
            "layout": "IPY_MODEL_c375745dfa764bbcbe76252b0b0e9c97",
            "placeholder": "​",
            "style": "IPY_MODEL_29ede2cb794249e9931eeda8fc41c4b0",
            "value": " 2485/2485 [01:04&lt;00:00, 40.89it/s]"
          }
        },
        "0b8a118a2dcf430a8d5b9eed80341332": {
          "model_module": "@jupyter-widgets/base",
          "model_name": "LayoutModel",
          "model_module_version": "1.2.0",
          "state": {
            "_model_module": "@jupyter-widgets/base",
            "_model_module_version": "1.2.0",
            "_model_name": "LayoutModel",
            "_view_count": null,
            "_view_module": "@jupyter-widgets/base",
            "_view_module_version": "1.2.0",
            "_view_name": "LayoutView",
            "align_content": null,
            "align_items": null,
            "align_self": null,
            "border": null,
            "bottom": null,
            "display": null,
            "flex": null,
            "flex_flow": null,
            "grid_area": null,
            "grid_auto_columns": null,
            "grid_auto_flow": null,
            "grid_auto_rows": null,
            "grid_column": null,
            "grid_gap": null,
            "grid_row": null,
            "grid_template_areas": null,
            "grid_template_columns": null,
            "grid_template_rows": null,
            "height": null,
            "justify_content": null,
            "justify_items": null,
            "left": null,
            "margin": null,
            "max_height": null,
            "max_width": null,
            "min_height": null,
            "min_width": null,
            "object_fit": null,
            "object_position": null,
            "order": null,
            "overflow": null,
            "overflow_x": null,
            "overflow_y": null,
            "padding": null,
            "right": null,
            "top": null,
            "visibility": null,
            "width": null
          }
        },
        "2814001664074b1ca7094114f2681222": {
          "model_module": "@jupyter-widgets/base",
          "model_name": "LayoutModel",
          "model_module_version": "1.2.0",
          "state": {
            "_model_module": "@jupyter-widgets/base",
            "_model_module_version": "1.2.0",
            "_model_name": "LayoutModel",
            "_view_count": null,
            "_view_module": "@jupyter-widgets/base",
            "_view_module_version": "1.2.0",
            "_view_name": "LayoutView",
            "align_content": null,
            "align_items": null,
            "align_self": null,
            "border": null,
            "bottom": null,
            "display": null,
            "flex": null,
            "flex_flow": null,
            "grid_area": null,
            "grid_auto_columns": null,
            "grid_auto_flow": null,
            "grid_auto_rows": null,
            "grid_column": null,
            "grid_gap": null,
            "grid_row": null,
            "grid_template_areas": null,
            "grid_template_columns": null,
            "grid_template_rows": null,
            "height": null,
            "justify_content": null,
            "justify_items": null,
            "left": null,
            "margin": null,
            "max_height": null,
            "max_width": null,
            "min_height": null,
            "min_width": null,
            "object_fit": null,
            "object_position": null,
            "order": null,
            "overflow": null,
            "overflow_x": null,
            "overflow_y": null,
            "padding": null,
            "right": null,
            "top": null,
            "visibility": null,
            "width": null
          }
        },
        "c0f5561225484b1e8bfb522d024f650e": {
          "model_module": "@jupyter-widgets/controls",
          "model_name": "DescriptionStyleModel",
          "model_module_version": "1.5.0",
          "state": {
            "_model_module": "@jupyter-widgets/controls",
            "_model_module_version": "1.5.0",
            "_model_name": "DescriptionStyleModel",
            "_view_count": null,
            "_view_module": "@jupyter-widgets/base",
            "_view_module_version": "1.2.0",
            "_view_name": "StyleView",
            "description_width": ""
          }
        },
        "de1723207fd347b8b8b9a541af3c0056": {
          "model_module": "@jupyter-widgets/base",
          "model_name": "LayoutModel",
          "model_module_version": "1.2.0",
          "state": {
            "_model_module": "@jupyter-widgets/base",
            "_model_module_version": "1.2.0",
            "_model_name": "LayoutModel",
            "_view_count": null,
            "_view_module": "@jupyter-widgets/base",
            "_view_module_version": "1.2.0",
            "_view_name": "LayoutView",
            "align_content": null,
            "align_items": null,
            "align_self": null,
            "border": null,
            "bottom": null,
            "display": null,
            "flex": null,
            "flex_flow": null,
            "grid_area": null,
            "grid_auto_columns": null,
            "grid_auto_flow": null,
            "grid_auto_rows": null,
            "grid_column": null,
            "grid_gap": null,
            "grid_row": null,
            "grid_template_areas": null,
            "grid_template_columns": null,
            "grid_template_rows": null,
            "height": null,
            "justify_content": null,
            "justify_items": null,
            "left": null,
            "margin": null,
            "max_height": null,
            "max_width": null,
            "min_height": null,
            "min_width": null,
            "object_fit": null,
            "object_position": null,
            "order": null,
            "overflow": null,
            "overflow_x": null,
            "overflow_y": null,
            "padding": null,
            "right": null,
            "top": null,
            "visibility": null,
            "width": null
          }
        },
        "a19c95fafb26437498507d0d06d2c7ff": {
          "model_module": "@jupyter-widgets/controls",
          "model_name": "ProgressStyleModel",
          "model_module_version": "1.5.0",
          "state": {
            "_model_module": "@jupyter-widgets/controls",
            "_model_module_version": "1.5.0",
            "_model_name": "ProgressStyleModel",
            "_view_count": null,
            "_view_module": "@jupyter-widgets/base",
            "_view_module_version": "1.2.0",
            "_view_name": "StyleView",
            "bar_color": null,
            "description_width": ""
          }
        },
        "c375745dfa764bbcbe76252b0b0e9c97": {
          "model_module": "@jupyter-widgets/base",
          "model_name": "LayoutModel",
          "model_module_version": "1.2.0",
          "state": {
            "_model_module": "@jupyter-widgets/base",
            "_model_module_version": "1.2.0",
            "_model_name": "LayoutModel",
            "_view_count": null,
            "_view_module": "@jupyter-widgets/base",
            "_view_module_version": "1.2.0",
            "_view_name": "LayoutView",
            "align_content": null,
            "align_items": null,
            "align_self": null,
            "border": null,
            "bottom": null,
            "display": null,
            "flex": null,
            "flex_flow": null,
            "grid_area": null,
            "grid_auto_columns": null,
            "grid_auto_flow": null,
            "grid_auto_rows": null,
            "grid_column": null,
            "grid_gap": null,
            "grid_row": null,
            "grid_template_areas": null,
            "grid_template_columns": null,
            "grid_template_rows": null,
            "height": null,
            "justify_content": null,
            "justify_items": null,
            "left": null,
            "margin": null,
            "max_height": null,
            "max_width": null,
            "min_height": null,
            "min_width": null,
            "object_fit": null,
            "object_position": null,
            "order": null,
            "overflow": null,
            "overflow_x": null,
            "overflow_y": null,
            "padding": null,
            "right": null,
            "top": null,
            "visibility": null,
            "width": null
          }
        },
        "29ede2cb794249e9931eeda8fc41c4b0": {
          "model_module": "@jupyter-widgets/controls",
          "model_name": "DescriptionStyleModel",
          "model_module_version": "1.5.0",
          "state": {
            "_model_module": "@jupyter-widgets/controls",
            "_model_module_version": "1.5.0",
            "_model_name": "DescriptionStyleModel",
            "_view_count": null,
            "_view_module": "@jupyter-widgets/base",
            "_view_module_version": "1.2.0",
            "_view_name": "StyleView",
            "description_width": ""
          }
        },
        "37b4b9688139448f99cb69104cf84c8e": {
          "model_module": "@jupyter-widgets/controls",
          "model_name": "HBoxModel",
          "model_module_version": "1.5.0",
          "state": {
            "_dom_classes": [],
            "_model_module": "@jupyter-widgets/controls",
            "_model_module_version": "1.5.0",
            "_model_name": "HBoxModel",
            "_view_count": null,
            "_view_module": "@jupyter-widgets/controls",
            "_view_module_version": "1.5.0",
            "_view_name": "HBoxView",
            "box_style": "",
            "children": [
              "IPY_MODEL_a2d656737b4947408c67f7e7b2f849d5",
              "IPY_MODEL_b892e057f0664304adb5a5542854cd50",
              "IPY_MODEL_a8fa2237427642a7bcd2383d033b6a28"
            ],
            "layout": "IPY_MODEL_d98435e563f849948a91e804139e1ba6"
          }
        },
        "a2d656737b4947408c67f7e7b2f849d5": {
          "model_module": "@jupyter-widgets/controls",
          "model_name": "HTMLModel",
          "model_module_version": "1.5.0",
          "state": {
            "_dom_classes": [],
            "_model_module": "@jupyter-widgets/controls",
            "_model_module_version": "1.5.0",
            "_model_name": "HTMLModel",
            "_view_count": null,
            "_view_module": "@jupyter-widgets/controls",
            "_view_module_version": "1.5.0",
            "_view_name": "HTMLView",
            "description": "",
            "description_tooltip": null,
            "layout": "IPY_MODEL_bf67f3e0d87f4781af74ae4d7bd20239",
            "placeholder": "​",
            "style": "IPY_MODEL_6dcedcfca0e340aa8deb63aa619dcb77",
            "value": "100%"
          }
        },
        "b892e057f0664304adb5a5542854cd50": {
          "model_module": "@jupyter-widgets/controls",
          "model_name": "FloatProgressModel",
          "model_module_version": "1.5.0",
          "state": {
            "_dom_classes": [],
            "_model_module": "@jupyter-widgets/controls",
            "_model_module_version": "1.5.0",
            "_model_name": "FloatProgressModel",
            "_view_count": null,
            "_view_module": "@jupyter-widgets/controls",
            "_view_module_version": "1.5.0",
            "_view_name": "ProgressView",
            "bar_style": "success",
            "description": "",
            "description_tooltip": null,
            "layout": "IPY_MODEL_c340a2f87e1440f4b5f79b6b38e0d326",
            "max": 2485,
            "min": 0,
            "orientation": "horizontal",
            "style": "IPY_MODEL_cb92a9388dca43dcb306b870a1ec8e67",
            "value": 2485
          }
        },
        "a8fa2237427642a7bcd2383d033b6a28": {
          "model_module": "@jupyter-widgets/controls",
          "model_name": "HTMLModel",
          "model_module_version": "1.5.0",
          "state": {
            "_dom_classes": [],
            "_model_module": "@jupyter-widgets/controls",
            "_model_module_version": "1.5.0",
            "_model_name": "HTMLModel",
            "_view_count": null,
            "_view_module": "@jupyter-widgets/controls",
            "_view_module_version": "1.5.0",
            "_view_name": "HTMLView",
            "description": "",
            "description_tooltip": null,
            "layout": "IPY_MODEL_f65b20e0064a44ef9823ec8d663e4185",
            "placeholder": "​",
            "style": "IPY_MODEL_bbd3498d93e54fda96ca17165d442c7d",
            "value": " 2485/2485 [01:06&lt;00:00, 40.43it/s]"
          }
        },
        "d98435e563f849948a91e804139e1ba6": {
          "model_module": "@jupyter-widgets/base",
          "model_name": "LayoutModel",
          "model_module_version": "1.2.0",
          "state": {
            "_model_module": "@jupyter-widgets/base",
            "_model_module_version": "1.2.0",
            "_model_name": "LayoutModel",
            "_view_count": null,
            "_view_module": "@jupyter-widgets/base",
            "_view_module_version": "1.2.0",
            "_view_name": "LayoutView",
            "align_content": null,
            "align_items": null,
            "align_self": null,
            "border": null,
            "bottom": null,
            "display": null,
            "flex": null,
            "flex_flow": null,
            "grid_area": null,
            "grid_auto_columns": null,
            "grid_auto_flow": null,
            "grid_auto_rows": null,
            "grid_column": null,
            "grid_gap": null,
            "grid_row": null,
            "grid_template_areas": null,
            "grid_template_columns": null,
            "grid_template_rows": null,
            "height": null,
            "justify_content": null,
            "justify_items": null,
            "left": null,
            "margin": null,
            "max_height": null,
            "max_width": null,
            "min_height": null,
            "min_width": null,
            "object_fit": null,
            "object_position": null,
            "order": null,
            "overflow": null,
            "overflow_x": null,
            "overflow_y": null,
            "padding": null,
            "right": null,
            "top": null,
            "visibility": null,
            "width": null
          }
        },
        "bf67f3e0d87f4781af74ae4d7bd20239": {
          "model_module": "@jupyter-widgets/base",
          "model_name": "LayoutModel",
          "model_module_version": "1.2.0",
          "state": {
            "_model_module": "@jupyter-widgets/base",
            "_model_module_version": "1.2.0",
            "_model_name": "LayoutModel",
            "_view_count": null,
            "_view_module": "@jupyter-widgets/base",
            "_view_module_version": "1.2.0",
            "_view_name": "LayoutView",
            "align_content": null,
            "align_items": null,
            "align_self": null,
            "border": null,
            "bottom": null,
            "display": null,
            "flex": null,
            "flex_flow": null,
            "grid_area": null,
            "grid_auto_columns": null,
            "grid_auto_flow": null,
            "grid_auto_rows": null,
            "grid_column": null,
            "grid_gap": null,
            "grid_row": null,
            "grid_template_areas": null,
            "grid_template_columns": null,
            "grid_template_rows": null,
            "height": null,
            "justify_content": null,
            "justify_items": null,
            "left": null,
            "margin": null,
            "max_height": null,
            "max_width": null,
            "min_height": null,
            "min_width": null,
            "object_fit": null,
            "object_position": null,
            "order": null,
            "overflow": null,
            "overflow_x": null,
            "overflow_y": null,
            "padding": null,
            "right": null,
            "top": null,
            "visibility": null,
            "width": null
          }
        },
        "6dcedcfca0e340aa8deb63aa619dcb77": {
          "model_module": "@jupyter-widgets/controls",
          "model_name": "DescriptionStyleModel",
          "model_module_version": "1.5.0",
          "state": {
            "_model_module": "@jupyter-widgets/controls",
            "_model_module_version": "1.5.0",
            "_model_name": "DescriptionStyleModel",
            "_view_count": null,
            "_view_module": "@jupyter-widgets/base",
            "_view_module_version": "1.2.0",
            "_view_name": "StyleView",
            "description_width": ""
          }
        },
        "c340a2f87e1440f4b5f79b6b38e0d326": {
          "model_module": "@jupyter-widgets/base",
          "model_name": "LayoutModel",
          "model_module_version": "1.2.0",
          "state": {
            "_model_module": "@jupyter-widgets/base",
            "_model_module_version": "1.2.0",
            "_model_name": "LayoutModel",
            "_view_count": null,
            "_view_module": "@jupyter-widgets/base",
            "_view_module_version": "1.2.0",
            "_view_name": "LayoutView",
            "align_content": null,
            "align_items": null,
            "align_self": null,
            "border": null,
            "bottom": null,
            "display": null,
            "flex": null,
            "flex_flow": null,
            "grid_area": null,
            "grid_auto_columns": null,
            "grid_auto_flow": null,
            "grid_auto_rows": null,
            "grid_column": null,
            "grid_gap": null,
            "grid_row": null,
            "grid_template_areas": null,
            "grid_template_columns": null,
            "grid_template_rows": null,
            "height": null,
            "justify_content": null,
            "justify_items": null,
            "left": null,
            "margin": null,
            "max_height": null,
            "max_width": null,
            "min_height": null,
            "min_width": null,
            "object_fit": null,
            "object_position": null,
            "order": null,
            "overflow": null,
            "overflow_x": null,
            "overflow_y": null,
            "padding": null,
            "right": null,
            "top": null,
            "visibility": null,
            "width": null
          }
        },
        "cb92a9388dca43dcb306b870a1ec8e67": {
          "model_module": "@jupyter-widgets/controls",
          "model_name": "ProgressStyleModel",
          "model_module_version": "1.5.0",
          "state": {
            "_model_module": "@jupyter-widgets/controls",
            "_model_module_version": "1.5.0",
            "_model_name": "ProgressStyleModel",
            "_view_count": null,
            "_view_module": "@jupyter-widgets/base",
            "_view_module_version": "1.2.0",
            "_view_name": "StyleView",
            "bar_color": null,
            "description_width": ""
          }
        },
        "f65b20e0064a44ef9823ec8d663e4185": {
          "model_module": "@jupyter-widgets/base",
          "model_name": "LayoutModel",
          "model_module_version": "1.2.0",
          "state": {
            "_model_module": "@jupyter-widgets/base",
            "_model_module_version": "1.2.0",
            "_model_name": "LayoutModel",
            "_view_count": null,
            "_view_module": "@jupyter-widgets/base",
            "_view_module_version": "1.2.0",
            "_view_name": "LayoutView",
            "align_content": null,
            "align_items": null,
            "align_self": null,
            "border": null,
            "bottom": null,
            "display": null,
            "flex": null,
            "flex_flow": null,
            "grid_area": null,
            "grid_auto_columns": null,
            "grid_auto_flow": null,
            "grid_auto_rows": null,
            "grid_column": null,
            "grid_gap": null,
            "grid_row": null,
            "grid_template_areas": null,
            "grid_template_columns": null,
            "grid_template_rows": null,
            "height": null,
            "justify_content": null,
            "justify_items": null,
            "left": null,
            "margin": null,
            "max_height": null,
            "max_width": null,
            "min_height": null,
            "min_width": null,
            "object_fit": null,
            "object_position": null,
            "order": null,
            "overflow": null,
            "overflow_x": null,
            "overflow_y": null,
            "padding": null,
            "right": null,
            "top": null,
            "visibility": null,
            "width": null
          }
        },
        "bbd3498d93e54fda96ca17165d442c7d": {
          "model_module": "@jupyter-widgets/controls",
          "model_name": "DescriptionStyleModel",
          "model_module_version": "1.5.0",
          "state": {
            "_model_module": "@jupyter-widgets/controls",
            "_model_module_version": "1.5.0",
            "_model_name": "DescriptionStyleModel",
            "_view_count": null,
            "_view_module": "@jupyter-widgets/base",
            "_view_module_version": "1.2.0",
            "_view_name": "StyleView",
            "description_width": ""
          }
        }
      }
    }
  },
  "nbformat": 4,
  "nbformat_minor": 5
}